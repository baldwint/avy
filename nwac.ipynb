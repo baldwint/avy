{
 "cells": [
  {
   "cell_type": "markdown",
   "metadata": {},
   "source": [
    "# scraping"
   ]
  },
  {
   "cell_type": "code",
   "execution_count": 1,
   "metadata": {
    "collapsed": true
   },
   "outputs": [],
   "source": [
    "import pandas as pd"
   ]
  },
  {
   "cell_type": "code",
   "execution_count": 2,
   "metadata": {
    "collapsed": false
   },
   "outputs": [],
   "source": [
    "import requests\n",
    "import bs4"
   ]
  },
  {
   "cell_type": "code",
   "execution_count": 3,
   "metadata": {
    "collapsed": false
   },
   "outputs": [],
   "source": [
    "def get_years():\n",
    "    url = 'http://www.nwac.us/avalanche-forecast/archives/'\n",
    "    r = requests.get(url)\n",
    "    soup = bs4.BeautifulSoup(r.text, 'html5lib')\n",
    "    dropdown = soup.find('select', attrs={'name': 'year'})\n",
    "    years = [obj.attrs['value'] for obj in dropdown.findAll('option')]\n",
    "    return years"
   ]
  },
  {
   "cell_type": "code",
   "execution_count": 4,
   "metadata": {
    "collapsed": false
   },
   "outputs": [
    {
     "data": {
      "text/plain": [
       "['2015', '2014', '2013', '2016']"
      ]
     },
     "execution_count": 4,
     "metadata": {},
     "output_type": "execute_result"
    }
   ],
   "source": [
    "get_years()"
   ]
  },
  {
   "cell_type": "code",
   "execution_count": 5,
   "metadata": {
    "collapsed": false
   },
   "outputs": [],
   "source": [
    "def get_months(year):\n",
    "    fmt = 'http://www.nwac.us/avalanche-forecast/archives/months/?year={year}'\n",
    "    r = requests.get(fmt.format(year=year))\n",
    "    soup = bs4.BeautifulSoup(r.text, 'html5lib')\n",
    "    dropdown = soup.find('select', attrs={'name': 'month'})\n",
    "    months = [obj.attrs['value'] for obj in dropdown.findAll('option')]\n",
    "    return months"
   ]
  },
  {
   "cell_type": "code",
   "execution_count": 6,
   "metadata": {
    "collapsed": false
   },
   "outputs": [
    {
     "data": {
      "text/plain": [
       "['December', 'October', 'June', 'April', 'March', 'February', 'January']"
      ]
     },
     "execution_count": 6,
     "metadata": {},
     "output_type": "execute_result"
    }
   ],
   "source": [
    "get_months(2015)"
   ]
  },
  {
   "cell_type": "code",
   "execution_count": 7,
   "metadata": {
    "collapsed": false
   },
   "outputs": [],
   "source": [
    "import re\n",
    "renum = re.compile(r'\\d+')\n",
    "\n",
    "def get_forecast_list(month, year):\n",
    "    fmt = 'http://www.nwac.us/avalanche-forecast/archives/days/?month={month}&year={year}'\n",
    "    r = requests.get(fmt.format(year=year, month=month))\n",
    "    soup = bs4.BeautifulSoup(r.text, 'html5lib')\n",
    "    main = soup.find('div', attrs={'id': 'main-content'})\n",
    "    links = main.findAll('a')\n",
    "    results = []\n",
    "    for link in links:\n",
    "        url = link.attrs['href']\n",
    "        forecast_id = int(renum.search(url).group(0))\n",
    "        date = str(link.contents[0].lstrip())\n",
    "        results.append((date,forecast_id))\n",
    "    return results"
   ]
  },
  {
   "cell_type": "code",
   "execution_count": 8,
   "metadata": {
    "collapsed": false
   },
   "outputs": [
    {
     "data": {
      "text/plain": [
       "[('Jan. 31, 2016', 498),\n",
       " ('Jan. 30, 2016', 497),\n",
       " ('Jan. 30, 2016', 496),\n",
       " ('Jan. 29, 2016', 495),\n",
       " ('Jan. 28, 2016', 494),\n",
       " ('Jan. 27, 2016', 493),\n",
       " ('Jan. 27, 2016', 492),\n",
       " ('Jan. 26, 2016', 491),\n",
       " ('Jan. 25, 2016', 490),\n",
       " ('Jan. 24, 2016', 489),\n",
       " ('Jan. 23, 2016', 488),\n",
       " ('Jan. 22, 2016', 487),\n",
       " ('Jan. 21, 2016', 486),\n",
       " ('Jan. 21, 2016', 485),\n",
       " ('Jan. 21, 2016', 484),\n",
       " ('Jan. 20, 2016', 483),\n",
       " ('Jan. 19, 2016', 482),\n",
       " ('Jan. 18, 2016', 481),\n",
       " ('Jan. 17, 2016', 480),\n",
       " ('Jan. 16, 2016', 479),\n",
       " ('Jan. 15, 2016', 478),\n",
       " ('Jan. 15, 2016', 477),\n",
       " ('Jan. 14, 2016', 476),\n",
       " ('Jan. 13, 2016', 475),\n",
       " ('Jan. 12, 2016', 474),\n",
       " ('Jan. 12, 2016', 473),\n",
       " ('Jan. 11, 2016', 472),\n",
       " ('Jan. 10, 2016', 471),\n",
       " ('Jan. 9, 2016', 470),\n",
       " ('Jan. 8, 2016', 469),\n",
       " ('Jan. 7, 2016', 468),\n",
       " ('Jan. 6, 2016', 467),\n",
       " ('Jan. 5, 2016', 466),\n",
       " ('Jan. 4, 2016', 465),\n",
       " ('Jan. 4, 2016', 464),\n",
       " ('Jan. 3, 2016', 463),\n",
       " ('Jan. 2, 2016', 462),\n",
       " ('Jan. 1, 2016', 461)]"
      ]
     },
     "execution_count": 8,
     "metadata": {},
     "output_type": "execute_result"
    }
   ],
   "source": [
    "get_forecast_list('January', '2016')"
   ]
  },
  {
   "cell_type": "markdown",
   "metadata": {},
   "source": [
    "# Forecasts"
   ]
  },
  {
   "cell_type": "code",
   "execution_count": 9,
   "metadata": {
    "collapsed": true
   },
   "outputs": [],
   "source": [
    "def trim(string, lead):\n",
    "    assert string[:len(lead)] == lead\n",
    "    return string[len(lead):]\n",
    "\n",
    "def get_forecast(forecast_id):\n",
    "    fmt = 'http://www.nwac.us/avalanche-forecast/avalanche-forecast/{num}/'\n",
    "    r = requests.get(fmt.format(num=forecast_id))\n",
    "    soup = bs4.BeautifulSoup(r.text, 'html5lib')\n",
    "\n",
    "    date = str(soup.find('div', attrs={'class': 'forecast-date'}).contents[0].strip())\n",
    "    author = str(soup.find('div', attrs={'class': 'forecaster'}).contents[0].strip())\n",
    "    forecasts = soup.findAll('a', attrs={'class': 'forecast'})\n",
    "    \n",
    "    results = []\n",
    "    for forecast in forecasts:\n",
    "        region = str(forecast.find('span').contents[0].strip())\n",
    "        url = forecast.attrs['href']\n",
    "        subforecast_id = int(renum.search(url).group(0))\n",
    "        results.append((region, subforecast_id))\n",
    "    \n",
    "    return trim(date, 'Issued: '), trim(author, 'by '), results"
   ]
  },
  {
   "cell_type": "markdown",
   "metadata": {},
   "source": [
    "In the archive, note that frequently all east-side regions link to the same report:"
   ]
  },
  {
   "cell_type": "code",
   "execution_count": 10,
   "metadata": {
    "collapsed": false
   },
   "outputs": [
    {
     "data": {
      "text/plain": [
       "('6:38 AM PST Tuesday, December 23, 2014',\n",
       " 'Garth Ferber',\n",
       " [('Olympics', 921),\n",
       "  ('West Slopes North - Canadian Border to Skagit River', 922),\n",
       "  ('West Slopes Central - Skagit River to South of I-90', 923),\n",
       "  ('West Slopes South - South of I-90 to Columbia River', 923),\n",
       "  ('Stevens Pass', 923),\n",
       "  ('Snoqualmie Pass', 923),\n",
       "  ('East Slopes North - Canadian Border to Lake Chelan', 924),\n",
       "  ('East Slopes Central - Lake Chelan to South of I-90', 924),\n",
       "  ('East Slopes South - South of I-90 to Columbia River', 925),\n",
       "  ('Mt Hood', 926)])"
      ]
     },
     "execution_count": 10,
     "metadata": {},
     "output_type": "execute_result"
    }
   ],
   "source": [
    "get_forecast(274)"
   ]
  },
  {
   "cell_type": "code",
   "execution_count": 11,
   "metadata": {
    "collapsed": false
   },
   "outputs": [
    {
     "data": {
      "text/plain": [
       "('7:57 AM PST Thursday, January 21, 2016',\n",
       " \"Dennis D'Amico\",\n",
       " [('Olympics', 1966),\n",
       "  ('West Slopes North - Canadian Border to Skagit River', 1967),\n",
       "  ('West Slopes Central - Skagit River to South of I-90', 1968),\n",
       "  ('West Slopes South - South of I-90 to Columbia River', 1968),\n",
       "  ('Stevens Pass', 1968),\n",
       "  ('Snoqualmie Pass', 1968),\n",
       "  ('East Slopes North - Canadian Border to Lake Chelan', 1969),\n",
       "  ('East Slopes Central - Lake Chelan to South of I-90', 1970),\n",
       "  ('East Slopes South - South of I-90 to Columbia River', 1970),\n",
       "  ('Mt Hood', 1971)])"
      ]
     },
     "execution_count": 11,
     "metadata": {},
     "output_type": "execute_result"
    }
   ],
   "source": [
    "get_forecast(486)"
   ]
  },
  {
   "cell_type": "code",
   "execution_count": 12,
   "metadata": {
    "collapsed": false
   },
   "outputs": [
    {
     "data": {
      "text/plain": [
       "('6:00 PM PST Thursday, December 31, 2015',\n",
       " \"Dennis D'Amico\",\n",
       " [('Olympics', 1850),\n",
       "  ('West Slopes North - Canadian Border to Skagit River', 1851),\n",
       "  ('West Slopes Central - Skagit River to South of I-90', 1851),\n",
       "  ('West Slopes South - South of I-90 to Columbia River', 1851),\n",
       "  ('Stevens Pass', 1851),\n",
       "  ('Snoqualmie Pass', 1851),\n",
       "  ('East Slopes North - Canadian Border to Lake Chelan', 1852),\n",
       "  ('East Slopes Central - Lake Chelan to South of I-90', 1852),\n",
       "  ('East Slopes South - South of I-90 to Columbia River', 1852),\n",
       "  ('Mt Hood', 1853)])"
      ]
     },
     "execution_count": 12,
     "metadata": {},
     "output_type": "execute_result"
    }
   ],
   "source": [
    "get_forecast(461)"
   ]
  },
  {
   "cell_type": "code",
   "execution_count": 13,
   "metadata": {
    "collapsed": false
   },
   "outputs": [
    {
     "data": {
      "text/plain": [
       "('2:36 PM PST Tuesday, December 10, 2013',\n",
       " 'Kenny Kramer',\n",
       " [('Olympics', 73),\n",
       "  ('Stevens Pass', 73),\n",
       "  ('Snoqualmie Pass', 73),\n",
       "  ('Mt Hood', 73),\n",
       "  ('White Pass', 73),\n",
       "  ('WA Cascades near and west of crest - between Snoqualmie and White Pass',\n",
       "   73),\n",
       "  ('East slopes WA Cascades - between Stevens and Snoqualmie Pass', 73),\n",
       "  ('WA Cascades near and west of crest - north of Stevens Pass', 73),\n",
       "  ('WA Cascades near and west of crest - south of White Pass', 73),\n",
       "  ('East slopes WA Cascades - between Snoqualmie and White Pass', 73),\n",
       "  ('WA Cascades near and west of crest - between Stevens and Snoqualmie Pass',\n",
       "   73),\n",
       "  ('East slopes WA Cascades - north of Stevens Pass', 73),\n",
       "  ('East slopes WA Cascades - south of White Pass', 73)])"
      ]
     },
     "execution_count": 13,
     "metadata": {},
     "output_type": "execute_result"
    }
   ],
   "source": [
    "get_forecast(37)"
   ]
  },
  {
   "cell_type": "markdown",
   "metadata": {},
   "source": [
    "test date string conversion. it puts it in UTC for us"
   ]
  },
  {
   "cell_type": "code",
   "execution_count": 14,
   "metadata": {
    "collapsed": false
   },
   "outputs": [
    {
     "data": {
      "text/plain": [
       "'2:36 PM PST Tuesday, December 10, 2013'"
      ]
     },
     "execution_count": 14,
     "metadata": {},
     "output_type": "execute_result"
    }
   ],
   "source": [
    "_[0]"
   ]
  },
  {
   "cell_type": "code",
   "execution_count": 15,
   "metadata": {
    "collapsed": false
   },
   "outputs": [
    {
     "data": {
      "text/plain": [
       "Timestamp('2013-12-10 22:36:00')"
      ]
     },
     "execution_count": 15,
     "metadata": {},
     "output_type": "execute_result"
    }
   ],
   "source": [
    "#pandas.to_datetime(_, utc=True)\n",
    "pd.to_datetime(_)"
   ]
  },
  {
   "cell_type": "markdown",
   "metadata": {},
   "source": [
    "# Reports\n",
    "\n",
    "A forecast contains multiple reports, each individualized to a geographic sub-region of the NWAC forecast area."
   ]
  },
  {
   "cell_type": "code",
   "execution_count": 16,
   "metadata": {
    "collapsed": false
   },
   "outputs": [],
   "source": [
    "def get_report(subforecast_id):\n",
    "    fmt = 'http://www.nwac.us/avalanche-forecast/avalanche-region-forecast/{num}/'\n",
    "    r = requests.get(fmt.format(num=subforecast_id))\n",
    "    soup = bs4.BeautifulSoup(r.text, 'html5lib')\n",
    "\n",
    "    date = str(soup.find('div', attrs={'class': 'forecast-date'}).contents[0].strip())\n",
    "    author = str(soup.find('div', attrs={'class': 'forecaster'}).contents[0].strip())\n",
    "    region = str(soup.find('h2').contents[0].strip())\n",
    "    \n",
    "    summary = soup.find('div', attrs={'class': 'forecast-summary'})\n",
    "    if summary is None:\n",
    "        summary = soup.find('div', attrs={'class': 'special-header-notes'})\n",
    "    summary = str(summary.text).strip().replace(u'\\xa0', u' ')\n",
    "    \n",
    "    areas = ['treeline-above',\n",
    "             'treeline-near',\n",
    "             'treeline-below']\n",
    "    \n",
    "    ratings = []\n",
    "    for area in areas:\n",
    "        rating = find_rating(soup, area)\n",
    "        ratings.append((area, rating))\n",
    "    \n",
    "    return trim(date, 'Issued: '), trim(author, 'by '), region, summary, ratings\n",
    "\n",
    "def find_rating(soup, area):\n",
    "    chunk = soup.find('div', attrs={'id': area})\n",
    "    if chunk is None:\n",
    "        return None\n",
    "    rating = chunk.find(\n",
    "        'div', attrs={'class': 'elev-day1-column'}\n",
    "            ).find(\n",
    "        'div', attrs={'class': 'danger-description'}\n",
    "            ).find('h4').contents[0]\n",
    "    return str(rating)"
   ]
  },
  {
   "cell_type": "code",
   "execution_count": 17,
   "metadata": {
    "collapsed": false
   },
   "outputs": [
    {
     "data": {
      "text/plain": [
       "('6:00 PM PST Thursday, December 31, 2015',\n",
       " \"Dennis D'Amico\",\n",
       " 'East Slopes North - Canadian Border to Lake Chelan',\n",
       " 'Watch for isolated areas of wind slab primarily on north through southeast aspects above treeline and for small loose avalanches near terrain traps on steeper slopes throughout the terrain.',\n",
       " [('treeline-above', 'Moderate'),\n",
       "  ('treeline-near', 'Low'),\n",
       "  ('treeline-below', 'Low')])"
      ]
     },
     "execution_count": 17,
     "metadata": {},
     "output_type": "execute_result"
    }
   ],
   "source": [
    "get_report(1852)"
   ]
  },
  {
   "cell_type": "code",
   "execution_count": 18,
   "metadata": {
    "collapsed": false
   },
   "outputs": [
    {
     "data": {
      "text/plain": [
       "('10:11 AM PST Monday, June 2, 2014',\n",
       " 'Kenny Kramer',\n",
       " 'Olympics',\n",
       " 'Have a safe and enjoyable rest of the spring and we look forward to bringing you even better mountain weather and avalanche forecasts next season! A big thanks to all who help in supporting the Northwest Avalanche Center.  \\n\\nPlease note that regularly scheduled mountain weather and avalanche forecasts for the past winter season have ended.  However, weather and snow conditions will continue to be monitored through mid-June at the Northwest Weather and Avalanche Center with the information that remains available.  Additional forecasts or special statements will be issued when unusually severe avalanche conditions develop.  When issued such forecasts will be available on the NWAC Web site.',\n",
       " [('treeline-above', None), ('treeline-near', None), ('treeline-below', None)])"
      ]
     },
     "execution_count": 18,
     "metadata": {},
     "output_type": "execute_result"
    }
   ],
   "source": [
    "get_report(884)"
   ]
  },
  {
   "cell_type": "markdown",
   "metadata": {},
   "source": [
    "# Database schema\n",
    "\n",
    "Organized storage for forecasts and reports, as well as a join table to say which go with which"
   ]
  },
  {
   "cell_type": "code",
   "execution_count": 19,
   "metadata": {
    "collapsed": true
   },
   "outputs": [],
   "source": [
    "import sqlalchemy as sa"
   ]
  },
  {
   "cell_type": "code",
   "execution_count": 20,
   "metadata": {
    "collapsed": false
   },
   "outputs": [
    {
     "name": "stdout",
     "output_type": "stream",
     "text": [
      "postgres://tkb@localhost/avy\n"
     ]
    }
   ],
   "source": [
    "engine = sa.create_engine('postgres://%s@localhost/%s'%('tkb','avy'))\n",
    "print(engine.url)"
   ]
  },
  {
   "cell_type": "code",
   "execution_count": 21,
   "metadata": {
    "collapsed": false
   },
   "outputs": [],
   "source": [
    "metadata = sa.MetaData()\n",
    "\n",
    "forecast_table = sa.Table('forecasts', metadata,\n",
    "                          sa.Column('forecast_id', sa.Integer,\n",
    "                                    primary_key=True, autoincrement=False),\n",
    "                          sa.Column('date', sa.Text),\n",
    "                          sa.Column('datetime', sa.Text),\n",
    "                          sa.Column('datetime_utc', sa.Time),\n",
    "                          sa.Column('author', sa.Text),\n",
    "                         )\n",
    "\n",
    "report_table = sa.Table('reports', metadata,\n",
    "                        sa.Column('report_id', sa.Integer,\n",
    "                                  primary_key=True, autoincrement=False),\n",
    "                          sa.Column('datetime', sa.Text),\n",
    "                          sa.Column('datetime_utc', sa.DateTime),\n",
    "                          sa.Column('author', sa.Text),\n",
    "                          sa.Column('region', sa.Text),\n",
    "                          sa.Column('summary', sa.Text),\n",
    "                          sa.Column('treeline_above', sa.Text),\n",
    "                          sa.Column('treeline_near', sa.Text),\n",
    "                          sa.Column('treeline_below', sa.Text),\n",
    "                        )\n",
    "\n",
    "region_index = sa.Table('region_index', metadata,\n",
    "                        sa.Column('forecast_id', sa.Integer, primary_key=True),\n",
    "                        sa.Column('region', sa.Text, primary_key=True),\n",
    "                        sa.Column('report_id', sa.Integer)\n",
    "                       )"
   ]
  },
  {
   "cell_type": "code",
   "execution_count": null,
   "metadata": {
    "collapsed": false
   },
   "outputs": [],
   "source": [
    "#report_table.create(engine)"
   ]
  },
  {
   "cell_type": "code",
   "execution_count": 22,
   "metadata": {
    "collapsed": true
   },
   "outputs": [],
   "source": [
    "import sqlalchemy_utils as sau"
   ]
  },
  {
   "cell_type": "code",
   "execution_count": 23,
   "metadata": {
    "collapsed": false
   },
   "outputs": [
    {
     "name": "stdout",
     "output_type": "stream",
     "text": [
      "True\n"
     ]
    }
   ],
   "source": [
    "#sau.drop_database(engine.url)\n",
    "print(sau.database_exists(engine.url))"
   ]
  },
  {
   "cell_type": "code",
   "execution_count": 24,
   "metadata": {
    "collapsed": false
   },
   "outputs": [
    {
     "name": "stdout",
     "output_type": "stream",
     "text": [
      "True\n"
     ]
    }
   ],
   "source": [
    "## create a database (if it doesn't exist)\n",
    "if not sau.database_exists(engine.url):\n",
    "    sau.create_database(engine.url)\n",
    "    metadata.create_all(engine)\n",
    "print(sau.database_exists(engine.url))\n"
   ]
  },
  {
   "cell_type": "markdown",
   "metadata": {},
   "source": [
    "Feed in an example row"
   ]
  },
  {
   "cell_type": "code",
   "execution_count": 25,
   "metadata": {
    "collapsed": false
   },
   "outputs": [
    {
     "name": "stdout",
     "output_type": "stream",
     "text": [
      "False\n",
      "True\n"
     ]
    }
   ],
   "source": [
    "with engine.begin() as conn:\n",
    "    print (conn.closed)\n",
    "    pass\n",
    "print (conn.closed)"
   ]
  },
  {
   "cell_type": "markdown",
   "metadata": {},
   "source": [
    "# read in preliminary data.\n",
    "\n",
    "to empty it, do TRUNCATE TABLE"
   ]
  },
  {
   "cell_type": "markdown",
   "metadata": {},
   "source": [
    "Insert all in one statement. If there's a problem with any one row, this whole thing fails"
   ]
  },
  {
   "cell_type": "code",
   "execution_count": null,
   "metadata": {
    "collapsed": false
   },
   "outputs": [],
   "source": [
    "def insert_forecasts_prelim(days):\n",
    "    with engine.begin() as conn:\n",
    "        data = [{'forecast_id': fid, 'date': date} for date,fid in days]\n",
    "        stmt = forecast_table.insert().values(data)\n",
    "        conn.execute(stmt)"
   ]
  },
  {
   "cell_type": "markdown",
   "metadata": {},
   "source": [
    "batched queries. Depending on how these loops are nested, only individual things fail"
   ]
  },
  {
   "cell_type": "code",
   "execution_count": 41,
   "metadata": {
    "collapsed": false
   },
   "outputs": [],
   "source": [
    "from sqlalchemy.exc import IntegrityError\n",
    "\n",
    "def insert_forecasts_prelim_batched(days):\n",
    "    for date,forecast_id in days:\n",
    "        with engine.begin() as conn:\n",
    "            stmt = forecast_table.insert().values(date=date, forecast_id=forecast_id)\n",
    "            try:\n",
    "                conn.execute(stmt)\n",
    "            except IntegrityError:\n",
    "                print(\"couldn't insert data for date \", date)"
   ]
  },
  {
   "cell_type": "markdown",
   "metadata": {},
   "source": [
    "for testing:"
   ]
  },
  {
   "cell_type": "code",
   "execution_count": 31,
   "metadata": {
    "collapsed": false
   },
   "outputs": [],
   "source": [
    "days = get_forecast_list('February', 2016)\n",
    "insert_forecasts_prelim_batched(days)"
   ]
  },
  {
   "cell_type": "code",
   "execution_count": 42,
   "metadata": {
    "collapsed": false
   },
   "outputs": [
    {
     "name": "stdout",
     "output_type": "stream",
     "text": [
      "couldn't insert data for date  Jan. 31, 2016\n",
      "couldn't insert data for date  Jan. 30, 2016\n",
      "couldn't insert data for date  Jan. 30, 2016\n",
      "couldn't insert data for date  Jan. 29, 2016\n",
      "couldn't insert data for date  Jan. 28, 2016\n",
      "couldn't insert data for date  Jan. 27, 2016\n",
      "couldn't insert data for date  Jan. 27, 2016\n",
      "couldn't insert data for date  Jan. 26, 2016\n",
      "couldn't insert data for date  Jan. 25, 2016\n",
      "couldn't insert data for date  Jan. 24, 2016\n",
      "couldn't insert data for date  Jan. 23, 2016\n",
      "couldn't insert data for date  Jan. 22, 2016\n",
      "couldn't insert data for date  Jan. 21, 2016\n",
      "couldn't insert data for date  Jan. 21, 2016\n",
      "couldn't insert data for date  Jan. 21, 2016\n",
      "couldn't insert data for date  Jan. 20, 2016\n",
      "couldn't insert data for date  Jan. 19, 2016\n",
      "couldn't insert data for date  Jan. 18, 2016\n",
      "couldn't insert data for date  Jan. 17, 2016\n",
      "couldn't insert data for date  Jan. 16, 2016\n",
      "couldn't insert data for date  Jan. 15, 2016\n",
      "couldn't insert data for date  Jan. 15, 2016\n",
      "couldn't insert data for date  Jan. 14, 2016\n",
      "couldn't insert data for date  Jan. 13, 2016\n",
      "couldn't insert data for date  Jan. 12, 2016\n",
      "couldn't insert data for date  Jan. 12, 2016\n",
      "couldn't insert data for date  Jan. 11, 2016\n",
      "couldn't insert data for date  Jan. 10, 2016\n",
      "couldn't insert data for date  Jan. 9, 2016\n",
      "couldn't insert data for date  Jan. 8, 2016\n",
      "couldn't insert data for date  Jan. 7, 2016\n",
      "couldn't insert data for date  Jan. 6, 2016\n",
      "couldn't insert data for date  Jan. 5, 2016\n",
      "couldn't insert data for date  Jan. 4, 2016\n",
      "couldn't insert data for date  Jan. 4, 2016\n",
      "couldn't insert data for date  Jan. 3, 2016\n",
      "couldn't insert data for date  Jan. 2, 2016\n",
      "couldn't insert data for date  Jan. 1, 2016\n"
     ]
    }
   ],
   "source": [
    "days = get_forecast_list('January', 2016)\n",
    "insert_forecasts_prelim_batched(days)"
   ]
  },
  {
   "cell_type": "markdown",
   "metadata": {},
   "source": [
    "# get list of all forecasts ever\n",
    "\n",
    "and put this in the database as preliminary datas"
   ]
  },
  {
   "cell_type": "code",
   "execution_count": null,
   "metadata": {
    "collapsed": true
   },
   "outputs": [],
   "source": [
    "def gen_all_reports():\n",
    "    for year in get_years():\n",
    "        for month in get_months(year):\n",
    "            yield from get_forecast_list(month, year)"
   ]
  },
  {
   "cell_type": "code",
   "execution_count": null,
   "metadata": {
    "collapsed": false
   },
   "outputs": [],
   "source": [
    "insert_forecasts_prelim(gen_all_reports())"
   ]
  },
  {
   "cell_type": "code",
   "execution_count": 43,
   "metadata": {
    "collapsed": false
   },
   "outputs": [
    {
     "data": {
      "text/html": [
       "<div>\n",
       "<table border=\"1\" class=\"dataframe\">\n",
       "  <thead>\n",
       "    <tr style=\"text-align: right;\">\n",
       "      <th></th>\n",
       "      <th>forecast_id</th>\n",
       "      <th>date</th>\n",
       "      <th>datetime</th>\n",
       "      <th>datetime_utc</th>\n",
       "      <th>author</th>\n",
       "    </tr>\n",
       "  </thead>\n",
       "  <tbody>\n",
       "    <tr>\n",
       "      <th>0</th>\n",
       "      <td>37</td>\n",
       "      <td>Dec. 11, 2013</td>\n",
       "      <td>2:36 PM PST Tuesday, December 10, 2013</td>\n",
       "      <td>22:36:00</td>\n",
       "      <td>Kenny Kramer</td>\n",
       "    </tr>\n",
       "    <tr>\n",
       "      <th>1</th>\n",
       "      <td>38</td>\n",
       "      <td>Dec. 11, 2013</td>\n",
       "      <td>2:42 PM PST Tuesday, December 10, 2013</td>\n",
       "      <td>22:42:00</td>\n",
       "      <td>Kenny Kramer</td>\n",
       "    </tr>\n",
       "    <tr>\n",
       "      <th>2</th>\n",
       "      <td>39</td>\n",
       "      <td>Dec. 11, 2013</td>\n",
       "      <td>9:24 PM PST Tuesday, December 10, 2013</td>\n",
       "      <td>05:24:00</td>\n",
       "      <td>Kenny Kramer</td>\n",
       "    </tr>\n",
       "    <tr>\n",
       "      <th>3</th>\n",
       "      <td>40</td>\n",
       "      <td>Dec. 12, 2013</td>\n",
       "      <td>3:26 PM PST Wednesday, December 11, 2013</td>\n",
       "      <td>23:26:00</td>\n",
       "      <td>Garth Ferber</td>\n",
       "    </tr>\n",
       "    <tr>\n",
       "      <th>4</th>\n",
       "      <td>47</td>\n",
       "      <td>Dec. 13, 2013</td>\n",
       "      <td>7:07 PM PST Thursday, December 12, 2013</td>\n",
       "      <td>03:07:00</td>\n",
       "      <td>Dennis D'Amico</td>\n",
       "    </tr>\n",
       "  </tbody>\n",
       "</table>\n",
       "</div>"
      ],
      "text/plain": [
       "   forecast_id           date                                  datetime  \\\n",
       "0           37  Dec. 11, 2013    2:36 PM PST Tuesday, December 10, 2013   \n",
       "1           38  Dec. 11, 2013    2:42 PM PST Tuesday, December 10, 2013   \n",
       "2           39  Dec. 11, 2013    9:24 PM PST Tuesday, December 10, 2013   \n",
       "3           40  Dec. 12, 2013  3:26 PM PST Wednesday, December 11, 2013   \n",
       "4           47  Dec. 13, 2013   7:07 PM PST Thursday, December 12, 2013   \n",
       "\n",
       "  datetime_utc          author  \n",
       "0     22:36:00    Kenny Kramer  \n",
       "1     22:42:00    Kenny Kramer  \n",
       "2     05:24:00    Kenny Kramer  \n",
       "3     23:26:00    Garth Ferber  \n",
       "4     03:07:00  Dennis D'Amico  "
      ]
     },
     "execution_count": 43,
     "metadata": {},
     "output_type": "execute_result"
    }
   ],
   "source": [
    "pd.read_sql_query('select * from forecasts order by forecast_id limit 5', engine)"
   ]
  },
  {
   "cell_type": "code",
   "execution_count": 45,
   "metadata": {
    "collapsed": false
   },
   "outputs": [
    {
     "data": {
      "text/html": [
       "<div>\n",
       "<table border=\"1\" class=\"dataframe\">\n",
       "  <thead>\n",
       "    <tr style=\"text-align: right;\">\n",
       "      <th></th>\n",
       "      <th>forecast_id</th>\n",
       "      <th>date</th>\n",
       "      <th>datetime</th>\n",
       "      <th>datetime_utc</th>\n",
       "      <th>author</th>\n",
       "    </tr>\n",
       "  </thead>\n",
       "  <tbody>\n",
       "    <tr>\n",
       "      <th>0</th>\n",
       "      <td>510</td>\n",
       "      <td>Feb. 10, 2016</td>\n",
       "      <td>None</td>\n",
       "      <td>None</td>\n",
       "      <td>None</td>\n",
       "    </tr>\n",
       "    <tr>\n",
       "      <th>1</th>\n",
       "      <td>509</td>\n",
       "      <td>Feb. 9, 2016</td>\n",
       "      <td>None</td>\n",
       "      <td>None</td>\n",
       "      <td>None</td>\n",
       "    </tr>\n",
       "    <tr>\n",
       "      <th>2</th>\n",
       "      <td>508</td>\n",
       "      <td>Feb. 8, 2016</td>\n",
       "      <td>None</td>\n",
       "      <td>None</td>\n",
       "      <td>None</td>\n",
       "    </tr>\n",
       "    <tr>\n",
       "      <th>3</th>\n",
       "      <td>507</td>\n",
       "      <td>Feb. 7, 2016</td>\n",
       "      <td>None</td>\n",
       "      <td>None</td>\n",
       "      <td>None</td>\n",
       "    </tr>\n",
       "    <tr>\n",
       "      <th>4</th>\n",
       "      <td>506</td>\n",
       "      <td>Feb. 6, 2016</td>\n",
       "      <td>None</td>\n",
       "      <td>None</td>\n",
       "      <td>None</td>\n",
       "    </tr>\n",
       "  </tbody>\n",
       "</table>\n",
       "</div>"
      ],
      "text/plain": [
       "   forecast_id           date datetime datetime_utc author\n",
       "0          510  Feb. 10, 2016     None         None   None\n",
       "1          509   Feb. 9, 2016     None         None   None\n",
       "2          508   Feb. 8, 2016     None         None   None\n",
       "3          507   Feb. 7, 2016     None         None   None\n",
       "4          506   Feb. 6, 2016     None         None   None"
      ]
     },
     "execution_count": 45,
     "metadata": {},
     "output_type": "execute_result"
    }
   ],
   "source": [
    "pd.read_sql_query('select * from forecasts order by forecast_id desc limit 5', engine)"
   ]
  },
  {
   "cell_type": "markdown",
   "metadata": {},
   "source": [
    "# Add region data"
   ]
  },
  {
   "cell_type": "code",
   "execution_count": 46,
   "metadata": {
    "collapsed": false
   },
   "outputs": [],
   "source": [
    "def load_forecast(forecast_id):\n",
    "    datetime,author,reg_index = get_forecast(forecast_id)\n",
    "    datetime_utc = pd.to_datetime(datetime)\n",
    "    values = dict(datetime=datetime, author=author, datetime_utc=datetime_utc)\n",
    "    \n",
    "    with engine.begin() as conn:\n",
    "        # fill in the rest of the forecast info (update one row)\n",
    "        stmt = forecast_table.update().where(\n",
    "                   forecast_table.c.forecast_id==forecast_id\n",
    "                   ).values(**values)\n",
    "        conn.execute(stmt)\n",
    "\n",
    "        # populate the region index (many rows)\n",
    "        data = [{'region': reg, 'report_id': rid, 'forecast_id': forecast_id} for reg,rid in reg_index]\n",
    "        stmt2 = region_index.insert().values(data)\n",
    "        conn.execute(stmt2)"
   ]
  },
  {
   "cell_type": "code",
   "execution_count": null,
   "metadata": {
    "collapsed": false
   },
   "outputs": [],
   "source": [
    "load_forecast(37)"
   ]
  },
  {
   "cell_type": "code",
   "execution_count": null,
   "metadata": {
    "collapsed": false
   },
   "outputs": [],
   "source": [
    "pd.read_sql_query('select * from forecasts order by forecast_id limit 5', engine)"
   ]
  },
  {
   "cell_type": "code",
   "execution_count": null,
   "metadata": {
    "collapsed": false
   },
   "outputs": [],
   "source": [
    "pd.read_sql_query('select * from region_index', engine)"
   ]
  },
  {
   "cell_type": "markdown",
   "metadata": {},
   "source": [
    "# read in all detailed forecast data\n",
    "\n",
    "Only where data is missing"
   ]
  },
  {
   "cell_type": "code",
   "execution_count": 47,
   "metadata": {
    "collapsed": false
   },
   "outputs": [
    {
     "data": {
      "text/html": [
       "<div>\n",
       "<table border=\"1\" class=\"dataframe\">\n",
       "  <thead>\n",
       "    <tr style=\"text-align: right;\">\n",
       "      <th></th>\n",
       "      <th>forecast_id</th>\n",
       "      <th>date</th>\n",
       "      <th>datetime</th>\n",
       "      <th>datetime_utc</th>\n",
       "      <th>author</th>\n",
       "    </tr>\n",
       "  </thead>\n",
       "  <tbody>\n",
       "    <tr>\n",
       "      <th>0</th>\n",
       "      <td>493</td>\n",
       "      <td>Jan. 27, 2016</td>\n",
       "      <td>None</td>\n",
       "      <td>None</td>\n",
       "      <td>None</td>\n",
       "    </tr>\n",
       "    <tr>\n",
       "      <th>1</th>\n",
       "      <td>494</td>\n",
       "      <td>Jan. 28, 2016</td>\n",
       "      <td>None</td>\n",
       "      <td>None</td>\n",
       "      <td>None</td>\n",
       "    </tr>\n",
       "    <tr>\n",
       "      <th>2</th>\n",
       "      <td>495</td>\n",
       "      <td>Jan. 29, 2016</td>\n",
       "      <td>None</td>\n",
       "      <td>None</td>\n",
       "      <td>None</td>\n",
       "    </tr>\n",
       "    <tr>\n",
       "      <th>3</th>\n",
       "      <td>496</td>\n",
       "      <td>Jan. 30, 2016</td>\n",
       "      <td>None</td>\n",
       "      <td>None</td>\n",
       "      <td>None</td>\n",
       "    </tr>\n",
       "    <tr>\n",
       "      <th>4</th>\n",
       "      <td>497</td>\n",
       "      <td>Jan. 30, 2016</td>\n",
       "      <td>None</td>\n",
       "      <td>None</td>\n",
       "      <td>None</td>\n",
       "    </tr>\n",
       "  </tbody>\n",
       "</table>\n",
       "</div>"
      ],
      "text/plain": [
       "   forecast_id           date datetime datetime_utc author\n",
       "0          493  Jan. 27, 2016     None         None   None\n",
       "1          494  Jan. 28, 2016     None         None   None\n",
       "2          495  Jan. 29, 2016     None         None   None\n",
       "3          496  Jan. 30, 2016     None         None   None\n",
       "4          497  Jan. 30, 2016     None         None   None"
      ]
     },
     "execution_count": 47,
     "metadata": {},
     "output_type": "execute_result"
    }
   ],
   "source": [
    "pd.read_sql_query('select * from forecasts where datetime_utc is null order by forecast_id limit 5', engine)"
   ]
  },
  {
   "cell_type": "code",
   "execution_count": 48,
   "metadata": {
    "collapsed": false
   },
   "outputs": [],
   "source": [
    "def fill_forecasts(how_many=5):\n",
    "    stmt = sa.select(\n",
    "                    [forecast_table.c.forecast_id]\n",
    "                ).where(\n",
    "                    forecast_table.c.author == None\n",
    "                ).order_by(\n",
    "                    forecast_table.c.forecast_id.desc()\n",
    "                ).limit(how_many)\n",
    "    str(stmt)\n",
    "\n",
    "    with engine.begin() as conn:\n",
    "        result = conn.execute(stmt)\n",
    "\n",
    "    for fid, in result:\n",
    "        print(fid, end=' ')\n",
    "        load_forecast(fid)"
   ]
  },
  {
   "cell_type": "code",
   "execution_count": 49,
   "metadata": {
    "collapsed": false
   },
   "outputs": [
    {
     "name": "stdout",
     "output_type": "stream",
     "text": [
      "510 509 508 507 506 "
     ]
    }
   ],
   "source": [
    "fill_forecasts()"
   ]
  },
  {
   "cell_type": "code",
   "execution_count": 50,
   "metadata": {
    "collapsed": false
   },
   "outputs": [
    {
     "name": "stdout",
     "output_type": "stream",
     "text": [
      "505 504 502 501 500 "
     ]
    }
   ],
   "source": [
    "fill_forecasts()"
   ]
  },
  {
   "cell_type": "code",
   "execution_count": 51,
   "metadata": {
    "collapsed": false
   },
   "outputs": [
    {
     "name": "stdout",
     "output_type": "stream",
     "text": [
      "499 498 497 496 495 494 493 "
     ]
    }
   ],
   "source": [
    "fill_forecasts(20)"
   ]
  },
  {
   "cell_type": "code",
   "execution_count": 52,
   "metadata": {
    "collapsed": false
   },
   "outputs": [
    {
     "data": {
      "text/html": [
       "<div>\n",
       "<table border=\"1\" class=\"dataframe\">\n",
       "  <thead>\n",
       "    <tr style=\"text-align: right;\">\n",
       "      <th></th>\n",
       "      <th>forecast_id</th>\n",
       "      <th>date</th>\n",
       "      <th>datetime</th>\n",
       "      <th>datetime_utc</th>\n",
       "      <th>author</th>\n",
       "    </tr>\n",
       "  </thead>\n",
       "  <tbody>\n",
       "  </tbody>\n",
       "</table>\n",
       "</div>"
      ],
      "text/plain": [
       "Empty DataFrame\n",
       "Columns: [forecast_id, date, datetime, datetime_utc, author]\n",
       "Index: []"
      ]
     },
     "execution_count": 52,
     "metadata": {},
     "output_type": "execute_result"
    }
   ],
   "source": [
    "pd.read_sql_query('select * from forecasts where datetime_utc is null order by forecast_id limit 5', engine)"
   ]
  },
  {
   "cell_type": "code",
   "execution_count": 53,
   "metadata": {
    "collapsed": true
   },
   "outputs": [],
   "source": [
    "def missing_forecasts():\n",
    "    \"\"\"How many forecasts are missing?\"\"\"\n",
    "    stmt = sa.select(\n",
    "                    [sa.func.count(forecast_table.c.forecast_id)]\n",
    "                ).where(\n",
    "                    forecast_table.c.author == None\n",
    "                )\n",
    "    str(stmt)\n",
    "\n",
    "    with engine.begin() as conn:\n",
    "        result = conn.execute(stmt)\n",
    "\n",
    "    missing, = result.fetchone()\n",
    "    return missing"
   ]
  },
  {
   "cell_type": "code",
   "execution_count": 54,
   "metadata": {
    "collapsed": false
   },
   "outputs": [
    {
     "data": {
      "text/plain": [
       "0"
      ]
     },
     "execution_count": 54,
     "metadata": {},
     "output_type": "execute_result"
    }
   ],
   "source": [
    "missing_forecasts()"
   ]
  },
  {
   "cell_type": "markdown",
   "metadata": {},
   "source": [
    "# Read in Reports"
   ]
  },
  {
   "cell_type": "code",
   "execution_count": 55,
   "metadata": {
    "collapsed": false
   },
   "outputs": [
    {
     "data": {
      "text/html": [
       "<div>\n",
       "<table border=\"1\" class=\"dataframe\">\n",
       "  <thead>\n",
       "    <tr style=\"text-align: right;\">\n",
       "      <th></th>\n",
       "      <th>forecast_id</th>\n",
       "      <th>region</th>\n",
       "      <th>report_id</th>\n",
       "    </tr>\n",
       "  </thead>\n",
       "  <tbody>\n",
       "    <tr>\n",
       "      <th>0</th>\n",
       "      <td>37</td>\n",
       "      <td>Olympics</td>\n",
       "      <td>73</td>\n",
       "    </tr>\n",
       "    <tr>\n",
       "      <th>1</th>\n",
       "      <td>37</td>\n",
       "      <td>Stevens Pass</td>\n",
       "      <td>73</td>\n",
       "    </tr>\n",
       "    <tr>\n",
       "      <th>2</th>\n",
       "      <td>37</td>\n",
       "      <td>Snoqualmie Pass</td>\n",
       "      <td>73</td>\n",
       "    </tr>\n",
       "    <tr>\n",
       "      <th>3</th>\n",
       "      <td>37</td>\n",
       "      <td>Mt Hood</td>\n",
       "      <td>73</td>\n",
       "    </tr>\n",
       "    <tr>\n",
       "      <th>4</th>\n",
       "      <td>37</td>\n",
       "      <td>White Pass</td>\n",
       "      <td>73</td>\n",
       "    </tr>\n",
       "  </tbody>\n",
       "</table>\n",
       "</div>"
      ],
      "text/plain": [
       "   forecast_id           region  report_id\n",
       "0           37         Olympics         73\n",
       "1           37     Stevens Pass         73\n",
       "2           37  Snoqualmie Pass         73\n",
       "3           37          Mt Hood         73\n",
       "4           37       White Pass         73"
      ]
     },
     "execution_count": 55,
     "metadata": {},
     "output_type": "execute_result"
    }
   ],
   "source": [
    "pd.read_sql_query('select * from region_index limit 5', engine)"
   ]
  },
  {
   "cell_type": "code",
   "execution_count": 70,
   "metadata": {
    "collapsed": false
   },
   "outputs": [
    {
     "data": {
      "text/html": [
       "<div>\n",
       "<table border=\"1\" class=\"dataframe\">\n",
       "  <thead>\n",
       "    <tr style=\"text-align: right;\">\n",
       "      <th></th>\n",
       "      <th>report_id</th>\n",
       "    </tr>\n",
       "  </thead>\n",
       "  <tbody>\n",
       "    <tr>\n",
       "      <th>0</th>\n",
       "      <td>2085</td>\n",
       "    </tr>\n",
       "    <tr>\n",
       "      <th>1</th>\n",
       "      <td>2084</td>\n",
       "    </tr>\n",
       "    <tr>\n",
       "      <th>2</th>\n",
       "      <td>2084</td>\n",
       "    </tr>\n",
       "    <tr>\n",
       "      <th>3</th>\n",
       "      <td>2084</td>\n",
       "    </tr>\n",
       "    <tr>\n",
       "      <th>4</th>\n",
       "      <td>2083</td>\n",
       "    </tr>\n",
       "  </tbody>\n",
       "</table>\n",
       "</div>"
      ],
      "text/plain": [
       "   report_id\n",
       "0       2085\n",
       "1       2084\n",
       "2       2084\n",
       "3       2084\n",
       "4       2083"
      ]
     },
     "execution_count": 70,
     "metadata": {},
     "output_type": "execute_result"
    }
   ],
   "source": [
    "pd.read_sql_query('select report_id from region_index order by report_id desc limit 5', engine)"
   ]
  },
  {
   "cell_type": "code",
   "execution_count": 56,
   "metadata": {
    "collapsed": false
   },
   "outputs": [
    {
     "data": {
      "text/html": [
       "<div>\n",
       "<table border=\"1\" class=\"dataframe\">\n",
       "  <thead>\n",
       "    <tr style=\"text-align: right;\">\n",
       "      <th></th>\n",
       "      <th>report_id</th>\n",
       "    </tr>\n",
       "  </thead>\n",
       "  <tbody>\n",
       "    <tr>\n",
       "      <th>0</th>\n",
       "      <td>2085</td>\n",
       "    </tr>\n",
       "    <tr>\n",
       "      <th>1</th>\n",
       "      <td>2084</td>\n",
       "    </tr>\n",
       "    <tr>\n",
       "      <th>2</th>\n",
       "      <td>2083</td>\n",
       "    </tr>\n",
       "    <tr>\n",
       "      <th>3</th>\n",
       "      <td>2082</td>\n",
       "    </tr>\n",
       "    <tr>\n",
       "      <th>4</th>\n",
       "      <td>2081</td>\n",
       "    </tr>\n",
       "  </tbody>\n",
       "</table>\n",
       "</div>"
      ],
      "text/plain": [
       "   report_id\n",
       "0       2085\n",
       "1       2084\n",
       "2       2083\n",
       "3       2082\n",
       "4       2081"
      ]
     },
     "execution_count": 56,
     "metadata": {},
     "output_type": "execute_result"
    }
   ],
   "source": [
    "pd.read_sql_query('select distinct report_id from region_index order by report_id desc limit 5', engine)"
   ]
  },
  {
   "cell_type": "code",
   "execution_count": 72,
   "metadata": {
    "collapsed": false
   },
   "outputs": [
    {
     "data": {
      "text/html": [
       "<div>\n",
       "<table border=\"1\" class=\"dataframe\">\n",
       "  <thead>\n",
       "    <tr style=\"text-align: right;\">\n",
       "      <th></th>\n",
       "      <th>report_id</th>\n",
       "      <th>count</th>\n",
       "    </tr>\n",
       "  </thead>\n",
       "  <tbody>\n",
       "    <tr>\n",
       "      <th>0</th>\n",
       "      <td>2085</td>\n",
       "      <td>1</td>\n",
       "    </tr>\n",
       "    <tr>\n",
       "      <th>1</th>\n",
       "      <td>2084</td>\n",
       "      <td>3</td>\n",
       "    </tr>\n",
       "    <tr>\n",
       "      <th>2</th>\n",
       "      <td>2083</td>\n",
       "      <td>5</td>\n",
       "    </tr>\n",
       "    <tr>\n",
       "      <th>3</th>\n",
       "      <td>2082</td>\n",
       "      <td>1</td>\n",
       "    </tr>\n",
       "    <tr>\n",
       "      <th>4</th>\n",
       "      <td>2081</td>\n",
       "      <td>1</td>\n",
       "    </tr>\n",
       "  </tbody>\n",
       "</table>\n",
       "</div>"
      ],
      "text/plain": [
       "   report_id  count\n",
       "0       2085      1\n",
       "1       2084      3\n",
       "2       2083      5\n",
       "3       2082      1\n",
       "4       2081      1"
      ]
     },
     "execution_count": 72,
     "metadata": {},
     "output_type": "execute_result"
    }
   ],
   "source": [
    "pd.read_sql_query('select report_id, count(report_id) from region_index '\n",
    "                  'group by report_id order by report_id desc limit 5', engine)"
   ]
  },
  {
   "cell_type": "code",
   "execution_count": 57,
   "metadata": {
    "collapsed": false
   },
   "outputs": [
    {
     "data": {
      "text/plain": [
       "('6:00 PM PST Tuesday, February 9, 2016',\n",
       " 'Kenny Kramer',\n",
       " 'Mt Hood',\n",
       " 'Cooler weather with a few light showers should maintain some shallow wet snow or crust layers. Watch for unexpected wet snow deeper than boot top. The cooler weather should limit the avalanche potential Wednesday.',\n",
       " [('treeline-above', 'Low'),\n",
       "  ('treeline-near', 'Low'),\n",
       "  ('treeline-below', 'Low')])"
      ]
     },
     "execution_count": 57,
     "metadata": {},
     "output_type": "execute_result"
    }
   ],
   "source": [
    "get_report(2085)"
   ]
  },
  {
   "cell_type": "code",
   "execution_count": 58,
   "metadata": {
    "collapsed": false
   },
   "outputs": [],
   "source": [
    "def load_report(report_id):\n",
    "    datetime,author,region,summary,conditions_list = get_report(report_id)\n",
    "    datetime_utc = pd.to_datetime(datetime)\n",
    "    conditions_dict = dict((k.replace('-','_'),v) for k,v in conditions_list)\n",
    "    values = dict(report_id=report_id,\n",
    "                  datetime=datetime, author=author, datetime_utc=datetime_utc,\n",
    "                 region=region, summary=summary, **conditions_dict)\n",
    "    \n",
    "    with engine.begin() as conn:\n",
    "        stmt = report_table.insert(\n",
    "                   ).values(**values)\n",
    "        conn.execute(stmt)"
   ]
  },
  {
   "cell_type": "code",
   "execution_count": 59,
   "metadata": {
    "collapsed": false
   },
   "outputs": [],
   "source": [
    "load_report(2085)"
   ]
  },
  {
   "cell_type": "code",
   "execution_count": 60,
   "metadata": {
    "collapsed": false
   },
   "outputs": [],
   "source": [
    "def fill_reports(how_many=5):\n",
    "    # select report ids from the region index\n",
    "    # which have no counterpart in the report table,\n",
    "    # ignoring duplicates (distinct). big nasty query:\n",
    "    stmt = sa.select(\n",
    "                    [region_index.c.report_id]\n",
    "                ).select_from(region_index.outerjoin(report_table,\n",
    "                        region_index.c.report_id == report_table.c.report_id)\n",
    "                ).where(\n",
    "                    report_table.c.report_id == None\n",
    "                #).where(\n",
    "                #    region_index.c.report_id <= 1180\n",
    "                ).order_by(\n",
    "                    region_index.c.report_id.desc()\n",
    "                ).distinct().limit(how_many)\n",
    "\n",
    "    with engine.begin() as conn:\n",
    "        result = conn.execute(stmt)\n",
    "\n",
    "    for rid, in result:\n",
    "        print(rid, end=' ')\n",
    "        load_report(rid)"
   ]
  },
  {
   "cell_type": "code",
   "execution_count": 61,
   "metadata": {
    "collapsed": true
   },
   "outputs": [],
   "source": [
    "def missing_reports():\n",
    "    stmt = sa.select(\n",
    "                    [sa.func.count(region_index.c.report_id.distinct())]\n",
    "                ).select_from(region_index.outerjoin(report_table,\n",
    "                        region_index.c.report_id == report_table.c.report_id)\n",
    "                ).where(\n",
    "                    report_table.c.report_id == None\n",
    "                )\n",
    "    str(stmt)\n",
    "\n",
    "    with engine.begin() as conn:\n",
    "        result = conn.execute(stmt)\n",
    "\n",
    "    missing, = result.fetchone()\n",
    "    return missing"
   ]
  },
  {
   "cell_type": "code",
   "execution_count": 62,
   "metadata": {
    "collapsed": false
   },
   "outputs": [
    {
     "data": {
      "text/plain": [
       "198"
      ]
     },
     "execution_count": 62,
     "metadata": {},
     "output_type": "execute_result"
    }
   ],
   "source": [
    "missing_reports()"
   ]
  },
  {
   "cell_type": "code",
   "execution_count": 63,
   "metadata": {
    "collapsed": false
   },
   "outputs": [
    {
     "name": "stdout",
     "output_type": "stream",
     "text": [
      "2084 2083 2082 2081 2080 2078 2077 2076 2075 2074 2073 2072 2071 2070 2069 2068 2067 2066 2065 2064 "
     ]
    }
   ],
   "source": [
    "fill_reports(20)"
   ]
  },
  {
   "cell_type": "code",
   "execution_count": 64,
   "metadata": {
    "collapsed": false
   },
   "outputs": [
    {
     "name": "stdout",
     "output_type": "stream",
     "text": [
      "2063 2062 2060 2059 2058 2057 2056 2055 2054 2047 2046 2045 2044 2043 2042 2041 2040 2039 2038 2037 2036 2035 2034 2033 2032 2031 2029 2028 2027 2026 2025 2024 2023 2022 2021 2020 2019 2018 2017 2016 "
     ]
    }
   ],
   "source": [
    "fill_reports(40)"
   ]
  },
  {
   "cell_type": "code",
   "execution_count": 65,
   "metadata": {
    "collapsed": false
   },
   "outputs": [
    {
     "data": {
      "text/plain": [
       "138"
      ]
     },
     "execution_count": 65,
     "metadata": {},
     "output_type": "execute_result"
    }
   ],
   "source": [
    "missing_reports()"
   ]
  },
  {
   "cell_type": "code",
   "execution_count": 114,
   "metadata": {
    "collapsed": false
   },
   "outputs": [
    {
     "name": "stdout",
     "output_type": "stream",
     "text": [
      "2015 2014 2013 2012 2011 2010 2009 2008 2007 2006 2005 2004 2003 270 269 268 267 266 265 264 263 260 259 258 257 256 255 251 246 245 244 243 238 237 236 235 234 233 232 231 "
     ]
    }
   ],
   "source": [
    "fill_reports(40)"
   ]
  },
  {
   "cell_type": "markdown",
   "metadata": {},
   "source": [
    "notice it kicked over and started getting the old ones, after recent ones finished arriving"
   ]
  },
  {
   "cell_type": "code",
   "execution_count": null,
   "metadata": {
    "collapsed": false
   },
   "outputs": [],
   "source": [
    "fill_reports(85)"
   ]
  },
  {
   "cell_type": "markdown",
   "metadata": {},
   "source": [
    "# Get backlog of data\n",
    "\n",
    "stagger our scraping. useful when filling DB, to not hammer NWAC too hard"
   ]
  },
  {
   "cell_type": "code",
   "execution_count": 66,
   "metadata": {
    "collapsed": false
   },
   "outputs": [
    {
     "data": {
      "text/plain": [
       "(0, 138)"
      ]
     },
     "execution_count": 66,
     "metadata": {},
     "output_type": "execute_result"
    }
   ],
   "source": [
    "missing_forecasts(), missing_reports()"
   ]
  },
  {
   "cell_type": "code",
   "execution_count": null,
   "metadata": {
    "collapsed": false
   },
   "outputs": [],
   "source": [
    "import random\n",
    "random.randint(1,20)"
   ]
  },
  {
   "cell_type": "code",
   "execution_count": null,
   "metadata": {
    "collapsed": true
   },
   "outputs": [],
   "source": [
    "from time import sleep\n",
    "\n",
    "def get_staggered(seconds):\n",
    "    accumulated = 0\n",
    "    while accumulated <= seconds:\n",
    "        fill_forecasts(random.randint(1,3))\n",
    "        print('')\n",
    "        fill_reports(random.randint(4,12))\n",
    "        print('')\n",
    "        wait = random.randint(2,7)\n",
    "        accumulated += wait\n",
    "        sleep(wait)\n",
    "    return missing_forecasts(), missing_reports()"
   ]
  },
  {
   "cell_type": "code",
   "execution_count": null,
   "metadata": {
    "collapsed": false
   },
   "outputs": [],
   "source": [
    "get_staggered(60)"
   ]
  },
  {
   "cell_type": "code",
   "execution_count": null,
   "metadata": {
    "collapsed": false
   },
   "outputs": [],
   "source": [
    "get_staggered(10)"
   ]
  },
  {
   "cell_type": "markdown",
   "metadata": {},
   "source": [
    "# what regions do we have?"
   ]
  },
  {
   "cell_type": "code",
   "execution_count": 67,
   "metadata": {
    "collapsed": false
   },
   "outputs": [
    {
     "data": {
      "text/html": [
       "<div>\n",
       "<table border=\"1\" class=\"dataframe\">\n",
       "  <thead>\n",
       "    <tr style=\"text-align: right;\">\n",
       "      <th></th>\n",
       "      <th>region</th>\n",
       "    </tr>\n",
       "  </thead>\n",
       "  <tbody>\n",
       "    <tr>\n",
       "      <th>0</th>\n",
       "      <td>East Slopes North - Canadian Border to Lake Ch...</td>\n",
       "    </tr>\n",
       "    <tr>\n",
       "      <th>1</th>\n",
       "      <td>WA Cascades near and west of crest - between S...</td>\n",
       "    </tr>\n",
       "    <tr>\n",
       "      <th>2</th>\n",
       "      <td>Mt Hood</td>\n",
       "    </tr>\n",
       "    <tr>\n",
       "      <th>3</th>\n",
       "      <td>East slopes WA Cascades - north of Stevens Pass</td>\n",
       "    </tr>\n",
       "    <tr>\n",
       "      <th>4</th>\n",
       "      <td>West Slopes South - South of I-90 to Columbia ...</td>\n",
       "    </tr>\n",
       "    <tr>\n",
       "      <th>5</th>\n",
       "      <td>Stevens Pass</td>\n",
       "    </tr>\n",
       "    <tr>\n",
       "      <th>6</th>\n",
       "      <td>WA Cascades near and west of crest - north of ...</td>\n",
       "    </tr>\n",
       "    <tr>\n",
       "      <th>7</th>\n",
       "      <td>West Slopes North - Canadian Border to Skagit ...</td>\n",
       "    </tr>\n",
       "    <tr>\n",
       "      <th>8</th>\n",
       "      <td>Snoqualmie Pass</td>\n",
       "    </tr>\n",
       "    <tr>\n",
       "      <th>9</th>\n",
       "      <td>WA Cascades near and west of crest - between S...</td>\n",
       "    </tr>\n",
       "    <tr>\n",
       "      <th>10</th>\n",
       "      <td>White Pass</td>\n",
       "    </tr>\n",
       "    <tr>\n",
       "      <th>11</th>\n",
       "      <td>WA Cascades near and west of crest - south of ...</td>\n",
       "    </tr>\n",
       "    <tr>\n",
       "      <th>12</th>\n",
       "      <td>Olympics</td>\n",
       "    </tr>\n",
       "    <tr>\n",
       "      <th>13</th>\n",
       "      <td>East slopes WA Cascades - between Snoqualmie a...</td>\n",
       "    </tr>\n",
       "    <tr>\n",
       "      <th>14</th>\n",
       "      <td>East slopes WA Cascades - between Stevens and ...</td>\n",
       "    </tr>\n",
       "    <tr>\n",
       "      <th>15</th>\n",
       "      <td>East Slopes South - South of I-90 to Columbia ...</td>\n",
       "    </tr>\n",
       "    <tr>\n",
       "      <th>16</th>\n",
       "      <td>East Slopes Central - Lake Chelan to South of ...</td>\n",
       "    </tr>\n",
       "    <tr>\n",
       "      <th>17</th>\n",
       "      <td>East slopes WA Cascades - south of White Pass</td>\n",
       "    </tr>\n",
       "    <tr>\n",
       "      <th>18</th>\n",
       "      <td>West Slopes Central - Skagit River to South of...</td>\n",
       "    </tr>\n",
       "  </tbody>\n",
       "</table>\n",
       "</div>"
      ],
      "text/plain": [
       "                                               region\n",
       "0   East Slopes North - Canadian Border to Lake Ch...\n",
       "1   WA Cascades near and west of crest - between S...\n",
       "2                                             Mt Hood\n",
       "3     East slopes WA Cascades - north of Stevens Pass\n",
       "4   West Slopes South - South of I-90 to Columbia ...\n",
       "5                                        Stevens Pass\n",
       "6   WA Cascades near and west of crest - north of ...\n",
       "7   West Slopes North - Canadian Border to Skagit ...\n",
       "8                                     Snoqualmie Pass\n",
       "9   WA Cascades near and west of crest - between S...\n",
       "10                                         White Pass\n",
       "11  WA Cascades near and west of crest - south of ...\n",
       "12                                           Olympics\n",
       "13  East slopes WA Cascades - between Snoqualmie a...\n",
       "14  East slopes WA Cascades - between Stevens and ...\n",
       "15  East Slopes South - South of I-90 to Columbia ...\n",
       "16  East Slopes Central - Lake Chelan to South of ...\n",
       "17      East slopes WA Cascades - south of White Pass\n",
       "18  West Slopes Central - Skagit River to South of..."
      ]
     },
     "execution_count": 67,
     "metadata": {},
     "output_type": "execute_result"
    }
   ],
   "source": [
    "pd.read_sql_query('select distinct region from region_index;', engine)"
   ]
  },
  {
   "cell_type": "code",
   "execution_count": 68,
   "metadata": {
    "collapsed": false
   },
   "outputs": [
    {
     "data": {
      "text/html": [
       "<div>\n",
       "<table border=\"1\" class=\"dataframe\">\n",
       "  <thead>\n",
       "    <tr style=\"text-align: right;\">\n",
       "      <th></th>\n",
       "      <th>region</th>\n",
       "    </tr>\n",
       "  </thead>\n",
       "  <tbody>\n",
       "    <tr>\n",
       "      <th>0</th>\n",
       "      <td>East Slopes North - Canadian Border to Lake Ch...</td>\n",
       "    </tr>\n",
       "    <tr>\n",
       "      <th>1</th>\n",
       "      <td>WA Cascades near and west of crest - between S...</td>\n",
       "    </tr>\n",
       "    <tr>\n",
       "      <th>2</th>\n",
       "      <td>Mt Hood</td>\n",
       "    </tr>\n",
       "    <tr>\n",
       "      <th>3</th>\n",
       "      <td>East slopes WA Cascades - north of Stevens Pass</td>\n",
       "    </tr>\n",
       "    <tr>\n",
       "      <th>4</th>\n",
       "      <td>West Slopes South - South of I-90 to Columbia ...</td>\n",
       "    </tr>\n",
       "    <tr>\n",
       "      <th>5</th>\n",
       "      <td>Stevens Pass</td>\n",
       "    </tr>\n",
       "    <tr>\n",
       "      <th>6</th>\n",
       "      <td>WA Cascades near and west of crest - north of ...</td>\n",
       "    </tr>\n",
       "    <tr>\n",
       "      <th>7</th>\n",
       "      <td>West Slopes North - Canadian Border to Skagit ...</td>\n",
       "    </tr>\n",
       "    <tr>\n",
       "      <th>8</th>\n",
       "      <td>Snoqualmie Pass</td>\n",
       "    </tr>\n",
       "    <tr>\n",
       "      <th>9</th>\n",
       "      <td>White Pass</td>\n",
       "    </tr>\n",
       "    <tr>\n",
       "      <th>10</th>\n",
       "      <td>Olympics</td>\n",
       "    </tr>\n",
       "    <tr>\n",
       "      <th>11</th>\n",
       "      <td>East slopes WA Cascades - between Snoqualmie a...</td>\n",
       "    </tr>\n",
       "    <tr>\n",
       "      <th>12</th>\n",
       "      <td>East slopes WA Cascades - between Stevens and ...</td>\n",
       "    </tr>\n",
       "    <tr>\n",
       "      <th>13</th>\n",
       "      <td>East Slopes South - South of I-90 to Columbia ...</td>\n",
       "    </tr>\n",
       "    <tr>\n",
       "      <th>14</th>\n",
       "      <td>East Slopes Central - Lake Chelan to South of ...</td>\n",
       "    </tr>\n",
       "    <tr>\n",
       "      <th>15</th>\n",
       "      <td>East slopes WA Cascades - south of White Pass</td>\n",
       "    </tr>\n",
       "    <tr>\n",
       "      <th>16</th>\n",
       "      <td>West Slopes Central - Skagit River to South of...</td>\n",
       "    </tr>\n",
       "  </tbody>\n",
       "</table>\n",
       "</div>"
      ],
      "text/plain": [
       "                                               region\n",
       "0   East Slopes North - Canadian Border to Lake Ch...\n",
       "1   WA Cascades near and west of crest - between S...\n",
       "2                                             Mt Hood\n",
       "3     East slopes WA Cascades - north of Stevens Pass\n",
       "4   West Slopes South - South of I-90 to Columbia ...\n",
       "5                                        Stevens Pass\n",
       "6   WA Cascades near and west of crest - north of ...\n",
       "7   West Slopes North - Canadian Border to Skagit ...\n",
       "8                                     Snoqualmie Pass\n",
       "9                                          White Pass\n",
       "10                                           Olympics\n",
       "11  East slopes WA Cascades - between Snoqualmie a...\n",
       "12  East slopes WA Cascades - between Stevens and ...\n",
       "13  East Slopes South - South of I-90 to Columbia ...\n",
       "14  East Slopes Central - Lake Chelan to South of ...\n",
       "15      East slopes WA Cascades - south of White Pass\n",
       "16  West Slopes Central - Skagit River to South of..."
      ]
     },
     "execution_count": 68,
     "metadata": {},
     "output_type": "execute_result"
    }
   ],
   "source": [
    "pd.read_sql_query('select distinct region from reports;', engine)"
   ]
  },
  {
   "cell_type": "code",
   "execution_count": 87,
   "metadata": {
    "collapsed": false
   },
   "outputs": [
    {
     "data": {
      "text/plain": [
       "{'East Slopes Central - Lake Chelan to South of I-90',\n",
       " 'East Slopes North - Canadian Border to Lake Chelan',\n",
       " 'East Slopes South - South of I-90 to Columbia River',\n",
       " 'East slopes WA Cascades - between Snoqualmie and White Pass',\n",
       " 'East slopes WA Cascades - between Stevens and Snoqualmie Pass',\n",
       " 'East slopes WA Cascades - north of Stevens Pass',\n",
       " 'East slopes WA Cascades - south of White Pass',\n",
       " 'Mt Hood',\n",
       " 'Olympics',\n",
       " 'Snoqualmie Pass',\n",
       " 'Stevens Pass',\n",
       " 'WA Cascades near and west of crest - between Snoqualmie and White Pass',\n",
       " 'WA Cascades near and west of crest - between Stevens and Snoqualmie Pass',\n",
       " 'WA Cascades near and west of crest - north of Stevens Pass',\n",
       " 'WA Cascades near and west of crest - south of White Pass',\n",
       " 'West Slopes Central - Skagit River to South of I-90',\n",
       " 'West Slopes North - Canadian Border to Skagit River',\n",
       " 'West Slopes South - South of I-90 to Columbia River',\n",
       " 'White Pass'}"
      ]
     },
     "execution_count": 87,
     "metadata": {},
     "output_type": "execute_result"
    }
   ],
   "source": [
    "set(_68['region']) | set(_67['region'])"
   ]
  },
  {
   "cell_type": "markdown",
   "metadata": {},
   "source": [
    "Somewhere along the line, NWAC changed their regions. The 2 southern regions (E/W south of I-90, aka snoqualamie) used to be 4, with a further subdivision at white pass. In the north region, the border between North and central regions was moved north (from stevens pass to Skagit/Chelan.\n",
    "\n",
    "I'm blurring the line here between I-90 and 'S of I-90', so don't choose any sites in that zone\n",
    "\n",
    "I will define 10 regions, in place of the 6 existing, formed by the intersection of all these historical divisions"
   ]
  },
  {
   "cell_type": "code",
   "execution_count": 89,
   "metadata": {
    "collapsed": true
   },
   "outputs": [],
   "source": [
    "redistricting = [\n",
    "    ('east-far-north',\n",
    "     ['East Slopes North - Canadian Border to Lake Chelan', 'East slopes WA Cascades - north of Stevens Pass']),\n",
    "    ('east-mid-north',\n",
    "     ['East Slopes Central - Lake Chelan to South of I-90', 'East slopes WA Cascades - north of Stevens Pass']),\n",
    "    ('east-central',\n",
    "     ['East Slopes Central - Lake Chelan to South of I-90', 'East slopes WA Cascades - between Stevens and Snoqualmie Pass']),\n",
    "    ('east-mid-south',\n",
    "     ['East Slopes South - South of I-90 to Columbia River', 'East slopes WA Cascades - between Snoqualmie and White Pass']),\n",
    "    ('east-far-south',\n",
    "     ['East Slopes South - South of I-90 to Columbia River', 'East slopes WA Cascades - south of White Pass']),\n",
    "    #deep breath\n",
    "    ('west-far-north',\n",
    "     ['West Slopes North - Canadian Border to Skagit River', 'WA Cascades near and west of crest - north of Stevens Pass']),\n",
    "    ('west-mid-north',\n",
    "     ['West Slopes Central - Skagit River to South of I-90', 'WA Cascades near and west of crest - north of Stevens Pass']),\n",
    "    ('west-central',\n",
    "     ['West Slopes Central - Skagit River to South of I-90', 'WA Cascades near and west of crest - between Stevens and Snoqualmie Pass']),\n",
    "    ('west-mid-south',\n",
    "     ['West Slopes South - South of I-90 to Columbia River', 'WA Cascades near and west of crest - between Snoqualmie and White Pass']),\n",
    "    ('west-far-south',\n",
    "     ['West Slopes South - South of I-90 to Columbia River', 'WA Cascades near and west of crest - south of White Pass']),\n",
    "]"
   ]
  },
  {
   "cell_type": "code",
   "execution_count": 73,
   "metadata": {
    "collapsed": false
   },
   "outputs": [
    {
     "data": {
      "text/html": [
       "<div>\n",
       "<table border=\"1\" class=\"dataframe\">\n",
       "  <thead>\n",
       "    <tr style=\"text-align: right;\">\n",
       "      <th></th>\n",
       "      <th>count</th>\n",
       "    </tr>\n",
       "  </thead>\n",
       "  <tbody>\n",
       "    <tr>\n",
       "      <th>0</th>\n",
       "      <td>4776</td>\n",
       "    </tr>\n",
       "  </tbody>\n",
       "</table>\n",
       "</div>"
      ],
      "text/plain": [
       "   count\n",
       "0   4776"
      ]
     },
     "execution_count": 73,
     "metadata": {},
     "output_type": "execute_result"
    }
   ],
   "source": [
    "pd.read_sql_query('select count(region) from region_index;', engine)"
   ]
  },
  {
   "cell_type": "code",
   "execution_count": 74,
   "metadata": {
    "collapsed": false
   },
   "outputs": [
    {
     "data": {
      "text/html": [
       "<div>\n",
       "<table border=\"1\" class=\"dataframe\">\n",
       "  <thead>\n",
       "    <tr style=\"text-align: right;\">\n",
       "      <th></th>\n",
       "      <th>count</th>\n",
       "    </tr>\n",
       "  </thead>\n",
       "  <tbody>\n",
       "    <tr>\n",
       "      <th>0</th>\n",
       "      <td>1544</td>\n",
       "    </tr>\n",
       "  </tbody>\n",
       "</table>\n",
       "</div>"
      ],
      "text/plain": [
       "   count\n",
       "0   1544"
      ]
     },
     "execution_count": 74,
     "metadata": {},
     "output_type": "execute_result"
    }
   ],
   "source": [
    "pd.read_sql_query('select count(region) from reports;', engine)"
   ]
  },
  {
   "cell_type": "code",
   "execution_count": 78,
   "metadata": {
    "collapsed": false
   },
   "outputs": [
    {
     "data": {
      "text/html": [
       "<div>\n",
       "<table border=\"1\" class=\"dataframe\">\n",
       "  <thead>\n",
       "    <tr style=\"text-align: right;\">\n",
       "      <th></th>\n",
       "      <th>region</th>\n",
       "      <th>count</th>\n",
       "    </tr>\n",
       "  </thead>\n",
       "  <tbody>\n",
       "    <tr>\n",
       "      <th>0</th>\n",
       "      <td>East Slopes North - Canadian Border to Lake Ch...</td>\n",
       "      <td>228</td>\n",
       "    </tr>\n",
       "    <tr>\n",
       "      <th>1</th>\n",
       "      <td>WA Cascades near and west of crest - between S...</td>\n",
       "      <td>192</td>\n",
       "    </tr>\n",
       "    <tr>\n",
       "      <th>2</th>\n",
       "      <td>Mt Hood</td>\n",
       "      <td>420</td>\n",
       "    </tr>\n",
       "    <tr>\n",
       "      <th>3</th>\n",
       "      <td>East slopes WA Cascades - north of Stevens Pass</td>\n",
       "      <td>192</td>\n",
       "    </tr>\n",
       "    <tr>\n",
       "      <th>4</th>\n",
       "      <td>West Slopes South - South of I-90 to Columbia ...</td>\n",
       "      <td>228</td>\n",
       "    </tr>\n",
       "    <tr>\n",
       "      <th>5</th>\n",
       "      <td>Stevens Pass</td>\n",
       "      <td>420</td>\n",
       "    </tr>\n",
       "    <tr>\n",
       "      <th>6</th>\n",
       "      <td>WA Cascades near and west of crest - north of ...</td>\n",
       "      <td>192</td>\n",
       "    </tr>\n",
       "    <tr>\n",
       "      <th>7</th>\n",
       "      <td>West Slopes North - Canadian Border to Skagit ...</td>\n",
       "      <td>228</td>\n",
       "    </tr>\n",
       "    <tr>\n",
       "      <th>8</th>\n",
       "      <td>Snoqualmie Pass</td>\n",
       "      <td>420</td>\n",
       "    </tr>\n",
       "    <tr>\n",
       "      <th>9</th>\n",
       "      <td>WA Cascades near and west of crest - between S...</td>\n",
       "      <td>192</td>\n",
       "    </tr>\n",
       "    <tr>\n",
       "      <th>10</th>\n",
       "      <td>White Pass</td>\n",
       "      <td>192</td>\n",
       "    </tr>\n",
       "    <tr>\n",
       "      <th>11</th>\n",
       "      <td>WA Cascades near and west of crest - south of ...</td>\n",
       "      <td>192</td>\n",
       "    </tr>\n",
       "    <tr>\n",
       "      <th>12</th>\n",
       "      <td>Olympics</td>\n",
       "      <td>420</td>\n",
       "    </tr>\n",
       "    <tr>\n",
       "      <th>13</th>\n",
       "      <td>East slopes WA Cascades - between Snoqualmie a...</td>\n",
       "      <td>192</td>\n",
       "    </tr>\n",
       "    <tr>\n",
       "      <th>14</th>\n",
       "      <td>East slopes WA Cascades - between Stevens and ...</td>\n",
       "      <td>192</td>\n",
       "    </tr>\n",
       "    <tr>\n",
       "      <th>15</th>\n",
       "      <td>East Slopes South - South of I-90 to Columbia ...</td>\n",
       "      <td>228</td>\n",
       "    </tr>\n",
       "    <tr>\n",
       "      <th>16</th>\n",
       "      <td>East Slopes Central - Lake Chelan to South of ...</td>\n",
       "      <td>228</td>\n",
       "    </tr>\n",
       "    <tr>\n",
       "      <th>17</th>\n",
       "      <td>East slopes WA Cascades - south of White Pass</td>\n",
       "      <td>192</td>\n",
       "    </tr>\n",
       "    <tr>\n",
       "      <th>18</th>\n",
       "      <td>West Slopes Central - Skagit River to South of...</td>\n",
       "      <td>228</td>\n",
       "    </tr>\n",
       "  </tbody>\n",
       "</table>\n",
       "</div>"
      ],
      "text/plain": [
       "                                               region  count\n",
       "0   East Slopes North - Canadian Border to Lake Ch...    228\n",
       "1   WA Cascades near and west of crest - between S...    192\n",
       "2                                             Mt Hood    420\n",
       "3     East slopes WA Cascades - north of Stevens Pass    192\n",
       "4   West Slopes South - South of I-90 to Columbia ...    228\n",
       "5                                        Stevens Pass    420\n",
       "6   WA Cascades near and west of crest - north of ...    192\n",
       "7   West Slopes North - Canadian Border to Skagit ...    228\n",
       "8                                     Snoqualmie Pass    420\n",
       "9   WA Cascades near and west of crest - between S...    192\n",
       "10                                         White Pass    192\n",
       "11  WA Cascades near and west of crest - south of ...    192\n",
       "12                                           Olympics    420\n",
       "13  East slopes WA Cascades - between Snoqualmie a...    192\n",
       "14  East slopes WA Cascades - between Stevens and ...    192\n",
       "15  East Slopes South - South of I-90 to Columbia ...    228\n",
       "16  East Slopes Central - Lake Chelan to South of ...    228\n",
       "17      East slopes WA Cascades - south of White Pass    192\n",
       "18  West Slopes Central - Skagit River to South of...    228"
      ]
     },
     "execution_count": 78,
     "metadata": {},
     "output_type": "execute_result"
    }
   ],
   "source": [
    "pd.read_sql_query('select region, count(region) from region_index group by region;', engine)"
   ]
  },
  {
   "cell_type": "code",
   "execution_count": 79,
   "metadata": {
    "collapsed": false
   },
   "outputs": [
    {
     "data": {
      "text/html": [
       "<div>\n",
       "<table border=\"1\" class=\"dataframe\">\n",
       "  <thead>\n",
       "    <tr style=\"text-align: right;\">\n",
       "      <th></th>\n",
       "      <th>region</th>\n",
       "      <th>count</th>\n",
       "    </tr>\n",
       "  </thead>\n",
       "  <tbody>\n",
       "    <tr>\n",
       "      <th>0</th>\n",
       "      <td>East Slopes North - Canadian Border to Lake Ch...</td>\n",
       "      <td>215</td>\n",
       "    </tr>\n",
       "    <tr>\n",
       "      <th>1</th>\n",
       "      <td>WA Cascades near and west of crest - between S...</td>\n",
       "      <td>1</td>\n",
       "    </tr>\n",
       "    <tr>\n",
       "      <th>2</th>\n",
       "      <td>Mt Hood</td>\n",
       "      <td>336</td>\n",
       "    </tr>\n",
       "    <tr>\n",
       "      <th>3</th>\n",
       "      <td>East slopes WA Cascades - north of Stevens Pass</td>\n",
       "      <td>120</td>\n",
       "    </tr>\n",
       "    <tr>\n",
       "      <th>4</th>\n",
       "      <td>West Slopes South - South of I-90 to Columbia ...</td>\n",
       "      <td>26</td>\n",
       "    </tr>\n",
       "    <tr>\n",
       "      <th>5</th>\n",
       "      <td>Stevens Pass</td>\n",
       "      <td>109</td>\n",
       "    </tr>\n",
       "    <tr>\n",
       "      <th>6</th>\n",
       "      <td>WA Cascades near and west of crest - north of ...</td>\n",
       "      <td>9</td>\n",
       "    </tr>\n",
       "    <tr>\n",
       "      <th>7</th>\n",
       "      <td>West Slopes North - Canadian Border to Skagit ...</td>\n",
       "      <td>215</td>\n",
       "    </tr>\n",
       "    <tr>\n",
       "      <th>8</th>\n",
       "      <td>Snoqualmie Pass</td>\n",
       "      <td>4</td>\n",
       "    </tr>\n",
       "    <tr>\n",
       "      <th>9</th>\n",
       "      <td>White Pass</td>\n",
       "      <td>6</td>\n",
       "    </tr>\n",
       "    <tr>\n",
       "      <th>10</th>\n",
       "      <td>Olympics</td>\n",
       "      <td>373</td>\n",
       "    </tr>\n",
       "    <tr>\n",
       "      <th>11</th>\n",
       "      <td>East slopes WA Cascades - between Snoqualmie a...</td>\n",
       "      <td>10</td>\n",
       "    </tr>\n",
       "    <tr>\n",
       "      <th>12</th>\n",
       "      <td>East slopes WA Cascades - between Stevens and ...</td>\n",
       "      <td>2</td>\n",
       "    </tr>\n",
       "    <tr>\n",
       "      <th>13</th>\n",
       "      <td>East Slopes South - South of I-90 to Columbia ...</td>\n",
       "      <td>42</td>\n",
       "    </tr>\n",
       "    <tr>\n",
       "      <th>14</th>\n",
       "      <td>East Slopes Central - Lake Chelan to South of ...</td>\n",
       "      <td>49</td>\n",
       "    </tr>\n",
       "    <tr>\n",
       "      <th>15</th>\n",
       "      <td>East slopes WA Cascades - south of White Pass</td>\n",
       "      <td>2</td>\n",
       "    </tr>\n",
       "    <tr>\n",
       "      <th>16</th>\n",
       "      <td>West Slopes Central - Skagit River to South of...</td>\n",
       "      <td>25</td>\n",
       "    </tr>\n",
       "  </tbody>\n",
       "</table>\n",
       "</div>"
      ],
      "text/plain": [
       "                                               region  count\n",
       "0   East Slopes North - Canadian Border to Lake Ch...    215\n",
       "1   WA Cascades near and west of crest - between S...      1\n",
       "2                                             Mt Hood    336\n",
       "3     East slopes WA Cascades - north of Stevens Pass    120\n",
       "4   West Slopes South - South of I-90 to Columbia ...     26\n",
       "5                                        Stevens Pass    109\n",
       "6   WA Cascades near and west of crest - north of ...      9\n",
       "7   West Slopes North - Canadian Border to Skagit ...    215\n",
       "8                                     Snoqualmie Pass      4\n",
       "9                                          White Pass      6\n",
       "10                                           Olympics    373\n",
       "11  East slopes WA Cascades - between Snoqualmie a...     10\n",
       "12  East slopes WA Cascades - between Stevens and ...      2\n",
       "13  East Slopes South - South of I-90 to Columbia ...     42\n",
       "14  East Slopes Central - Lake Chelan to South of ...     49\n",
       "15      East slopes WA Cascades - south of White Pass      2\n",
       "16  West Slopes Central - Skagit River to South of...     25"
      ]
     },
     "execution_count": 79,
     "metadata": {},
     "output_type": "execute_result"
    }
   ],
   "source": [
    "pd.read_sql_query('select region, count(region) from reports group by region;', engine)"
   ]
  },
  {
   "cell_type": "code",
   "execution_count": null,
   "metadata": {
    "collapsed": true
   },
   "outputs": [],
   "source": []
  },
  {
   "cell_type": "code",
   "execution_count": 100,
   "metadata": {
    "collapsed": false
   },
   "outputs": [
    {
     "data": {
      "text/plain": [
       "{'east-central': ['East Slopes Central - Lake Chelan to South of I-90',\n",
       "  'East slopes WA Cascades - between Stevens and Snoqualmie Pass'],\n",
       " 'east-far-north': ['East Slopes North - Canadian Border to Lake Chelan',\n",
       "  'East slopes WA Cascades - north of Stevens Pass'],\n",
       " 'east-far-south': ['East Slopes South - South of I-90 to Columbia River',\n",
       "  'East slopes WA Cascades - south of White Pass'],\n",
       " 'east-mid-north': ['East Slopes Central - Lake Chelan to South of I-90',\n",
       "  'East slopes WA Cascades - north of Stevens Pass'],\n",
       " 'east-mid-south': ['East Slopes South - South of I-90 to Columbia River',\n",
       "  'East slopes WA Cascades - between Snoqualmie and White Pass'],\n",
       " 'west-central': ['West Slopes Central - Skagit River to South of I-90',\n",
       "  'WA Cascades near and west of crest - between Stevens and Snoqualmie Pass'],\n",
       " 'west-far-north': ['West Slopes North - Canadian Border to Skagit River',\n",
       "  'WA Cascades near and west of crest - north of Stevens Pass'],\n",
       " 'west-far-south': ['West Slopes South - South of I-90 to Columbia River',\n",
       "  'WA Cascades near and west of crest - south of White Pass'],\n",
       " 'west-mid-north': ['West Slopes Central - Skagit River to South of I-90',\n",
       "  'WA Cascades near and west of crest - north of Stevens Pass'],\n",
       " 'west-mid-south': ['West Slopes South - South of I-90 to Columbia River',\n",
       "  'WA Cascades near and west of crest - between Snoqualmie and White Pass']}"
      ]
     },
     "execution_count": 100,
     "metadata": {},
     "output_type": "execute_result"
    }
   ],
   "source": [
    "dict(redistricting)"
   ]
  },
  {
   "cell_type": "code",
   "execution_count": 99,
   "metadata": {
    "collapsed": false
   },
   "outputs": [
    {
     "data": {
      "text/html": [
       "<div>\n",
       "<table border=\"1\" class=\"dataframe\">\n",
       "  <thead>\n",
       "    <tr style=\"text-align: right;\">\n",
       "      <th></th>\n",
       "      <th>region</th>\n",
       "      <th>count_1</th>\n",
       "    </tr>\n",
       "  </thead>\n",
       "  <tbody>\n",
       "    <tr>\n",
       "      <th>0</th>\n",
       "      <td>East Slopes North - Canadian Border to Lake Ch...</td>\n",
       "      <td>228</td>\n",
       "    </tr>\n",
       "    <tr>\n",
       "      <th>1</th>\n",
       "      <td>WA Cascades near and west of crest - between S...</td>\n",
       "      <td>192</td>\n",
       "    </tr>\n",
       "    <tr>\n",
       "      <th>2</th>\n",
       "      <td>Mt Hood</td>\n",
       "      <td>420</td>\n",
       "    </tr>\n",
       "    <tr>\n",
       "      <th>3</th>\n",
       "      <td>East slopes WA Cascades - north of Stevens Pass</td>\n",
       "      <td>192</td>\n",
       "    </tr>\n",
       "    <tr>\n",
       "      <th>4</th>\n",
       "      <td>West Slopes South - South of I-90 to Columbia ...</td>\n",
       "      <td>228</td>\n",
       "    </tr>\n",
       "    <tr>\n",
       "      <th>5</th>\n",
       "      <td>Stevens Pass</td>\n",
       "      <td>420</td>\n",
       "    </tr>\n",
       "    <tr>\n",
       "      <th>6</th>\n",
       "      <td>WA Cascades near and west of crest - north of ...</td>\n",
       "      <td>192</td>\n",
       "    </tr>\n",
       "    <tr>\n",
       "      <th>7</th>\n",
       "      <td>West Slopes North - Canadian Border to Skagit ...</td>\n",
       "      <td>228</td>\n",
       "    </tr>\n",
       "    <tr>\n",
       "      <th>8</th>\n",
       "      <td>Snoqualmie Pass</td>\n",
       "      <td>420</td>\n",
       "    </tr>\n",
       "    <tr>\n",
       "      <th>9</th>\n",
       "      <td>WA Cascades near and west of crest - between S...</td>\n",
       "      <td>192</td>\n",
       "    </tr>\n",
       "    <tr>\n",
       "      <th>10</th>\n",
       "      <td>White Pass</td>\n",
       "      <td>192</td>\n",
       "    </tr>\n",
       "    <tr>\n",
       "      <th>11</th>\n",
       "      <td>WA Cascades near and west of crest - south of ...</td>\n",
       "      <td>192</td>\n",
       "    </tr>\n",
       "    <tr>\n",
       "      <th>12</th>\n",
       "      <td>Olympics</td>\n",
       "      <td>420</td>\n",
       "    </tr>\n",
       "    <tr>\n",
       "      <th>13</th>\n",
       "      <td>East slopes WA Cascades - between Snoqualmie a...</td>\n",
       "      <td>192</td>\n",
       "    </tr>\n",
       "    <tr>\n",
       "      <th>14</th>\n",
       "      <td>East slopes WA Cascades - between Stevens and ...</td>\n",
       "      <td>192</td>\n",
       "    </tr>\n",
       "    <tr>\n",
       "      <th>15</th>\n",
       "      <td>East Slopes South - South of I-90 to Columbia ...</td>\n",
       "      <td>228</td>\n",
       "    </tr>\n",
       "    <tr>\n",
       "      <th>16</th>\n",
       "      <td>East Slopes Central - Lake Chelan to South of ...</td>\n",
       "      <td>228</td>\n",
       "    </tr>\n",
       "    <tr>\n",
       "      <th>17</th>\n",
       "      <td>East slopes WA Cascades - south of White Pass</td>\n",
       "      <td>192</td>\n",
       "    </tr>\n",
       "    <tr>\n",
       "      <th>18</th>\n",
       "      <td>West Slopes Central - Skagit River to South of...</td>\n",
       "      <td>228</td>\n",
       "    </tr>\n",
       "  </tbody>\n",
       "</table>\n",
       "</div>"
      ],
      "text/plain": [
       "                                               region  count_1\n",
       "0   East Slopes North - Canadian Border to Lake Ch...      228\n",
       "1   WA Cascades near and west of crest - between S...      192\n",
       "2                                             Mt Hood      420\n",
       "3     East slopes WA Cascades - north of Stevens Pass      192\n",
       "4   West Slopes South - South of I-90 to Columbia ...      228\n",
       "5                                        Stevens Pass      420\n",
       "6   WA Cascades near and west of crest - north of ...      192\n",
       "7   West Slopes North - Canadian Border to Skagit ...      228\n",
       "8                                     Snoqualmie Pass      420\n",
       "9   WA Cascades near and west of crest - between S...      192\n",
       "10                                         White Pass      192\n",
       "11  WA Cascades near and west of crest - south of ...      192\n",
       "12                                           Olympics      420\n",
       "13  East slopes WA Cascades - between Snoqualmie a...      192\n",
       "14  East slopes WA Cascades - between Stevens and ...      192\n",
       "15  East Slopes South - South of I-90 to Columbia ...      228\n",
       "16  East Slopes Central - Lake Chelan to South of ...      228\n",
       "17      East slopes WA Cascades - south of White Pass      192\n",
       "18  West Slopes Central - Skagit River to South of...      228"
      ]
     },
     "execution_count": 99,
     "metadata": {},
     "output_type": "execute_result"
    }
   ],
   "source": [
    "stmt = sa.select([region_index.c.region,\n",
    "                  sa.func.count(region_index.c.region), \n",
    "                 ]).group_by(region_index.c.region)\n",
    "\n",
    "pd.read_sql_query(stmt, engine)"
   ]
  },
  {
   "cell_type": "code",
   "execution_count": 108,
   "metadata": {
    "collapsed": false
   },
   "outputs": [
    {
     "name": "stdout",
     "output_type": "stream",
     "text": [
      "SELECT region_index.region, count(region_index.region) AS count_1 \n",
      "FROM region_index \n",
      "WHERE region_index.region = :region_1 OR region_index.region = :region_2 GROUP BY region_index.region\n"
     ]
    },
    {
     "data": {
      "text/html": [
       "<div>\n",
       "<table border=\"1\" class=\"dataframe\">\n",
       "  <thead>\n",
       "    <tr style=\"text-align: right;\">\n",
       "      <th></th>\n",
       "      <th>region</th>\n",
       "      <th>count_1</th>\n",
       "    </tr>\n",
       "  </thead>\n",
       "  <tbody>\n",
       "    <tr>\n",
       "      <th>0</th>\n",
       "      <td>Mt Hood</td>\n",
       "      <td>420</td>\n",
       "    </tr>\n",
       "    <tr>\n",
       "      <th>1</th>\n",
       "      <td>Olympics</td>\n",
       "      <td>420</td>\n",
       "    </tr>\n",
       "  </tbody>\n",
       "</table>\n",
       "</div>"
      ],
      "text/plain": [
       "     region  count_1\n",
       "0   Mt Hood      420\n",
       "1  Olympics      420"
      ]
     },
     "execution_count": 108,
     "metadata": {},
     "output_type": "execute_result"
    }
   ],
   "source": [
    "stmt = sa.select([region_index.c.region,\n",
    "                  sa.func.count(region_index.c.region), \n",
    "                 ]\n",
    "                ).group_by(region_index.c.region\n",
    "                ).where(\n",
    "    sa.or_(region_index.c.region == 'Olympics',\n",
    "           region_index.c.region == 'Mt Hood'\n",
    "          )\n",
    "    )\n",
    "print(stmt)\n",
    "pd.read_sql_query(stmt, engine)"
   ]
  },
  {
   "cell_type": "code",
   "execution_count": 124,
   "metadata": {
    "collapsed": false
   },
   "outputs": [
    {
     "name": "stdout",
     "output_type": "stream",
     "text": [
      "SELECT count(region_index.region) AS count_1, region_index.region \n",
      "FROM region_index \n",
      "WHERE region_index.region = :region_1 OR region_index.region = :region_2 GROUP BY region_index.region\n"
     ]
    },
    {
     "data": {
      "text/html": [
       "<div>\n",
       "<table border=\"1\" class=\"dataframe\">\n",
       "  <thead>\n",
       "    <tr style=\"text-align: right;\">\n",
       "      <th></th>\n",
       "      <th>count_1</th>\n",
       "      <th>region</th>\n",
       "    </tr>\n",
       "  </thead>\n",
       "  <tbody>\n",
       "    <tr>\n",
       "      <th>0</th>\n",
       "      <td>228</td>\n",
       "      <td>West Slopes South - South of I-90 to Columbia ...</td>\n",
       "    </tr>\n",
       "    <tr>\n",
       "      <th>1</th>\n",
       "      <td>192</td>\n",
       "      <td>WA Cascades near and west of crest - between S...</td>\n",
       "    </tr>\n",
       "  </tbody>\n",
       "</table>\n",
       "</div>"
      ],
      "text/plain": [
       "   count_1                                             region\n",
       "0      228  West Slopes South - South of I-90 to Columbia ...\n",
       "1      192  WA Cascades near and west of crest - between S..."
      ]
     },
     "execution_count": 124,
     "metadata": {},
     "output_type": "execute_result"
    }
   ],
   "source": [
    "def count_subregions(subregions, column):\n",
    "    or_ = sa.or_(column == subr for subr in subregions)\n",
    "    stmt = sa.select([sa.func.count(column), column]).group_by(column).where(or_)\n",
    "    return stmt\n",
    "\n",
    "stmt = count_subregions(dict(redistricting)['west-mid-south'],\n",
    "                       region_index.c.region)\n",
    "print (stmt)\n",
    "pd.read_sql_query(stmt, engine)"
   ]
  },
  {
   "cell_type": "code",
   "execution_count": 125,
   "metadata": {
    "collapsed": false
   },
   "outputs": [
    {
     "data": {
      "text/plain": [
       "'east-far-north'"
      ]
     },
     "metadata": {},
     "output_type": "display_data"
    },
    {
     "data": {
      "text/html": [
       "<div>\n",
       "<table border=\"1\" class=\"dataframe\">\n",
       "  <thead>\n",
       "    <tr style=\"text-align: right;\">\n",
       "      <th></th>\n",
       "      <th>count_1</th>\n",
       "      <th>region</th>\n",
       "    </tr>\n",
       "  </thead>\n",
       "  <tbody>\n",
       "    <tr>\n",
       "      <th>0</th>\n",
       "      <td>228</td>\n",
       "      <td>East Slopes North - Canadian Border to Lake Ch...</td>\n",
       "    </tr>\n",
       "    <tr>\n",
       "      <th>1</th>\n",
       "      <td>192</td>\n",
       "      <td>East slopes WA Cascades - north of Stevens Pass</td>\n",
       "    </tr>\n",
       "  </tbody>\n",
       "</table>\n",
       "</div>"
      ],
      "text/plain": [
       "   count_1                                             region\n",
       "0      228  East Slopes North - Canadian Border to Lake Ch...\n",
       "1      192    East slopes WA Cascades - north of Stevens Pass"
      ]
     },
     "metadata": {},
     "output_type": "display_data"
    },
    {
     "data": {
      "text/plain": [
       "'east-mid-north'"
      ]
     },
     "metadata": {},
     "output_type": "display_data"
    },
    {
     "data": {
      "text/html": [
       "<div>\n",
       "<table border=\"1\" class=\"dataframe\">\n",
       "  <thead>\n",
       "    <tr style=\"text-align: right;\">\n",
       "      <th></th>\n",
       "      <th>count_1</th>\n",
       "      <th>region</th>\n",
       "    </tr>\n",
       "  </thead>\n",
       "  <tbody>\n",
       "    <tr>\n",
       "      <th>0</th>\n",
       "      <td>228</td>\n",
       "      <td>East Slopes Central - Lake Chelan to South of ...</td>\n",
       "    </tr>\n",
       "    <tr>\n",
       "      <th>1</th>\n",
       "      <td>192</td>\n",
       "      <td>East slopes WA Cascades - north of Stevens Pass</td>\n",
       "    </tr>\n",
       "  </tbody>\n",
       "</table>\n",
       "</div>"
      ],
      "text/plain": [
       "   count_1                                             region\n",
       "0      228  East Slopes Central - Lake Chelan to South of ...\n",
       "1      192    East slopes WA Cascades - north of Stevens Pass"
      ]
     },
     "metadata": {},
     "output_type": "display_data"
    },
    {
     "data": {
      "text/plain": [
       "'east-central'"
      ]
     },
     "metadata": {},
     "output_type": "display_data"
    },
    {
     "data": {
      "text/html": [
       "<div>\n",
       "<table border=\"1\" class=\"dataframe\">\n",
       "  <thead>\n",
       "    <tr style=\"text-align: right;\">\n",
       "      <th></th>\n",
       "      <th>count_1</th>\n",
       "      <th>region</th>\n",
       "    </tr>\n",
       "  </thead>\n",
       "  <tbody>\n",
       "    <tr>\n",
       "      <th>0</th>\n",
       "      <td>192</td>\n",
       "      <td>East slopes WA Cascades - between Stevens and ...</td>\n",
       "    </tr>\n",
       "    <tr>\n",
       "      <th>1</th>\n",
       "      <td>228</td>\n",
       "      <td>East Slopes Central - Lake Chelan to South of ...</td>\n",
       "    </tr>\n",
       "  </tbody>\n",
       "</table>\n",
       "</div>"
      ],
      "text/plain": [
       "   count_1                                             region\n",
       "0      192  East slopes WA Cascades - between Stevens and ...\n",
       "1      228  East Slopes Central - Lake Chelan to South of ..."
      ]
     },
     "metadata": {},
     "output_type": "display_data"
    },
    {
     "data": {
      "text/plain": [
       "'east-mid-south'"
      ]
     },
     "metadata": {},
     "output_type": "display_data"
    },
    {
     "data": {
      "text/html": [
       "<div>\n",
       "<table border=\"1\" class=\"dataframe\">\n",
       "  <thead>\n",
       "    <tr style=\"text-align: right;\">\n",
       "      <th></th>\n",
       "      <th>count_1</th>\n",
       "      <th>region</th>\n",
       "    </tr>\n",
       "  </thead>\n",
       "  <tbody>\n",
       "    <tr>\n",
       "      <th>0</th>\n",
       "      <td>192</td>\n",
       "      <td>East slopes WA Cascades - between Snoqualmie a...</td>\n",
       "    </tr>\n",
       "    <tr>\n",
       "      <th>1</th>\n",
       "      <td>228</td>\n",
       "      <td>East Slopes South - South of I-90 to Columbia ...</td>\n",
       "    </tr>\n",
       "  </tbody>\n",
       "</table>\n",
       "</div>"
      ],
      "text/plain": [
       "   count_1                                             region\n",
       "0      192  East slopes WA Cascades - between Snoqualmie a...\n",
       "1      228  East Slopes South - South of I-90 to Columbia ..."
      ]
     },
     "metadata": {},
     "output_type": "display_data"
    },
    {
     "data": {
      "text/plain": [
       "'east-far-south'"
      ]
     },
     "metadata": {},
     "output_type": "display_data"
    },
    {
     "data": {
      "text/html": [
       "<div>\n",
       "<table border=\"1\" class=\"dataframe\">\n",
       "  <thead>\n",
       "    <tr style=\"text-align: right;\">\n",
       "      <th></th>\n",
       "      <th>count_1</th>\n",
       "      <th>region</th>\n",
       "    </tr>\n",
       "  </thead>\n",
       "  <tbody>\n",
       "    <tr>\n",
       "      <th>0</th>\n",
       "      <td>192</td>\n",
       "      <td>East slopes WA Cascades - south of White Pass</td>\n",
       "    </tr>\n",
       "    <tr>\n",
       "      <th>1</th>\n",
       "      <td>228</td>\n",
       "      <td>East Slopes South - South of I-90 to Columbia ...</td>\n",
       "    </tr>\n",
       "  </tbody>\n",
       "</table>\n",
       "</div>"
      ],
      "text/plain": [
       "   count_1                                             region\n",
       "0      192      East slopes WA Cascades - south of White Pass\n",
       "1      228  East Slopes South - South of I-90 to Columbia ..."
      ]
     },
     "metadata": {},
     "output_type": "display_data"
    },
    {
     "data": {
      "text/plain": [
       "'west-far-north'"
      ]
     },
     "metadata": {},
     "output_type": "display_data"
    },
    {
     "data": {
      "text/html": [
       "<div>\n",
       "<table border=\"1\" class=\"dataframe\">\n",
       "  <thead>\n",
       "    <tr style=\"text-align: right;\">\n",
       "      <th></th>\n",
       "      <th>count_1</th>\n",
       "      <th>region</th>\n",
       "    </tr>\n",
       "  </thead>\n",
       "  <tbody>\n",
       "    <tr>\n",
       "      <th>0</th>\n",
       "      <td>192</td>\n",
       "      <td>WA Cascades near and west of crest - north of ...</td>\n",
       "    </tr>\n",
       "    <tr>\n",
       "      <th>1</th>\n",
       "      <td>228</td>\n",
       "      <td>West Slopes North - Canadian Border to Skagit ...</td>\n",
       "    </tr>\n",
       "  </tbody>\n",
       "</table>\n",
       "</div>"
      ],
      "text/plain": [
       "   count_1                                             region\n",
       "0      192  WA Cascades near and west of crest - north of ...\n",
       "1      228  West Slopes North - Canadian Border to Skagit ..."
      ]
     },
     "metadata": {},
     "output_type": "display_data"
    },
    {
     "data": {
      "text/plain": [
       "'west-mid-north'"
      ]
     },
     "metadata": {},
     "output_type": "display_data"
    },
    {
     "data": {
      "text/html": [
       "<div>\n",
       "<table border=\"1\" class=\"dataframe\">\n",
       "  <thead>\n",
       "    <tr style=\"text-align: right;\">\n",
       "      <th></th>\n",
       "      <th>count_1</th>\n",
       "      <th>region</th>\n",
       "    </tr>\n",
       "  </thead>\n",
       "  <tbody>\n",
       "    <tr>\n",
       "      <th>0</th>\n",
       "      <td>192</td>\n",
       "      <td>WA Cascades near and west of crest - north of ...</td>\n",
       "    </tr>\n",
       "    <tr>\n",
       "      <th>1</th>\n",
       "      <td>228</td>\n",
       "      <td>West Slopes Central - Skagit River to South of...</td>\n",
       "    </tr>\n",
       "  </tbody>\n",
       "</table>\n",
       "</div>"
      ],
      "text/plain": [
       "   count_1                                             region\n",
       "0      192  WA Cascades near and west of crest - north of ...\n",
       "1      228  West Slopes Central - Skagit River to South of..."
      ]
     },
     "metadata": {},
     "output_type": "display_data"
    },
    {
     "data": {
      "text/plain": [
       "'west-central'"
      ]
     },
     "metadata": {},
     "output_type": "display_data"
    },
    {
     "data": {
      "text/html": [
       "<div>\n",
       "<table border=\"1\" class=\"dataframe\">\n",
       "  <thead>\n",
       "    <tr style=\"text-align: right;\">\n",
       "      <th></th>\n",
       "      <th>count_1</th>\n",
       "      <th>region</th>\n",
       "    </tr>\n",
       "  </thead>\n",
       "  <tbody>\n",
       "    <tr>\n",
       "      <th>0</th>\n",
       "      <td>192</td>\n",
       "      <td>WA Cascades near and west of crest - between S...</td>\n",
       "    </tr>\n",
       "    <tr>\n",
       "      <th>1</th>\n",
       "      <td>228</td>\n",
       "      <td>West Slopes Central - Skagit River to South of...</td>\n",
       "    </tr>\n",
       "  </tbody>\n",
       "</table>\n",
       "</div>"
      ],
      "text/plain": [
       "   count_1                                             region\n",
       "0      192  WA Cascades near and west of crest - between S...\n",
       "1      228  West Slopes Central - Skagit River to South of..."
      ]
     },
     "metadata": {},
     "output_type": "display_data"
    },
    {
     "data": {
      "text/plain": [
       "'west-mid-south'"
      ]
     },
     "metadata": {},
     "output_type": "display_data"
    },
    {
     "data": {
      "text/html": [
       "<div>\n",
       "<table border=\"1\" class=\"dataframe\">\n",
       "  <thead>\n",
       "    <tr style=\"text-align: right;\">\n",
       "      <th></th>\n",
       "      <th>count_1</th>\n",
       "      <th>region</th>\n",
       "    </tr>\n",
       "  </thead>\n",
       "  <tbody>\n",
       "    <tr>\n",
       "      <th>0</th>\n",
       "      <td>228</td>\n",
       "      <td>West Slopes South - South of I-90 to Columbia ...</td>\n",
       "    </tr>\n",
       "    <tr>\n",
       "      <th>1</th>\n",
       "      <td>192</td>\n",
       "      <td>WA Cascades near and west of crest - between S...</td>\n",
       "    </tr>\n",
       "  </tbody>\n",
       "</table>\n",
       "</div>"
      ],
      "text/plain": [
       "   count_1                                             region\n",
       "0      228  West Slopes South - South of I-90 to Columbia ...\n",
       "1      192  WA Cascades near and west of crest - between S..."
      ]
     },
     "metadata": {},
     "output_type": "display_data"
    },
    {
     "data": {
      "text/plain": [
       "'west-far-south'"
      ]
     },
     "metadata": {},
     "output_type": "display_data"
    },
    {
     "data": {
      "text/html": [
       "<div>\n",
       "<table border=\"1\" class=\"dataframe\">\n",
       "  <thead>\n",
       "    <tr style=\"text-align: right;\">\n",
       "      <th></th>\n",
       "      <th>count_1</th>\n",
       "      <th>region</th>\n",
       "    </tr>\n",
       "  </thead>\n",
       "  <tbody>\n",
       "    <tr>\n",
       "      <th>0</th>\n",
       "      <td>228</td>\n",
       "      <td>West Slopes South - South of I-90 to Columbia ...</td>\n",
       "    </tr>\n",
       "    <tr>\n",
       "      <th>1</th>\n",
       "      <td>192</td>\n",
       "      <td>WA Cascades near and west of crest - south of ...</td>\n",
       "    </tr>\n",
       "  </tbody>\n",
       "</table>\n",
       "</div>"
      ],
      "text/plain": [
       "   count_1                                             region\n",
       "0      228  West Slopes South - South of I-90 to Columbia ...\n",
       "1      192  WA Cascades near and west of crest - south of ..."
      ]
     },
     "metadata": {},
     "output_type": "display_data"
    }
   ],
   "source": [
    "from IPython.display import display\n",
    "\n",
    "for metaregion, real_regions in redistricting:\n",
    "    stmt = count_subregions(dict(redistricting)[metaregion], region_index.c.region)\n",
    "    display(metaregion)\n",
    "    display(pd.read_sql_query(stmt, engine))"
   ]
  },
  {
   "cell_type": "code",
   "execution_count": 126,
   "metadata": {
    "collapsed": false
   },
   "outputs": [
    {
     "data": {
      "text/plain": [
       "'east-far-north'"
      ]
     },
     "metadata": {},
     "output_type": "display_data"
    },
    {
     "data": {
      "text/html": [
       "<div>\n",
       "<table border=\"1\" class=\"dataframe\">\n",
       "  <thead>\n",
       "    <tr style=\"text-align: right;\">\n",
       "      <th></th>\n",
       "      <th>count_1</th>\n",
       "      <th>region</th>\n",
       "    </tr>\n",
       "  </thead>\n",
       "  <tbody>\n",
       "    <tr>\n",
       "      <th>0</th>\n",
       "      <td>218</td>\n",
       "      <td>East Slopes North - Canadian Border to Lake Ch...</td>\n",
       "    </tr>\n",
       "    <tr>\n",
       "      <th>1</th>\n",
       "      <td>128</td>\n",
       "      <td>East slopes WA Cascades - north of Stevens Pass</td>\n",
       "    </tr>\n",
       "  </tbody>\n",
       "</table>\n",
       "</div>"
      ],
      "text/plain": [
       "   count_1                                             region\n",
       "0      218  East Slopes North - Canadian Border to Lake Ch...\n",
       "1      128    East slopes WA Cascades - north of Stevens Pass"
      ]
     },
     "metadata": {},
     "output_type": "display_data"
    },
    {
     "data": {
      "text/plain": [
       "'east-mid-north'"
      ]
     },
     "metadata": {},
     "output_type": "display_data"
    },
    {
     "data": {
      "text/html": [
       "<div>\n",
       "<table border=\"1\" class=\"dataframe\">\n",
       "  <thead>\n",
       "    <tr style=\"text-align: right;\">\n",
       "      <th></th>\n",
       "      <th>count_1</th>\n",
       "      <th>region</th>\n",
       "    </tr>\n",
       "  </thead>\n",
       "  <tbody>\n",
       "    <tr>\n",
       "      <th>0</th>\n",
       "      <td>51</td>\n",
       "      <td>East Slopes Central - Lake Chelan to South of ...</td>\n",
       "    </tr>\n",
       "    <tr>\n",
       "      <th>1</th>\n",
       "      <td>128</td>\n",
       "      <td>East slopes WA Cascades - north of Stevens Pass</td>\n",
       "    </tr>\n",
       "  </tbody>\n",
       "</table>\n",
       "</div>"
      ],
      "text/plain": [
       "   count_1                                             region\n",
       "0       51  East Slopes Central - Lake Chelan to South of ...\n",
       "1      128    East slopes WA Cascades - north of Stevens Pass"
      ]
     },
     "metadata": {},
     "output_type": "display_data"
    },
    {
     "data": {
      "text/plain": [
       "'east-central'"
      ]
     },
     "metadata": {},
     "output_type": "display_data"
    },
    {
     "data": {
      "text/html": [
       "<div>\n",
       "<table border=\"1\" class=\"dataframe\">\n",
       "  <thead>\n",
       "    <tr style=\"text-align: right;\">\n",
       "      <th></th>\n",
       "      <th>count_1</th>\n",
       "      <th>region</th>\n",
       "    </tr>\n",
       "  </thead>\n",
       "  <tbody>\n",
       "    <tr>\n",
       "      <th>0</th>\n",
       "      <td>51</td>\n",
       "      <td>East Slopes Central - Lake Chelan to South of ...</td>\n",
       "    </tr>\n",
       "    <tr>\n",
       "      <th>1</th>\n",
       "      <td>2</td>\n",
       "      <td>East slopes WA Cascades - between Stevens and ...</td>\n",
       "    </tr>\n",
       "  </tbody>\n",
       "</table>\n",
       "</div>"
      ],
      "text/plain": [
       "   count_1                                             region\n",
       "0       51  East Slopes Central - Lake Chelan to South of ...\n",
       "1        2  East slopes WA Cascades - between Stevens and ..."
      ]
     },
     "metadata": {},
     "output_type": "display_data"
    },
    {
     "data": {
      "text/plain": [
       "'east-mid-south'"
      ]
     },
     "metadata": {},
     "output_type": "display_data"
    },
    {
     "data": {
      "text/html": [
       "<div>\n",
       "<table border=\"1\" class=\"dataframe\">\n",
       "  <thead>\n",
       "    <tr style=\"text-align: right;\">\n",
       "      <th></th>\n",
       "      <th>count_1</th>\n",
       "      <th>region</th>\n",
       "    </tr>\n",
       "  </thead>\n",
       "  <tbody>\n",
       "    <tr>\n",
       "      <th>0</th>\n",
       "      <td>12</td>\n",
       "      <td>East slopes WA Cascades - between Snoqualmie a...</td>\n",
       "    </tr>\n",
       "    <tr>\n",
       "      <th>1</th>\n",
       "      <td>42</td>\n",
       "      <td>East Slopes South - South of I-90 to Columbia ...</td>\n",
       "    </tr>\n",
       "  </tbody>\n",
       "</table>\n",
       "</div>"
      ],
      "text/plain": [
       "   count_1                                             region\n",
       "0       12  East slopes WA Cascades - between Snoqualmie a...\n",
       "1       42  East Slopes South - South of I-90 to Columbia ..."
      ]
     },
     "metadata": {},
     "output_type": "display_data"
    },
    {
     "data": {
      "text/plain": [
       "'east-far-south'"
      ]
     },
     "metadata": {},
     "output_type": "display_data"
    },
    {
     "data": {
      "text/html": [
       "<div>\n",
       "<table border=\"1\" class=\"dataframe\">\n",
       "  <thead>\n",
       "    <tr style=\"text-align: right;\">\n",
       "      <th></th>\n",
       "      <th>count_1</th>\n",
       "      <th>region</th>\n",
       "    </tr>\n",
       "  </thead>\n",
       "  <tbody>\n",
       "    <tr>\n",
       "      <th>0</th>\n",
       "      <td>2</td>\n",
       "      <td>East slopes WA Cascades - south of White Pass</td>\n",
       "    </tr>\n",
       "    <tr>\n",
       "      <th>1</th>\n",
       "      <td>42</td>\n",
       "      <td>East Slopes South - South of I-90 to Columbia ...</td>\n",
       "    </tr>\n",
       "  </tbody>\n",
       "</table>\n",
       "</div>"
      ],
      "text/plain": [
       "   count_1                                             region\n",
       "0        2      East slopes WA Cascades - south of White Pass\n",
       "1       42  East Slopes South - South of I-90 to Columbia ..."
      ]
     },
     "metadata": {},
     "output_type": "display_data"
    },
    {
     "data": {
      "text/plain": [
       "'west-far-north'"
      ]
     },
     "metadata": {},
     "output_type": "display_data"
    },
    {
     "data": {
      "text/html": [
       "<div>\n",
       "<table border=\"1\" class=\"dataframe\">\n",
       "  <thead>\n",
       "    <tr style=\"text-align: right;\">\n",
       "      <th></th>\n",
       "      <th>count_1</th>\n",
       "      <th>region</th>\n",
       "    </tr>\n",
       "  </thead>\n",
       "  <tbody>\n",
       "    <tr>\n",
       "      <th>0</th>\n",
       "      <td>9</td>\n",
       "      <td>WA Cascades near and west of crest - north of ...</td>\n",
       "    </tr>\n",
       "    <tr>\n",
       "      <th>1</th>\n",
       "      <td>218</td>\n",
       "      <td>West Slopes North - Canadian Border to Skagit ...</td>\n",
       "    </tr>\n",
       "  </tbody>\n",
       "</table>\n",
       "</div>"
      ],
      "text/plain": [
       "   count_1                                             region\n",
       "0        9  WA Cascades near and west of crest - north of ...\n",
       "1      218  West Slopes North - Canadian Border to Skagit ..."
      ]
     },
     "metadata": {},
     "output_type": "display_data"
    },
    {
     "data": {
      "text/plain": [
       "'west-mid-north'"
      ]
     },
     "metadata": {},
     "output_type": "display_data"
    },
    {
     "data": {
      "text/html": [
       "<div>\n",
       "<table border=\"1\" class=\"dataframe\">\n",
       "  <thead>\n",
       "    <tr style=\"text-align: right;\">\n",
       "      <th></th>\n",
       "      <th>count_1</th>\n",
       "      <th>region</th>\n",
       "    </tr>\n",
       "  </thead>\n",
       "  <tbody>\n",
       "    <tr>\n",
       "      <th>0</th>\n",
       "      <td>25</td>\n",
       "      <td>West Slopes Central - Skagit River to South of...</td>\n",
       "    </tr>\n",
       "    <tr>\n",
       "      <th>1</th>\n",
       "      <td>9</td>\n",
       "      <td>WA Cascades near and west of crest - north of ...</td>\n",
       "    </tr>\n",
       "  </tbody>\n",
       "</table>\n",
       "</div>"
      ],
      "text/plain": [
       "   count_1                                             region\n",
       "0       25  West Slopes Central - Skagit River to South of...\n",
       "1        9  WA Cascades near and west of crest - north of ..."
      ]
     },
     "metadata": {},
     "output_type": "display_data"
    },
    {
     "data": {
      "text/plain": [
       "'west-central'"
      ]
     },
     "metadata": {},
     "output_type": "display_data"
    },
    {
     "data": {
      "text/html": [
       "<div>\n",
       "<table border=\"1\" class=\"dataframe\">\n",
       "  <thead>\n",
       "    <tr style=\"text-align: right;\">\n",
       "      <th></th>\n",
       "      <th>count_1</th>\n",
       "      <th>region</th>\n",
       "    </tr>\n",
       "  </thead>\n",
       "  <tbody>\n",
       "    <tr>\n",
       "      <th>0</th>\n",
       "      <td>25</td>\n",
       "      <td>West Slopes Central - Skagit River to South of...</td>\n",
       "    </tr>\n",
       "  </tbody>\n",
       "</table>\n",
       "</div>"
      ],
      "text/plain": [
       "   count_1                                             region\n",
       "0       25  West Slopes Central - Skagit River to South of..."
      ]
     },
     "metadata": {},
     "output_type": "display_data"
    },
    {
     "data": {
      "text/plain": [
       "'west-mid-south'"
      ]
     },
     "metadata": {},
     "output_type": "display_data"
    },
    {
     "data": {
      "text/html": [
       "<div>\n",
       "<table border=\"1\" class=\"dataframe\">\n",
       "  <thead>\n",
       "    <tr style=\"text-align: right;\">\n",
       "      <th></th>\n",
       "      <th>count_1</th>\n",
       "      <th>region</th>\n",
       "    </tr>\n",
       "  </thead>\n",
       "  <tbody>\n",
       "    <tr>\n",
       "      <th>0</th>\n",
       "      <td>26</td>\n",
       "      <td>West Slopes South - South of I-90 to Columbia ...</td>\n",
       "    </tr>\n",
       "    <tr>\n",
       "      <th>1</th>\n",
       "      <td>1</td>\n",
       "      <td>WA Cascades near and west of crest - between S...</td>\n",
       "    </tr>\n",
       "  </tbody>\n",
       "</table>\n",
       "</div>"
      ],
      "text/plain": [
       "   count_1                                             region\n",
       "0       26  West Slopes South - South of I-90 to Columbia ...\n",
       "1        1  WA Cascades near and west of crest - between S..."
      ]
     },
     "metadata": {},
     "output_type": "display_data"
    },
    {
     "data": {
      "text/plain": [
       "'west-far-south'"
      ]
     },
     "metadata": {},
     "output_type": "display_data"
    },
    {
     "data": {
      "text/html": [
       "<div>\n",
       "<table border=\"1\" class=\"dataframe\">\n",
       "  <thead>\n",
       "    <tr style=\"text-align: right;\">\n",
       "      <th></th>\n",
       "      <th>count_1</th>\n",
       "      <th>region</th>\n",
       "    </tr>\n",
       "  </thead>\n",
       "  <tbody>\n",
       "    <tr>\n",
       "      <th>0</th>\n",
       "      <td>26</td>\n",
       "      <td>West Slopes South - South of I-90 to Columbia ...</td>\n",
       "    </tr>\n",
       "  </tbody>\n",
       "</table>\n",
       "</div>"
      ],
      "text/plain": [
       "   count_1                                             region\n",
       "0       26  West Slopes South - South of I-90 to Columbia ..."
      ]
     },
     "metadata": {},
     "output_type": "display_data"
    }
   ],
   "source": [
    "from IPython.display import display\n",
    "\n",
    "for metaregion, real_regions in redistricting:\n",
    "    stmt = count_subregions(dict(redistricting)[metaregion], report_table.c.region)\n",
    "    display(metaregion)\n",
    "    display(pd.read_sql_query(stmt, engine))"
   ]
  },
  {
   "cell_type": "markdown",
   "metadata": {},
   "source": [
    "well that's kind of wild. two problems (in the other notebook): name change, and also it's not ok to just grab reports that have the label. report sharing means they usually point to something else."
   ]
  },
  {
   "cell_type": "markdown",
   "metadata": {},
   "source": [
    "# region shorthands"
   ]
  },
  {
   "cell_type": "code",
   "execution_count": null,
   "metadata": {
    "collapsed": true
   },
   "outputs": [],
   "source": [
    "#this is for shortening\n",
    "region_names = [('Olympics', 'olympics'),\n",
    "                  ('West Slopes North - Canadian Border to Skagit River', 'west-north'),\n",
    "                  ('West Slopes Central - Skagit River to South of I-90', 'west-central'),\n",
    "                  ('West Slopes South - South of I-90 to Columbia River', 'west-south'),\n",
    "                  ('Stevens Pass', 'stevens'),\n",
    "                  ('Snoqualmie Pass', 'snoqualmie'),\n",
    "                  ('East Slopes North - Canadian Border to Lake Chelan', 'east-north'),\n",
    "                  ('East Slopes Central - Lake Chelan to South of I-90', 'east-central'),\n",
    "                  ('East Slopes South - South of I-90 to Columbia River', 'east-south'),\n",
    "                  ('Mt Hood', 'hood')]\n",
    "\n",
    "regions = [n for _,n in region_names]\n",
    "\n",
    "region_dict = dict(region_names)"
   ]
  },
  {
   "cell_type": "markdown",
   "metadata": {},
   "source": [
    "# plotting"
   ]
  },
  {
   "cell_type": "code",
   "execution_count": 127,
   "metadata": {
    "collapsed": true
   },
   "outputs": [],
   "source": [
    "%matplotlib inline"
   ]
  },
  {
   "cell_type": "code",
   "execution_count": 128,
   "metadata": {
    "collapsed": true
   },
   "outputs": [],
   "source": [
    "import matplotlib.pyplot as plt\n",
    "\n",
    "plt.rc('savefig', dpi=100)\n",
    "plt.rc('figure', figsize=(8,8))"
   ]
  },
  {
   "cell_type": "code",
   "execution_count": 129,
   "metadata": {
    "collapsed": false
   },
   "outputs": [
    {
     "data": {
      "text/plain": [
       "{'Considerable': 'orange',\n",
       " 'Extreme': 'black',\n",
       " 'High': 'red',\n",
       " 'Low': 'green',\n",
       " 'Moderate': 'yellow',\n",
       " 'No Rating': 'gray'}"
      ]
     },
     "execution_count": 129,
     "metadata": {},
     "output_type": "execute_result"
    }
   ],
   "source": [
    "ratings = ['No Rating', 'Low', 'Moderate', 'Considerable', 'High', 'Extreme']\n",
    "colors = ['gray', 'green', 'yellow', 'orange', 'red', 'black']\n",
    "coldict = {rating:color for rating, color in zip(ratings, colors)}\n",
    "coldict"
   ]
  },
  {
   "cell_type": "code",
   "execution_count": 130,
   "metadata": {
    "collapsed": false
   },
   "outputs": [],
   "source": [
    "ratdict = {rat:i for i,rat in enumerate(ratings)}"
   ]
  },
  {
   "cell_type": "code",
   "execution_count": 131,
   "metadata": {
    "collapsed": true
   },
   "outputs": [],
   "source": [
    "from matplotlib.patches import Rectangle\n",
    "from matplotlib.dates import date2num, num2date\n",
    "\n",
    "def color_timeline(data, ymin=0, dy=1, ax=None):\n",
    "    if ax is None:\n",
    "        ax = plt.gca()\n",
    "    for stamp,danger in data.iteritems():\n",
    "        #start = date2num(stamp)\n",
    "        start = date2num(stamp)\n",
    "        color = coldict.get(danger, 'm') # magenta for unknown (probably null) values\n",
    "        r = Rectangle((start, ymin), 1, dy, fc=color, ec='w')\n",
    "        ax.add_patch(r)"
   ]
  },
  {
   "cell_type": "code",
   "execution_count": 133,
   "metadata": {
    "collapsed": false
   },
   "outputs": [
    {
     "data": {
      "text/html": [
       "<div>\n",
       "<table border=\"1\" class=\"dataframe\">\n",
       "  <thead>\n",
       "    <tr style=\"text-align: right;\">\n",
       "      <th></th>\n",
       "      <th>treeline_above</th>\n",
       "    </tr>\n",
       "  </thead>\n",
       "  <tbody>\n",
       "    <tr>\n",
       "      <th>0</th>\n",
       "      <td>None</td>\n",
       "    </tr>\n",
       "    <tr>\n",
       "      <th>1</th>\n",
       "      <td>Moderate</td>\n",
       "    </tr>\n",
       "    <tr>\n",
       "      <th>2</th>\n",
       "      <td>High</td>\n",
       "    </tr>\n",
       "    <tr>\n",
       "      <th>3</th>\n",
       "      <td>Low</td>\n",
       "    </tr>\n",
       "    <tr>\n",
       "      <th>4</th>\n",
       "      <td>Considerable</td>\n",
       "    </tr>\n",
       "  </tbody>\n",
       "</table>\n",
       "</div>"
      ],
      "text/plain": [
       "  treeline_above\n",
       "0           None\n",
       "1       Moderate\n",
       "2           High\n",
       "3            Low\n",
       "4   Considerable"
      ]
     },
     "execution_count": 133,
     "metadata": {},
     "output_type": "execute_result"
    }
   ],
   "source": [
    "pd.read_sql_query('select distinct treeline_above from reports', engine)"
   ]
  },
  {
   "cell_type": "code",
   "execution_count": 139,
   "metadata": {
    "collapsed": false
   },
   "outputs": [
    {
     "data": {
      "text/plain": [
       "{'east-central': ['East Slopes Central - Lake Chelan to South of I-90',\n",
       "  'East slopes WA Cascades - between Stevens and Snoqualmie Pass'],\n",
       " 'east-far-north': ['East Slopes North - Canadian Border to Lake Chelan',\n",
       "  'East slopes WA Cascades - north of Stevens Pass'],\n",
       " 'east-far-south': ['East Slopes South - South of I-90 to Columbia River',\n",
       "  'East slopes WA Cascades - south of White Pass'],\n",
       " 'east-mid-north': ['East Slopes Central - Lake Chelan to South of I-90',\n",
       "  'East slopes WA Cascades - north of Stevens Pass'],\n",
       " 'east-mid-south': ['East Slopes South - South of I-90 to Columbia River',\n",
       "  'East slopes WA Cascades - between Snoqualmie and White Pass'],\n",
       " 'west-central': ['West Slopes Central - Skagit River to South of I-90',\n",
       "  'WA Cascades near and west of crest - between Stevens and Snoqualmie Pass'],\n",
       " 'west-far-north': ['West Slopes North - Canadian Border to Skagit River',\n",
       "  'WA Cascades near and west of crest - north of Stevens Pass'],\n",
       " 'west-far-south': ['West Slopes South - South of I-90 to Columbia River',\n",
       "  'WA Cascades near and west of crest - south of White Pass'],\n",
       " 'west-mid-north': ['West Slopes Central - Skagit River to South of I-90',\n",
       "  'WA Cascades near and west of crest - north of Stevens Pass'],\n",
       " 'west-mid-south': ['West Slopes South - South of I-90 to Columbia River',\n",
       "  'WA Cascades near and west of crest - between Snoqualmie and White Pass']}"
      ]
     },
     "execution_count": 139,
     "metadata": {},
     "output_type": "execute_result"
    }
   ],
   "source": [
    "dict(redistricting)"
   ]
  },
  {
   "cell_type": "code",
   "execution_count": 148,
   "metadata": {
    "collapsed": false
   },
   "outputs": [
    {
     "name": "stdout",
     "output_type": "stream",
     "text": [
      "SELECT reports.report_id, reports.datetime, reports.datetime_utc, reports.author, reports.region, reports.summary, reports.treeline_above, reports.treeline_near, reports.treeline_below \n",
      "FROM region_index JOIN reports ON reports.report_id = region_index.report_id \n",
      "WHERE region_index.region = :region_1\n"
     ]
    }
   ],
   "source": [
    "joined = region_index.join(report_table,\n",
    "                           report_table.c.report_id == region_index.c.report_id)\n",
    "stmt = sa.select([report_table]\n",
    "                ).select_from(\n",
    "                    joined\n",
    "                ).where(\n",
    "                    region_index.c.region == 'Mt Hood'\n",
    "                )\n",
    "print(stmt)"
   ]
  },
  {
   "cell_type": "code",
   "execution_count": 157,
   "metadata": {
    "collapsed": false
   },
   "outputs": [
    {
     "data": {
      "text/plain": [
       "['Mt Hood']"
      ]
     },
     "execution_count": 157,
     "metadata": {},
     "output_type": "execute_result"
    }
   ],
   "source": [
    "region = 'Mt Hood'\n",
    "dict(redistricting).get(region, [region,])"
   ]
  },
  {
   "cell_type": "code",
   "execution_count": 169,
   "metadata": {
    "collapsed": true
   },
   "outputs": [],
   "source": [
    "def fetch_ratings(range_min, range_max, region):\n",
    "    # if a redistricted region was given,\n",
    "    # get the list of regions to get ratings\n",
    "    # from. otherwise it's just the argument\n",
    "    regions = dict(redistricting).get(region, [region,])\n",
    "    joined = region_index.join(report_table,\n",
    "                           report_table.c.report_id == region_index.c.report_id)\n",
    "    stmt = sa.select([report_table, region_index.c.region]\n",
    "                ).select_from(\n",
    "                        joined\n",
    "                    ).where(\n",
    "                        sa.or_(region_index.c.region == subr for subr in regions)\n",
    "                    ).where(\n",
    "                        report_table.c.datetime_utc <= range_max\n",
    "                    ).where(\n",
    "                        report_table.c.datetime_utc >= range_min\n",
    "                    ).order_by(report_table.c.datetime_utc)\n",
    "\n",
    "    print(stmt)\n",
    "    df = pd.read_sql_query(stmt, engine)\n",
    "    return df"
   ]
  },
  {
   "cell_type": "code",
   "execution_count": 170,
   "metadata": {
    "collapsed": true
   },
   "outputs": [],
   "source": [
    "def snow_year(year):\n",
    "    return pd.datetime(year - 1, 12, 1), pd.datetime(year, 6, 1)"
   ]
  },
  {
   "cell_type": "code",
   "execution_count": 173,
   "metadata": {
    "collapsed": false
   },
   "outputs": [
    {
     "name": "stdout",
     "output_type": "stream",
     "text": [
      "SELECT reports.report_id, reports.datetime, reports.datetime_utc, reports.author, reports.region, reports.summary, reports.treeline_above, reports.treeline_near, reports.treeline_below, region_index.region \n",
      "FROM region_index JOIN reports ON reports.report_id = region_index.report_id \n",
      "WHERE region_index.region = :region_1 AND reports.datetime_utc <= :datetime_utc_1 AND reports.datetime_utc >= :datetime_utc_2 ORDER BY reports.datetime_utc\n",
      "154\n"
     ]
    },
    {
     "data": {
      "text/html": [
       "<div>\n",
       "<table border=\"1\" class=\"dataframe\">\n",
       "  <thead>\n",
       "    <tr style=\"text-align: right;\">\n",
       "      <th></th>\n",
       "      <th>report_id</th>\n",
       "      <th>datetime</th>\n",
       "      <th>datetime_utc</th>\n",
       "      <th>author</th>\n",
       "      <th>region</th>\n",
       "      <th>summary</th>\n",
       "      <th>treeline_above</th>\n",
       "      <th>treeline_near</th>\n",
       "      <th>treeline_below</th>\n",
       "      <th>region</th>\n",
       "    </tr>\n",
       "  </thead>\n",
       "  <tbody>\n",
       "    <tr>\n",
       "      <th>0</th>\n",
       "      <td>232</td>\n",
       "      <td>5:32 PM PST Monday, January 6, 2014</td>\n",
       "      <td>2014-01-07 01:32:00</td>\n",
       "      <td>Dennis D'Amico</td>\n",
       "      <td>Olympics</td>\n",
       "      <td>The Bottom Line: New loading through this week...</td>\n",
       "      <td>Moderate</td>\n",
       "      <td>Moderate</td>\n",
       "      <td>Low</td>\n",
       "      <td>White Pass</td>\n",
       "    </tr>\n",
       "    <tr>\n",
       "      <th>1</th>\n",
       "      <td>235</td>\n",
       "      <td>6:00 PM PST Tuesday, January 7, 2014</td>\n",
       "      <td>2014-01-08 02:00:00</td>\n",
       "      <td>Dennis D'Amico</td>\n",
       "      <td>Olympics</td>\n",
       "      <td>The Bottom Line: Look for increasing avalanche...</td>\n",
       "      <td>Considerable</td>\n",
       "      <td>Moderate</td>\n",
       "      <td>Moderate</td>\n",
       "      <td>White Pass</td>\n",
       "    </tr>\n",
       "    <tr>\n",
       "      <th>2</th>\n",
       "      <td>243</td>\n",
       "      <td>6:00 PM PST Wednesday, January 8, 2014</td>\n",
       "      <td>2014-01-09 02:00:00</td>\n",
       "      <td>Kenny Kramer</td>\n",
       "      <td>Olympics</td>\n",
       "      <td>Bottom Line: Cooling should help new snow prof...</td>\n",
       "      <td>Considerable</td>\n",
       "      <td>Considerable</td>\n",
       "      <td>Moderate</td>\n",
       "      <td>White Pass</td>\n",
       "    </tr>\n",
       "    <tr>\n",
       "      <th>3</th>\n",
       "      <td>251</td>\n",
       "      <td>6:00 PM PST Thursday, January 9, 2014</td>\n",
       "      <td>2014-01-10 02:00:00</td>\n",
       "      <td>Garth Ferber</td>\n",
       "      <td>Olympics</td>\n",
       "      <td>An active, complex weather pattern will cause ...</td>\n",
       "      <td>Considerable</td>\n",
       "      <td>Considerable</td>\n",
       "      <td>Moderate</td>\n",
       "      <td>White Pass</td>\n",
       "    </tr>\n",
       "    <tr>\n",
       "      <th>4</th>\n",
       "      <td>257</td>\n",
       "      <td>8:54 AM PST Friday, January 10, 2014</td>\n",
       "      <td>2014-01-10 16:54:00</td>\n",
       "      <td>Garth Ferber</td>\n",
       "      <td>Olympics</td>\n",
       "      <td>An active, complex weather pattern will cause ...</td>\n",
       "      <td>High</td>\n",
       "      <td>Considerable</td>\n",
       "      <td>Moderate</td>\n",
       "      <td>White Pass</td>\n",
       "    </tr>\n",
       "    <tr>\n",
       "      <th>5</th>\n",
       "      <td>260</td>\n",
       "      <td>6:00 PM PST Friday, January 10, 2014</td>\n",
       "      <td>2014-01-11 02:00:00</td>\n",
       "      <td>Garth Ferber</td>\n",
       "      <td>Olympics</td>\n",
       "      <td>A lot of changing weather is expected starting...</td>\n",
       "      <td>High</td>\n",
       "      <td>High</td>\n",
       "      <td>Considerable</td>\n",
       "      <td>White Pass</td>\n",
       "    </tr>\n",
       "    <tr>\n",
       "      <th>6</th>\n",
       "      <td>265</td>\n",
       "      <td>9:17 AM PST Saturday, January 11, 2014</td>\n",
       "      <td>2014-01-11 17:17:00</td>\n",
       "      <td>Dennis D'Amico</td>\n",
       "      <td>Olympics</td>\n",
       "      <td>A lot of changing weather is expected starting...</td>\n",
       "      <td>High</td>\n",
       "      <td>High</td>\n",
       "      <td>Considerable</td>\n",
       "      <td>White Pass</td>\n",
       "    </tr>\n",
       "    <tr>\n",
       "      <th>7</th>\n",
       "      <td>268</td>\n",
       "      <td>6:06 PM PST Saturday, January 11, 2014</td>\n",
       "      <td>2014-01-12 02:06:00</td>\n",
       "      <td>Dennis D'Amico</td>\n",
       "      <td>Olympics</td>\n",
       "      <td>The storm cycle continues on Sunday, look for ...</td>\n",
       "      <td>High</td>\n",
       "      <td>High</td>\n",
       "      <td>Considerable</td>\n",
       "      <td>White Pass</td>\n",
       "    </tr>\n",
       "    <tr>\n",
       "      <th>8</th>\n",
       "      <td>272</td>\n",
       "      <td>6:13 PM PST Sunday, January 12, 2014</td>\n",
       "      <td>2014-01-13 02:13:00</td>\n",
       "      <td>Dennis D'Amico</td>\n",
       "      <td>Olympics</td>\n",
       "      <td>The avalanche danger should tick down a notch ...</td>\n",
       "      <td>Considerable</td>\n",
       "      <td>Considerable</td>\n",
       "      <td>Considerable</td>\n",
       "      <td>White Pass</td>\n",
       "    </tr>\n",
       "    <tr>\n",
       "      <th>9</th>\n",
       "      <td>276</td>\n",
       "      <td>6:22 PM PST Sunday, January 12, 2014</td>\n",
       "      <td>2014-01-13 02:22:00</td>\n",
       "      <td>Dennis D'Amico</td>\n",
       "      <td>Olympics</td>\n",
       "      <td>The avalanche danger should tick down a notch ...</td>\n",
       "      <td>Considerable</td>\n",
       "      <td>Considerable</td>\n",
       "      <td>Considerable</td>\n",
       "      <td>White Pass</td>\n",
       "    </tr>\n",
       "  </tbody>\n",
       "</table>\n",
       "</div>"
      ],
      "text/plain": [
       "   report_id                                datetime        datetime_utc  \\\n",
       "0        232     5:32 PM PST Monday, January 6, 2014 2014-01-07 01:32:00   \n",
       "1        235    6:00 PM PST Tuesday, January 7, 2014 2014-01-08 02:00:00   \n",
       "2        243  6:00 PM PST Wednesday, January 8, 2014 2014-01-09 02:00:00   \n",
       "3        251   6:00 PM PST Thursday, January 9, 2014 2014-01-10 02:00:00   \n",
       "4        257    8:54 AM PST Friday, January 10, 2014 2014-01-10 16:54:00   \n",
       "5        260    6:00 PM PST Friday, January 10, 2014 2014-01-11 02:00:00   \n",
       "6        265  9:17 AM PST Saturday, January 11, 2014 2014-01-11 17:17:00   \n",
       "7        268  6:06 PM PST Saturday, January 11, 2014 2014-01-12 02:06:00   \n",
       "8        272    6:13 PM PST Sunday, January 12, 2014 2014-01-13 02:13:00   \n",
       "9        276    6:22 PM PST Sunday, January 12, 2014 2014-01-13 02:22:00   \n",
       "\n",
       "           author    region  \\\n",
       "0  Dennis D'Amico  Olympics   \n",
       "1  Dennis D'Amico  Olympics   \n",
       "2    Kenny Kramer  Olympics   \n",
       "3    Garth Ferber  Olympics   \n",
       "4    Garth Ferber  Olympics   \n",
       "5    Garth Ferber  Olympics   \n",
       "6  Dennis D'Amico  Olympics   \n",
       "7  Dennis D'Amico  Olympics   \n",
       "8  Dennis D'Amico  Olympics   \n",
       "9  Dennis D'Amico  Olympics   \n",
       "\n",
       "                                             summary treeline_above  \\\n",
       "0  The Bottom Line: New loading through this week...       Moderate   \n",
       "1  The Bottom Line: Look for increasing avalanche...   Considerable   \n",
       "2  Bottom Line: Cooling should help new snow prof...   Considerable   \n",
       "3  An active, complex weather pattern will cause ...   Considerable   \n",
       "4  An active, complex weather pattern will cause ...           High   \n",
       "5  A lot of changing weather is expected starting...           High   \n",
       "6  A lot of changing weather is expected starting...           High   \n",
       "7  The storm cycle continues on Sunday, look for ...           High   \n",
       "8  The avalanche danger should tick down a notch ...   Considerable   \n",
       "9  The avalanche danger should tick down a notch ...   Considerable   \n",
       "\n",
       "  treeline_near treeline_below      region  \n",
       "0      Moderate            Low  White Pass  \n",
       "1      Moderate       Moderate  White Pass  \n",
       "2  Considerable       Moderate  White Pass  \n",
       "3  Considerable       Moderate  White Pass  \n",
       "4  Considerable       Moderate  White Pass  \n",
       "5          High   Considerable  White Pass  \n",
       "6          High   Considerable  White Pass  \n",
       "7          High   Considerable  White Pass  \n",
       "8  Considerable   Considerable  White Pass  \n",
       "9  Considerable   Considerable  White Pass  "
      ]
     },
     "execution_count": 173,
     "metadata": {},
     "output_type": "execute_result"
    }
   ],
   "source": [
    "df = fetch_ratings(*snow_year(2014), 'White Pass')\n",
    "print(len(df))\n",
    "df.head(10)"
   ]
  },
  {
   "cell_type": "code",
   "execution_count": 174,
   "metadata": {
    "collapsed": false
   },
   "outputs": [
    {
     "name": "stdout",
     "output_type": "stream",
     "text": [
      "SELECT reports.report_id, reports.datetime, reports.datetime_utc, reports.author, reports.region, reports.summary, reports.treeline_above, reports.treeline_near, reports.treeline_below, region_index.region \n",
      "FROM region_index JOIN reports ON reports.report_id = region_index.report_id \n",
      "WHERE (region_index.region = :region_1 OR region_index.region = :region_2) AND reports.datetime_utc <= :datetime_utc_1 AND reports.datetime_utc >= :datetime_utc_2 ORDER BY reports.datetime_utc\n",
      "154\n"
     ]
    },
    {
     "data": {
      "text/html": [
       "<div>\n",
       "<table border=\"1\" class=\"dataframe\">\n",
       "  <thead>\n",
       "    <tr style=\"text-align: right;\">\n",
       "      <th></th>\n",
       "      <th>report_id</th>\n",
       "      <th>datetime</th>\n",
       "      <th>datetime_utc</th>\n",
       "      <th>author</th>\n",
       "      <th>region</th>\n",
       "      <th>summary</th>\n",
       "      <th>treeline_above</th>\n",
       "      <th>treeline_near</th>\n",
       "      <th>treeline_below</th>\n",
       "      <th>region</th>\n",
       "    </tr>\n",
       "  </thead>\n",
       "  <tbody>\n",
       "    <tr>\n",
       "      <th>0</th>\n",
       "      <td>232</td>\n",
       "      <td>5:32 PM PST Monday, January 6, 2014</td>\n",
       "      <td>2014-01-07 01:32:00</td>\n",
       "      <td>Dennis D'Amico</td>\n",
       "      <td>Olympics</td>\n",
       "      <td>The Bottom Line: New loading through this week...</td>\n",
       "      <td>Moderate</td>\n",
       "      <td>Moderate</td>\n",
       "      <td>Low</td>\n",
       "      <td>WA Cascades near and west of crest - between S...</td>\n",
       "    </tr>\n",
       "    <tr>\n",
       "      <th>1</th>\n",
       "      <td>235</td>\n",
       "      <td>6:00 PM PST Tuesday, January 7, 2014</td>\n",
       "      <td>2014-01-08 02:00:00</td>\n",
       "      <td>Dennis D'Amico</td>\n",
       "      <td>Olympics</td>\n",
       "      <td>The Bottom Line: Look for increasing avalanche...</td>\n",
       "      <td>Considerable</td>\n",
       "      <td>Moderate</td>\n",
       "      <td>Moderate</td>\n",
       "      <td>WA Cascades near and west of crest - between S...</td>\n",
       "    </tr>\n",
       "    <tr>\n",
       "      <th>2</th>\n",
       "      <td>243</td>\n",
       "      <td>6:00 PM PST Wednesday, January 8, 2014</td>\n",
       "      <td>2014-01-09 02:00:00</td>\n",
       "      <td>Kenny Kramer</td>\n",
       "      <td>Olympics</td>\n",
       "      <td>Bottom Line: Cooling should help new snow prof...</td>\n",
       "      <td>Considerable</td>\n",
       "      <td>Considerable</td>\n",
       "      <td>Moderate</td>\n",
       "      <td>WA Cascades near and west of crest - between S...</td>\n",
       "    </tr>\n",
       "    <tr>\n",
       "      <th>3</th>\n",
       "      <td>251</td>\n",
       "      <td>6:00 PM PST Thursday, January 9, 2014</td>\n",
       "      <td>2014-01-10 02:00:00</td>\n",
       "      <td>Garth Ferber</td>\n",
       "      <td>Olympics</td>\n",
       "      <td>An active, complex weather pattern will cause ...</td>\n",
       "      <td>Considerable</td>\n",
       "      <td>Considerable</td>\n",
       "      <td>Moderate</td>\n",
       "      <td>WA Cascades near and west of crest - between S...</td>\n",
       "    </tr>\n",
       "    <tr>\n",
       "      <th>4</th>\n",
       "      <td>257</td>\n",
       "      <td>8:54 AM PST Friday, January 10, 2014</td>\n",
       "      <td>2014-01-10 16:54:00</td>\n",
       "      <td>Garth Ferber</td>\n",
       "      <td>Olympics</td>\n",
       "      <td>An active, complex weather pattern will cause ...</td>\n",
       "      <td>High</td>\n",
       "      <td>Considerable</td>\n",
       "      <td>Moderate</td>\n",
       "      <td>WA Cascades near and west of crest - between S...</td>\n",
       "    </tr>\n",
       "    <tr>\n",
       "      <th>5</th>\n",
       "      <td>260</td>\n",
       "      <td>6:00 PM PST Friday, January 10, 2014</td>\n",
       "      <td>2014-01-11 02:00:00</td>\n",
       "      <td>Garth Ferber</td>\n",
       "      <td>Olympics</td>\n",
       "      <td>A lot of changing weather is expected starting...</td>\n",
       "      <td>High</td>\n",
       "      <td>High</td>\n",
       "      <td>Considerable</td>\n",
       "      <td>WA Cascades near and west of crest - between S...</td>\n",
       "    </tr>\n",
       "    <tr>\n",
       "      <th>6</th>\n",
       "      <td>265</td>\n",
       "      <td>9:17 AM PST Saturday, January 11, 2014</td>\n",
       "      <td>2014-01-11 17:17:00</td>\n",
       "      <td>Dennis D'Amico</td>\n",
       "      <td>Olympics</td>\n",
       "      <td>A lot of changing weather is expected starting...</td>\n",
       "      <td>High</td>\n",
       "      <td>High</td>\n",
       "      <td>Considerable</td>\n",
       "      <td>WA Cascades near and west of crest - between S...</td>\n",
       "    </tr>\n",
       "    <tr>\n",
       "      <th>7</th>\n",
       "      <td>268</td>\n",
       "      <td>6:06 PM PST Saturday, January 11, 2014</td>\n",
       "      <td>2014-01-12 02:06:00</td>\n",
       "      <td>Dennis D'Amico</td>\n",
       "      <td>Olympics</td>\n",
       "      <td>The storm cycle continues on Sunday, look for ...</td>\n",
       "      <td>High</td>\n",
       "      <td>High</td>\n",
       "      <td>Considerable</td>\n",
       "      <td>WA Cascades near and west of crest - between S...</td>\n",
       "    </tr>\n",
       "    <tr>\n",
       "      <th>8</th>\n",
       "      <td>272</td>\n",
       "      <td>6:13 PM PST Sunday, January 12, 2014</td>\n",
       "      <td>2014-01-13 02:13:00</td>\n",
       "      <td>Dennis D'Amico</td>\n",
       "      <td>Olympics</td>\n",
       "      <td>The avalanche danger should tick down a notch ...</td>\n",
       "      <td>Considerable</td>\n",
       "      <td>Considerable</td>\n",
       "      <td>Considerable</td>\n",
       "      <td>WA Cascades near and west of crest - between S...</td>\n",
       "    </tr>\n",
       "    <tr>\n",
       "      <th>9</th>\n",
       "      <td>276</td>\n",
       "      <td>6:22 PM PST Sunday, January 12, 2014</td>\n",
       "      <td>2014-01-13 02:22:00</td>\n",
       "      <td>Dennis D'Amico</td>\n",
       "      <td>Olympics</td>\n",
       "      <td>The avalanche danger should tick down a notch ...</td>\n",
       "      <td>Considerable</td>\n",
       "      <td>Considerable</td>\n",
       "      <td>Considerable</td>\n",
       "      <td>WA Cascades near and west of crest - between S...</td>\n",
       "    </tr>\n",
       "  </tbody>\n",
       "</table>\n",
       "</div>"
      ],
      "text/plain": [
       "   report_id                                datetime        datetime_utc  \\\n",
       "0        232     5:32 PM PST Monday, January 6, 2014 2014-01-07 01:32:00   \n",
       "1        235    6:00 PM PST Tuesday, January 7, 2014 2014-01-08 02:00:00   \n",
       "2        243  6:00 PM PST Wednesday, January 8, 2014 2014-01-09 02:00:00   \n",
       "3        251   6:00 PM PST Thursday, January 9, 2014 2014-01-10 02:00:00   \n",
       "4        257    8:54 AM PST Friday, January 10, 2014 2014-01-10 16:54:00   \n",
       "5        260    6:00 PM PST Friday, January 10, 2014 2014-01-11 02:00:00   \n",
       "6        265  9:17 AM PST Saturday, January 11, 2014 2014-01-11 17:17:00   \n",
       "7        268  6:06 PM PST Saturday, January 11, 2014 2014-01-12 02:06:00   \n",
       "8        272    6:13 PM PST Sunday, January 12, 2014 2014-01-13 02:13:00   \n",
       "9        276    6:22 PM PST Sunday, January 12, 2014 2014-01-13 02:22:00   \n",
       "\n",
       "           author    region  \\\n",
       "0  Dennis D'Amico  Olympics   \n",
       "1  Dennis D'Amico  Olympics   \n",
       "2    Kenny Kramer  Olympics   \n",
       "3    Garth Ferber  Olympics   \n",
       "4    Garth Ferber  Olympics   \n",
       "5    Garth Ferber  Olympics   \n",
       "6  Dennis D'Amico  Olympics   \n",
       "7  Dennis D'Amico  Olympics   \n",
       "8  Dennis D'Amico  Olympics   \n",
       "9  Dennis D'Amico  Olympics   \n",
       "\n",
       "                                             summary treeline_above  \\\n",
       "0  The Bottom Line: New loading through this week...       Moderate   \n",
       "1  The Bottom Line: Look for increasing avalanche...   Considerable   \n",
       "2  Bottom Line: Cooling should help new snow prof...   Considerable   \n",
       "3  An active, complex weather pattern will cause ...   Considerable   \n",
       "4  An active, complex weather pattern will cause ...           High   \n",
       "5  A lot of changing weather is expected starting...           High   \n",
       "6  A lot of changing weather is expected starting...           High   \n",
       "7  The storm cycle continues on Sunday, look for ...           High   \n",
       "8  The avalanche danger should tick down a notch ...   Considerable   \n",
       "9  The avalanche danger should tick down a notch ...   Considerable   \n",
       "\n",
       "  treeline_near treeline_below  \\\n",
       "0      Moderate            Low   \n",
       "1      Moderate       Moderate   \n",
       "2  Considerable       Moderate   \n",
       "3  Considerable       Moderate   \n",
       "4  Considerable       Moderate   \n",
       "5          High   Considerable   \n",
       "6          High   Considerable   \n",
       "7          High   Considerable   \n",
       "8  Considerable   Considerable   \n",
       "9  Considerable   Considerable   \n",
       "\n",
       "                                              region  \n",
       "0  WA Cascades near and west of crest - between S...  \n",
       "1  WA Cascades near and west of crest - between S...  \n",
       "2  WA Cascades near and west of crest - between S...  \n",
       "3  WA Cascades near and west of crest - between S...  \n",
       "4  WA Cascades near and west of crest - between S...  \n",
       "5  WA Cascades near and west of crest - between S...  \n",
       "6  WA Cascades near and west of crest - between S...  \n",
       "7  WA Cascades near and west of crest - between S...  \n",
       "8  WA Cascades near and west of crest - between S...  \n",
       "9  WA Cascades near and west of crest - between S...  "
      ]
     },
     "execution_count": 174,
     "metadata": {},
     "output_type": "execute_result"
    }
   ],
   "source": [
    "df = fetch_ratings(*snow_year(2014), 'west-central')\n",
    "print(len(df))\n",
    "df.head(10)"
   ]
  },
  {
   "cell_type": "markdown",
   "metadata": {},
   "source": [
    "that seems kinda weird but they really do batch olympics in with white pass some of the time"
   ]
  },
  {
   "cell_type": "code",
   "execution_count": 135,
   "metadata": {
    "collapsed": false
   },
   "outputs": [],
   "source": [
    "def stacked_color_timeline(df, ax=None):\n",
    "    if ax is None:\n",
    "        ax = plt.gca()\n",
    "    color_timeline(df.set_index('datetime_utc')['treeline_above'], ax=ax, ymin=2)\n",
    "    color_timeline(df.set_index('datetime_utc')['treeline_near'], ax=ax, ymin=1)\n",
    "    color_timeline(df.set_index('datetime_utc')['treeline_below'], ax=ax)\n",
    "    ax.set_ylim(0,3)"
   ]
  },
  {
   "cell_type": "code",
   "execution_count": 137,
   "metadata": {
    "collapsed": false
   },
   "outputs": [
    {
     "data": {
      "text/plain": [
       "<matplotlib.figure.Figure at 0x108495908>"
      ]
     },
     "metadata": {},
     "output_type": "display_data"
    },
    {
     "data": {
      "image/png": "[encoded data removed]",
      "text/plain": [
       "<matplotlib.figure.Figure at 0x108495400>"
      ]
     },
     "metadata": {},
     "output_type": "display_data"
    }
   ],
   "source": [
    "years = (2016, 2015, 2014)\n",
    "\n",
    "plt.figure(figsize=(12,2))\n",
    "\n",
    "f,axes = plt.subplots(len(years)) #, sharex=True)\n",
    "#plt.subplots_adjust(hspace=0)\n",
    "\n",
    "for ax,year in zip(axes, years):\n",
    "    drange = snow_year(year)\n",
    "    df = fetch_ratings(*drange)\n",
    "    stacked_color_timeline(df, ax=ax)\n",
    "    ax.set_xlim(drange)\n",
    "    \n",
    "#ax.xaxis.set_major_locator(matplotlib.dates.MonthLocator())\n",
    "#ax.xaxis.set_major_formatter(matplotlib.dates.DateFormatter('%e %b %y'))\n",
    "\n",
    "plt.savefig('rating_history.pdf')"
   ]
  },
  {
   "cell_type": "code",
   "execution_count": null,
   "metadata": {
    "collapsed": true
   },
   "outputs": [],
   "source": []
  }
 ],
 "metadata": {
  "kernelspec": {
   "display_name": "Python 3",
   "language": "python",
   "name": "python3"
  },
  "language_info": {
   "codemirror_mode": {
    "name": "ipython",
    "version": 3
   },
   "file_extension": ".py",
   "mimetype": "text/x-python",
   "name": "python",
   "nbconvert_exporter": "python",
   "pygments_lexer": "ipython3",
   "version": "3.5.0"
  },
  "toc": {
   "toc_cell": false,
   "toc_number_sections": true,
   "toc_threshold": 4,
   "toc_window_display": true
  }
 },
 "nbformat": 4,
 "nbformat_minor": 0
}
