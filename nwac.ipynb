{
 "cells": [
  {
   "cell_type": "markdown",
   "metadata": {},
   "source": [
    "# scraping"
   ]
  },
  {
   "cell_type": "code",
   "execution_count": 1,
   "metadata": {
    "collapsed": true
   },
   "outputs": [],
   "source": [
    "import pandas as pd"
   ]
  },
  {
   "cell_type": "code",
   "execution_count": 2,
   "metadata": {
    "collapsed": false
   },
   "outputs": [],
   "source": [
    "import requests\n",
    "import bs4"
   ]
  },
  {
   "cell_type": "code",
   "execution_count": 3,
   "metadata": {
    "collapsed": false
   },
   "outputs": [],
   "source": [
    "def get_years():\n",
    "    url = 'http://www.nwac.us/avalanche-forecast/archives/'\n",
    "    r = requests.get(url)\n",
    "    soup = bs4.BeautifulSoup(r.text, 'html5lib')\n",
    "    dropdown = soup.find('select', attrs={'name': 'year'})\n",
    "    years = [obj.attrs['value'] for obj in dropdown.findAll('option')]\n",
    "    return years"
   ]
  },
  {
   "cell_type": "code",
   "execution_count": 4,
   "metadata": {
    "collapsed": false
   },
   "outputs": [
    {
     "data": {
      "text/plain": [
       "['2015', '2014', '2013', '2016']"
      ]
     },
     "execution_count": 4,
     "metadata": {},
     "output_type": "execute_result"
    }
   ],
   "source": [
    "get_years()"
   ]
  },
  {
   "cell_type": "code",
   "execution_count": 5,
   "metadata": {
    "collapsed": false
   },
   "outputs": [],
   "source": [
    "def get_months(year):\n",
    "    fmt = 'http://www.nwac.us/avalanche-forecast/archives/months/?year={year}'\n",
    "    r = requests.get(fmt.format(year=year))\n",
    "    soup = bs4.BeautifulSoup(r.text, 'html5lib')\n",
    "    dropdown = soup.find('select', attrs={'name': 'month'})\n",
    "    months = [obj.attrs['value'] for obj in dropdown.findAll('option')]\n",
    "    return months"
   ]
  },
  {
   "cell_type": "code",
   "execution_count": 6,
   "metadata": {
    "collapsed": false
   },
   "outputs": [
    {
     "data": {
      "text/plain": [
       "['December', 'October', 'June', 'April', 'March', 'February', 'January']"
      ]
     },
     "execution_count": 6,
     "metadata": {},
     "output_type": "execute_result"
    }
   ],
   "source": [
    "get_months(2015)"
   ]
  },
  {
   "cell_type": "code",
   "execution_count": 7,
   "metadata": {
    "collapsed": false
   },
   "outputs": [],
   "source": [
    "import re\n",
    "renum = re.compile(r'\\d+')\n",
    "\n",
    "def get_forecast_list(month, year):\n",
    "    fmt = 'http://www.nwac.us/avalanche-forecast/archives/days/?month={month}&year={year}'\n",
    "    r = requests.get(fmt.format(year=year, month=month))\n",
    "    soup = bs4.BeautifulSoup(r.text, 'html5lib')\n",
    "    main = soup.find('div', attrs={'id': 'main-content'})\n",
    "    links = main.findAll('a')\n",
    "    results = []\n",
    "    for link in links:\n",
    "        url = link.attrs['href']\n",
    "        forecast_id = int(renum.search(url).group(0))\n",
    "        date = str(link.contents[0].lstrip())\n",
    "        results.append((date,forecast_id))\n",
    "    return results"
   ]
  },
  {
   "cell_type": "code",
   "execution_count": 8,
   "metadata": {
    "collapsed": false
   },
   "outputs": [
    {
     "data": {
      "text/plain": [
       "[('Jan. 27, 2016', 492),\n",
       " ('Jan. 26, 2016', 491),\n",
       " ('Jan. 25, 2016', 490),\n",
       " ('Jan. 24, 2016', 489),\n",
       " ('Jan. 23, 2016', 488),\n",
       " ('Jan. 22, 2016', 487),\n",
       " ('Jan. 21, 2016', 486),\n",
       " ('Jan. 21, 2016', 485),\n",
       " ('Jan. 21, 2016', 484),\n",
       " ('Jan. 20, 2016', 483),\n",
       " ('Jan. 19, 2016', 482),\n",
       " ('Jan. 18, 2016', 481),\n",
       " ('Jan. 17, 2016', 480),\n",
       " ('Jan. 16, 2016', 479),\n",
       " ('Jan. 15, 2016', 478),\n",
       " ('Jan. 15, 2016', 477),\n",
       " ('Jan. 14, 2016', 476),\n",
       " ('Jan. 13, 2016', 475),\n",
       " ('Jan. 12, 2016', 474),\n",
       " ('Jan. 12, 2016', 473),\n",
       " ('Jan. 11, 2016', 472),\n",
       " ('Jan. 10, 2016', 471),\n",
       " ('Jan. 9, 2016', 470),\n",
       " ('Jan. 8, 2016', 469),\n",
       " ('Jan. 7, 2016', 468),\n",
       " ('Jan. 6, 2016', 467),\n",
       " ('Jan. 5, 2016', 466),\n",
       " ('Jan. 4, 2016', 465),\n",
       " ('Jan. 4, 2016', 464),\n",
       " ('Jan. 3, 2016', 463),\n",
       " ('Jan. 2, 2016', 462),\n",
       " ('Jan. 1, 2016', 461)]"
      ]
     },
     "execution_count": 8,
     "metadata": {},
     "output_type": "execute_result"
    }
   ],
   "source": [
    "get_forecast_list('January', '2016')"
   ]
  },
  {
   "cell_type": "markdown",
   "metadata": {},
   "source": [
    "# Forecasts"
   ]
  },
  {
   "cell_type": "code",
   "execution_count": 59,
   "metadata": {
    "collapsed": true
   },
   "outputs": [],
   "source": [
    "#this is for shortening\n",
    "region_names = [('Olympics', 'olympics'),\n",
    "                  ('West Slopes North - Canadian Border to Skagit River', 'west-north'),\n",
    "                  ('West Slopes Central - Skagit River to South of I-90', 'west-central'),\n",
    "                  ('West Slopes South - South of I-90 to Columbia River', 'west-south'),\n",
    "                  ('Stevens Pass', 'stevens'),\n",
    "                  ('Snoqualmie Pass', 'snoqualmie'),\n",
    "                  ('East Slopes North - Canadian Border to Lake Chelan', 'east-north'),\n",
    "                  ('East Slopes Central - Lake Chelan to South of I-90', 'east-central'),\n",
    "                  ('East Slopes South - South of I-90 to Columbia River', 'east-south'),\n",
    "                  ('Mt Hood', 'hood')]\n",
    "\n",
    "regions = [n for _,n in region_names]\n",
    "\n",
    "region_dict = dict(region_names)"
   ]
  },
  {
   "cell_type": "code",
   "execution_count": 60,
   "metadata": {
    "collapsed": true
   },
   "outputs": [],
   "source": [
    "def trim(string, lead):\n",
    "    assert string[:len(lead)] == lead\n",
    "    return string[len(lead):]\n",
    "\n",
    "def get_forecast(forecast_id):\n",
    "    fmt = 'http://www.nwac.us/avalanche-forecast/avalanche-forecast/{num}/'\n",
    "    r = requests.get(fmt.format(num=forecast_id))\n",
    "    soup = bs4.BeautifulSoup(r.text, 'html5lib')\n",
    "\n",
    "    date = str(soup.find('div', attrs={'class': 'forecast-date'}).contents[0].strip())\n",
    "    author = str(soup.find('div', attrs={'class': 'forecaster'}).contents[0].strip())\n",
    "    forecasts = soup.findAll('a', attrs={'class': 'forecast'})\n",
    "    \n",
    "    results = []\n",
    "    for forecast in forecasts:\n",
    "        region = str(forecast.find('span').contents[0].strip())\n",
    "        url = forecast.attrs['href']\n",
    "        subforecast_id = int(renum.search(url).group(0))\n",
    "        results.append((region, subforecast_id))\n",
    "    \n",
    "    return trim(date, 'Issued: '), trim(author, 'by '), results"
   ]
  },
  {
   "cell_type": "markdown",
   "metadata": {},
   "source": [
    "In the archive, note that frequently all east-side regions link to the same report:"
   ]
  },
  {
   "cell_type": "code",
   "execution_count": 61,
   "metadata": {
    "collapsed": false
   },
   "outputs": [
    {
     "data": {
      "text/plain": [
       "('6:38 AM PST Tuesday, December 23, 2014',\n",
       " 'Garth Ferber',\n",
       " [('Olympics', 921),\n",
       "  ('West Slopes North - Canadian Border to Skagit River', 922),\n",
       "  ('West Slopes Central - Skagit River to South of I-90', 923),\n",
       "  ('West Slopes South - South of I-90 to Columbia River', 923),\n",
       "  ('Stevens Pass', 923),\n",
       "  ('Snoqualmie Pass', 923),\n",
       "  ('East Slopes North - Canadian Border to Lake Chelan', 924),\n",
       "  ('East Slopes Central - Lake Chelan to South of I-90', 924),\n",
       "  ('East Slopes South - South of I-90 to Columbia River', 925),\n",
       "  ('Mt Hood', 926)])"
      ]
     },
     "execution_count": 61,
     "metadata": {},
     "output_type": "execute_result"
    }
   ],
   "source": [
    "get_forecast(274)"
   ]
  },
  {
   "cell_type": "code",
   "execution_count": 62,
   "metadata": {
    "collapsed": false
   },
   "outputs": [
    {
     "data": {
      "text/plain": [
       "('7:57 AM PST Thursday, January 21, 2016',\n",
       " \"Dennis D'Amico\",\n",
       " [('Olympics', 1966),\n",
       "  ('West Slopes North - Canadian Border to Skagit River', 1967),\n",
       "  ('West Slopes Central - Skagit River to South of I-90', 1968),\n",
       "  ('West Slopes South - South of I-90 to Columbia River', 1968),\n",
       "  ('Stevens Pass', 1968),\n",
       "  ('Snoqualmie Pass', 1968),\n",
       "  ('East Slopes North - Canadian Border to Lake Chelan', 1969),\n",
       "  ('East Slopes Central - Lake Chelan to South of I-90', 1970),\n",
       "  ('East Slopes South - South of I-90 to Columbia River', 1970),\n",
       "  ('Mt Hood', 1971)])"
      ]
     },
     "execution_count": 62,
     "metadata": {},
     "output_type": "execute_result"
    }
   ],
   "source": [
    "get_forecast(486)"
   ]
  },
  {
   "cell_type": "code",
   "execution_count": 63,
   "metadata": {
    "collapsed": false
   },
   "outputs": [
    {
     "data": {
      "text/plain": [
       "('6:00 PM PST Thursday, December 31, 2015',\n",
       " \"Dennis D'Amico\",\n",
       " [('Olympics', 1850),\n",
       "  ('West Slopes North - Canadian Border to Skagit River', 1851),\n",
       "  ('West Slopes Central - Skagit River to South of I-90', 1851),\n",
       "  ('West Slopes South - South of I-90 to Columbia River', 1851),\n",
       "  ('Stevens Pass', 1851),\n",
       "  ('Snoqualmie Pass', 1851),\n",
       "  ('East Slopes North - Canadian Border to Lake Chelan', 1852),\n",
       "  ('East Slopes Central - Lake Chelan to South of I-90', 1852),\n",
       "  ('East Slopes South - South of I-90 to Columbia River', 1852),\n",
       "  ('Mt Hood', 1853)])"
      ]
     },
     "execution_count": 63,
     "metadata": {},
     "output_type": "execute_result"
    }
   ],
   "source": [
    "get_forecast(461)"
   ]
  },
  {
   "cell_type": "code",
   "execution_count": 64,
   "metadata": {
    "collapsed": false
   },
   "outputs": [
    {
     "data": {
      "text/plain": [
       "('2:36 PM PST Tuesday, December 10, 2013',\n",
       " 'Kenny Kramer',\n",
       " [('Olympics', 73),\n",
       "  ('Stevens Pass', 73),\n",
       "  ('Snoqualmie Pass', 73),\n",
       "  ('Mt Hood', 73),\n",
       "  ('White Pass', 73),\n",
       "  ('WA Cascades near and west of crest - between Snoqualmie and White Pass',\n",
       "   73),\n",
       "  ('East slopes WA Cascades - between Stevens and Snoqualmie Pass', 73),\n",
       "  ('WA Cascades near and west of crest - north of Stevens Pass', 73),\n",
       "  ('WA Cascades near and west of crest - south of White Pass', 73),\n",
       "  ('East slopes WA Cascades - between Snoqualmie and White Pass', 73),\n",
       "  ('WA Cascades near and west of crest - between Stevens and Snoqualmie Pass',\n",
       "   73),\n",
       "  ('East slopes WA Cascades - north of Stevens Pass', 73),\n",
       "  ('East slopes WA Cascades - south of White Pass', 73)])"
      ]
     },
     "execution_count": 64,
     "metadata": {},
     "output_type": "execute_result"
    }
   ],
   "source": [
    "get_forecast(37)"
   ]
  },
  {
   "cell_type": "markdown",
   "metadata": {},
   "source": [
    "test date string conversion. it puts it in UTC for us"
   ]
  },
  {
   "cell_type": "code",
   "execution_count": 14,
   "metadata": {
    "collapsed": false
   },
   "outputs": [
    {
     "data": {
      "text/plain": [
       "'6:00 PM PST Thursday, December 31, 2015'"
      ]
     },
     "execution_count": 14,
     "metadata": {},
     "output_type": "execute_result"
    }
   ],
   "source": [
    "_[0]"
   ]
  },
  {
   "cell_type": "code",
   "execution_count": 15,
   "metadata": {
    "collapsed": false
   },
   "outputs": [
    {
     "data": {
      "text/plain": [
       "Timestamp('2016-01-01 02:00:00')"
      ]
     },
     "execution_count": 15,
     "metadata": {},
     "output_type": "execute_result"
    }
   ],
   "source": [
    "#pandas.to_datetime(_, utc=True)\n",
    "pd.to_datetime(_)"
   ]
  },
  {
   "cell_type": "markdown",
   "metadata": {},
   "source": [
    "old stuff"
   ]
  },
  {
   "cell_type": "code",
   "execution_count": null,
   "metadata": {
    "collapsed": true
   },
   "outputs": [],
   "source": [
    "def get_region_row(day):\n",
    "    date, author, regions = get_forecast(day)\n",
    "    utc = pd.to_datetime(date)\n",
    "    #return [('id', day), ('date_utc', utc), ('author', author)] + regions\n",
    "    return dict(id=day, date_utc=utc, author=author, **dict(regions))"
   ]
  },
  {
   "cell_type": "code",
   "execution_count": null,
   "metadata": {
    "collapsed": false
   },
   "outputs": [],
   "source": [
    "get_region_row(461)"
   ]
  },
  {
   "cell_type": "code",
   "execution_count": null,
   "metadata": {
    "collapsed": false
   },
   "outputs": [],
   "source": [
    "cols = ['id', 'date_utc', 'author'] + regions\n",
    "\n",
    "def gen_report_rows(days):\n",
    "    for _,day in days:\n",
    "        yield get_region_row(day)"
   ]
  },
  {
   "cell_type": "code",
   "execution_count": null,
   "metadata": {
    "collapsed": false
   },
   "outputs": [],
   "source": [
    "df = pandas.DataFrame(list(gen_report_rows(get_forecast_list('January', '2016'))), columns=cols)\n",
    "df"
   ]
  },
  {
   "cell_type": "code",
   "execution_count": null,
   "metadata": {
    "collapsed": false
   },
   "outputs": [],
   "source": [
    "df = df.reset_index().set_index('id')\n",
    "df.head()"
   ]
  },
  {
   "cell_type": "code",
   "execution_count": null,
   "metadata": {
    "collapsed": false
   },
   "outputs": [],
   "source": [
    "df.to_sql('region_index', engine, if_exists='replace', index='True')"
   ]
  },
  {
   "cell_type": "code",
   "execution_count": null,
   "metadata": {
    "collapsed": true
   },
   "outputs": [],
   "source": [
    "df.to_sql?"
   ]
  },
  {
   "cell_type": "code",
   "execution_count": null,
   "metadata": {
    "collapsed": false
   },
   "outputs": [],
   "source": [
    "len(df)"
   ]
  },
  {
   "cell_type": "markdown",
   "metadata": {},
   "source": [
    "# Reports\n",
    "\n",
    "A forecast contains multiple reports, each individualized to a geographic sub-region of the NWAC forecast area."
   ]
  },
  {
   "cell_type": "code",
   "execution_count": 244,
   "metadata": {
    "collapsed": false
   },
   "outputs": [],
   "source": [
    "def get_report(subforecast_id):\n",
    "    fmt = 'http://www.nwac.us/avalanche-forecast/avalanche-region-forecast/{num}/'\n",
    "    r = requests.get(fmt.format(num=subforecast_id))\n",
    "    soup = bs4.BeautifulSoup(r.text, 'html5lib')\n",
    "\n",
    "    date = str(soup.find('div', attrs={'class': 'forecast-date'}).contents[0].strip())\n",
    "    author = str(soup.find('div', attrs={'class': 'forecaster'}).contents[0].strip())\n",
    "    region = str(soup.find('h2').contents[0].strip())\n",
    "    \n",
    "    summary = soup.find('div', attrs={'class': 'forecast-summary'})\n",
    "    if summary is None:\n",
    "        summary = soup.find('div', attrs={'class': 'special-header-notes'})\n",
    "    summary = str(summary.text).strip().replace(u'\\xa0', u' ')\n",
    "    \n",
    "    areas = ['treeline-above',\n",
    "             'treeline-near',\n",
    "             'treeline-below']\n",
    "    \n",
    "    ratings = []\n",
    "    for area in areas:\n",
    "        rating = find_rating(soup, area)\n",
    "        ratings.append((area, rating))\n",
    "    \n",
    "    return trim(date, 'Issued: '), trim(author, 'by '), region, summary, ratings\n",
    "\n",
    "def find_rating(soup, area):\n",
    "    chunk = soup.find('div', attrs={'id': area})\n",
    "    if chunk is None:\n",
    "        return None\n",
    "    rating = chunk.find(\n",
    "        'div', attrs={'class': 'elev-day1-column'}\n",
    "            ).find(\n",
    "        'div', attrs={'class': 'danger-description'}\n",
    "            ).find('h4').contents[0]\n",
    "    return str(rating)"
   ]
  },
  {
   "cell_type": "code",
   "execution_count": 245,
   "metadata": {
    "collapsed": false
   },
   "outputs": [
    {
     "data": {
      "text/plain": [
       "('6:00 PM PST Thursday, December 31, 2015',\n",
       " \"Dennis D'Amico\",\n",
       " 'East Slopes North - Canadian Border to Lake Chelan',\n",
       " 'Watch for isolated areas of wind slab primarily on north through southeast aspects above treeline and for small loose avalanches near terrain traps on steeper slopes throughout the terrain.',\n",
       " [('treeline-above', 'Moderate'),\n",
       "  ('treeline-near', 'Low'),\n",
       "  ('treeline-below', 'Low')])"
      ]
     },
     "execution_count": 245,
     "metadata": {},
     "output_type": "execute_result"
    }
   ],
   "source": [
    "get_report(1852)"
   ]
  },
  {
   "cell_type": "code",
   "execution_count": 246,
   "metadata": {
    "collapsed": false
   },
   "outputs": [
    {
     "data": {
      "text/plain": [
       "('10:11 AM PST Monday, June 2, 2014',\n",
       " 'Kenny Kramer',\n",
       " 'Olympics',\n",
       " 'Have a safe and enjoyable rest of the spring and we look forward to bringing you even better mountain weather and avalanche forecasts next season! A big thanks to all who help in supporting the Northwest Avalanche Center.  \\n\\nPlease note that regularly scheduled mountain weather and avalanche forecasts for the past winter season have ended.  However, weather and snow conditions will continue to be monitored through mid-June at the Northwest Weather and Avalanche Center with the information that remains available.  Additional forecasts or special statements will be issued when unusually severe avalanche conditions develop.  When issued such forecasts will be available on the NWAC Web site.',\n",
       " [('treeline-above', None), ('treeline-near', None), ('treeline-below', None)])"
      ]
     },
     "execution_count": 246,
     "metadata": {},
     "output_type": "execute_result"
    }
   ],
   "source": [
    "get_report(884)"
   ]
  },
  {
   "cell_type": "markdown",
   "metadata": {},
   "source": [
    "# Database schema\n",
    "\n",
    "Organized storage for forecasts and reports, as well as a join table to say which go with which"
   ]
  },
  {
   "cell_type": "code",
   "execution_count": 19,
   "metadata": {
    "collapsed": true
   },
   "outputs": [],
   "source": [
    "import sqlalchemy as sa"
   ]
  },
  {
   "cell_type": "code",
   "execution_count": 20,
   "metadata": {
    "collapsed": false
   },
   "outputs": [
    {
     "name": "stdout",
     "output_type": "stream",
     "text": [
      "postgres://tkb@localhost/avy\n"
     ]
    }
   ],
   "source": [
    "engine = sa.create_engine('postgres://%s@localhost/%s'%('tkb','avy'))\n",
    "print(engine.url)"
   ]
  },
  {
   "cell_type": "code",
   "execution_count": 146,
   "metadata": {
    "collapsed": false
   },
   "outputs": [],
   "source": [
    "metadata = sa.MetaData()\n",
    "\n",
    "forecast_table = sa.Table('forecasts', metadata,\n",
    "                          sa.Column('forecast_id', sa.Integer,\n",
    "                                    primary_key=True, autoincrement=False),\n",
    "                          sa.Column('date', sa.Text),\n",
    "                          sa.Column('datetime', sa.Text),\n",
    "                          sa.Column('datetime_utc', sa.Time),\n",
    "                          sa.Column('author', sa.Text),\n",
    "                         )\n",
    "\n",
    "report_table = sa.Table('reports', metadata,\n",
    "                        sa.Column('report_id', sa.Integer,\n",
    "                                  primary_key=True, autoincrement=False),\n",
    "                          sa.Column('datetime', sa.Text),\n",
    "                          sa.Column('datetime_utc', sa.DateTime),\n",
    "                          sa.Column('author', sa.Text),\n",
    "                          sa.Column('region', sa.Text),\n",
    "                          sa.Column('summary', sa.Text),\n",
    "                          sa.Column('treeline_above', sa.Text),\n",
    "                          sa.Column('treeline_near', sa.Text),\n",
    "                          sa.Column('treeline_below', sa.Text),\n",
    "                        )\n",
    "\n",
    "region_index = sa.Table('region_index', metadata,\n",
    "                        sa.Column('forecast_id', sa.Integer, primary_key=True),\n",
    "                        sa.Column('region', sa.Text, primary_key=True),\n",
    "                        sa.Column('report_id', sa.Integer)\n",
    "                       )"
   ]
  },
  {
   "cell_type": "code",
   "execution_count": 147,
   "metadata": {
    "collapsed": false
   },
   "outputs": [],
   "source": [
    "#report_table.create(engine)"
   ]
  },
  {
   "cell_type": "code",
   "execution_count": 22,
   "metadata": {
    "collapsed": true
   },
   "outputs": [],
   "source": [
    "import sqlalchemy_utils as sau"
   ]
  },
  {
   "cell_type": "code",
   "execution_count": 35,
   "metadata": {
    "collapsed": false
   },
   "outputs": [
    {
     "name": "stdout",
     "output_type": "stream",
     "text": [
      "False\n"
     ]
    }
   ],
   "source": [
    "#sau.drop_database(engine.url)\n",
    "print(sau.database_exists(engine.url))"
   ]
  },
  {
   "cell_type": "code",
   "execution_count": 36,
   "metadata": {
    "collapsed": false
   },
   "outputs": [
    {
     "name": "stdout",
     "output_type": "stream",
     "text": [
      "True\n"
     ]
    }
   ],
   "source": [
    "## create a database (if it doesn't exist)\n",
    "if not sau.database_exists(engine.url):\n",
    "    sau.create_database(engine.url)\n",
    "    metadata.create_all(engine)\n",
    "print(sau.database_exists(engine.url))\n"
   ]
  },
  {
   "cell_type": "markdown",
   "metadata": {},
   "source": [
    "Feed in an example row"
   ]
  },
  {
   "cell_type": "code",
   "execution_count": null,
   "metadata": {
    "collapsed": false
   },
   "outputs": [],
   "source": [
    "str(forecast_table.insert())"
   ]
  },
  {
   "cell_type": "code",
   "execution_count": null,
   "metadata": {
    "collapsed": false
   },
   "outputs": [],
   "source": [
    "str(forecast_table.insert().values())"
   ]
  },
  {
   "cell_type": "code",
   "execution_count": null,
   "metadata": {
    "collapsed": false
   },
   "outputs": [],
   "source": [
    "str(forecast_table.select('*'))"
   ]
  },
  {
   "cell_type": "code",
   "execution_count": 37,
   "metadata": {
    "collapsed": false
   },
   "outputs": [
    {
     "name": "stdout",
     "output_type": "stream",
     "text": [
      "False\n",
      "True\n"
     ]
    }
   ],
   "source": [
    "with engine.begin() as conn:\n",
    "    print (conn.closed)\n",
    "    pass\n",
    "print (conn.closed)"
   ]
  },
  {
   "cell_type": "markdown",
   "metadata": {},
   "source": [
    "# read in preliminary data.\n",
    "\n",
    "to empty it, do TRUNCATE TABLE"
   ]
  },
  {
   "cell_type": "markdown",
   "metadata": {},
   "source": [
    "Insert all in one statement. If there's a problem with any one row, this whole thing fails"
   ]
  },
  {
   "cell_type": "code",
   "execution_count": 38,
   "metadata": {
    "collapsed": false
   },
   "outputs": [],
   "source": [
    "def insert_forecasts_prelim(days):\n",
    "    with engine.begin() as conn:\n",
    "        data = [{'forecast_id': fid, 'date': date} for date,fid in days]\n",
    "        stmt = forecast_table.insert().values(data)\n",
    "        conn.execute(stmt)"
   ]
  },
  {
   "cell_type": "markdown",
   "metadata": {},
   "source": [
    "batched queries. Depending on how these loops are nested, only individual things fail"
   ]
  },
  {
   "cell_type": "code",
   "execution_count": 39,
   "metadata": {
    "collapsed": false
   },
   "outputs": [],
   "source": [
    "def insert_forecasts_prelim_batched(days):\n",
    "    for date,forecast_id in days:\n",
    "        with engine.begin() as conn:\n",
    "            stmt = forecast_table.insert().values(date=date, forecast_id=forecast_id)\n",
    "            conn.execute(stmt)"
   ]
  },
  {
   "cell_type": "markdown",
   "metadata": {},
   "source": [
    "for testing:"
   ]
  },
  {
   "cell_type": "code",
   "execution_count": 53,
   "metadata": {
    "collapsed": false
   },
   "outputs": [],
   "source": [
    "days = get_forecast_list('January', 2016)\n",
    "#insert_forecasts_prelim(days)"
   ]
  },
  {
   "cell_type": "markdown",
   "metadata": {},
   "source": [
    "# get list of all forecasts ever\n",
    "\n",
    "and put this in the database as preliminary datas"
   ]
  },
  {
   "cell_type": "code",
   "execution_count": 54,
   "metadata": {
    "collapsed": true
   },
   "outputs": [],
   "source": [
    "def gen_all_reports():\n",
    "    for year in get_years():\n",
    "        for month in get_months(year):\n",
    "            yield from get_forecast_list(month, year)"
   ]
  },
  {
   "cell_type": "code",
   "execution_count": 55,
   "metadata": {
    "collapsed": false
   },
   "outputs": [],
   "source": [
    "insert_forecasts_prelim(gen_all_reports())"
   ]
  },
  {
   "cell_type": "code",
   "execution_count": 56,
   "metadata": {
    "collapsed": false
   },
   "outputs": [
    {
     "data": {
      "text/html": [
       "<div>\n",
       "<table border=\"1\" class=\"dataframe\">\n",
       "  <thead>\n",
       "    <tr style=\"text-align: right;\">\n",
       "      <th></th>\n",
       "      <th>forecast_id</th>\n",
       "      <th>date</th>\n",
       "      <th>datetime</th>\n",
       "      <th>datetime_utc</th>\n",
       "      <th>author</th>\n",
       "    </tr>\n",
       "  </thead>\n",
       "  <tbody>\n",
       "    <tr>\n",
       "      <th>0</th>\n",
       "      <td>37</td>\n",
       "      <td>Dec. 11, 2013</td>\n",
       "      <td>None</td>\n",
       "      <td>None</td>\n",
       "      <td>None</td>\n",
       "    </tr>\n",
       "    <tr>\n",
       "      <th>1</th>\n",
       "      <td>38</td>\n",
       "      <td>Dec. 11, 2013</td>\n",
       "      <td>None</td>\n",
       "      <td>None</td>\n",
       "      <td>None</td>\n",
       "    </tr>\n",
       "    <tr>\n",
       "      <th>2</th>\n",
       "      <td>39</td>\n",
       "      <td>Dec. 11, 2013</td>\n",
       "      <td>None</td>\n",
       "      <td>None</td>\n",
       "      <td>None</td>\n",
       "    </tr>\n",
       "    <tr>\n",
       "      <th>3</th>\n",
       "      <td>40</td>\n",
       "      <td>Dec. 12, 2013</td>\n",
       "      <td>None</td>\n",
       "      <td>None</td>\n",
       "      <td>None</td>\n",
       "    </tr>\n",
       "    <tr>\n",
       "      <th>4</th>\n",
       "      <td>47</td>\n",
       "      <td>Dec. 13, 2013</td>\n",
       "      <td>None</td>\n",
       "      <td>None</td>\n",
       "      <td>None</td>\n",
       "    </tr>\n",
       "  </tbody>\n",
       "</table>\n",
       "</div>"
      ],
      "text/plain": [
       "   forecast_id           date datetime datetime_utc author\n",
       "0           37  Dec. 11, 2013     None         None   None\n",
       "1           38  Dec. 11, 2013     None         None   None\n",
       "2           39  Dec. 11, 2013     None         None   None\n",
       "3           40  Dec. 12, 2013     None         None   None\n",
       "4           47  Dec. 13, 2013     None         None   None"
      ]
     },
     "execution_count": 56,
     "metadata": {},
     "output_type": "execute_result"
    }
   ],
   "source": [
    "pd.read_sql_query('select * from forecasts order by forecast_id limit 5', engine)"
   ]
  },
  {
   "cell_type": "markdown",
   "metadata": {},
   "source": [
    "# Add region data"
   ]
  },
  {
   "cell_type": "code",
   "execution_count": 104,
   "metadata": {
    "collapsed": false
   },
   "outputs": [],
   "source": [
    "def load_forecast(forecast_id):\n",
    "    datetime,author,reg_index = get_forecast(forecast_id)\n",
    "    datetime_utc = pd.to_datetime(datetime)\n",
    "    values = dict(datetime=datetime, author=author, datetime_utc=datetime_utc)\n",
    "    \n",
    "    with engine.begin() as conn:\n",
    "        # fill in the rest of the forecast info (update one row)\n",
    "        stmt = forecast_table.update().where(\n",
    "                   forecast_table.c.forecast_id==forecast_id\n",
    "                   ).values(**values)\n",
    "        conn.execute(stmt)\n",
    "\n",
    "        # populate the region index (many rows)\n",
    "        data = [{'region': reg, 'report_id': rid, 'forecast_id': forecast_id} for reg,rid in reg_index]\n",
    "        stmt2 = region_index.insert().values(data)\n",
    "        conn.execute(stmt2)"
   ]
  },
  {
   "cell_type": "code",
   "execution_count": 113,
   "metadata": {
    "collapsed": false
   },
   "outputs": [],
   "source": [
    "load_forecast(37)"
   ]
  },
  {
   "cell_type": "code",
   "execution_count": 114,
   "metadata": {
    "collapsed": false
   },
   "outputs": [
    {
     "data": {
      "text/html": [
       "<div>\n",
       "<table border=\"1\" class=\"dataframe\">\n",
       "  <thead>\n",
       "    <tr style=\"text-align: right;\">\n",
       "      <th></th>\n",
       "      <th>forecast_id</th>\n",
       "      <th>date</th>\n",
       "      <th>datetime</th>\n",
       "      <th>datetime_utc</th>\n",
       "      <th>author</th>\n",
       "    </tr>\n",
       "  </thead>\n",
       "  <tbody>\n",
       "    <tr>\n",
       "      <th>0</th>\n",
       "      <td>37</td>\n",
       "      <td>Dec. 11, 2013</td>\n",
       "      <td>2:36 PM PST Tuesday, December 10, 2013</td>\n",
       "      <td>22:36:00</td>\n",
       "      <td>Kenny Kramer</td>\n",
       "    </tr>\n",
       "    <tr>\n",
       "      <th>1</th>\n",
       "      <td>38</td>\n",
       "      <td>Dec. 11, 2013</td>\n",
       "      <td>None</td>\n",
       "      <td>None</td>\n",
       "      <td>None</td>\n",
       "    </tr>\n",
       "    <tr>\n",
       "      <th>2</th>\n",
       "      <td>39</td>\n",
       "      <td>Dec. 11, 2013</td>\n",
       "      <td>None</td>\n",
       "      <td>None</td>\n",
       "      <td>None</td>\n",
       "    </tr>\n",
       "    <tr>\n",
       "      <th>3</th>\n",
       "      <td>40</td>\n",
       "      <td>Dec. 12, 2013</td>\n",
       "      <td>None</td>\n",
       "      <td>None</td>\n",
       "      <td>None</td>\n",
       "    </tr>\n",
       "    <tr>\n",
       "      <th>4</th>\n",
       "      <td>47</td>\n",
       "      <td>Dec. 13, 2013</td>\n",
       "      <td>None</td>\n",
       "      <td>None</td>\n",
       "      <td>None</td>\n",
       "    </tr>\n",
       "  </tbody>\n",
       "</table>\n",
       "</div>"
      ],
      "text/plain": [
       "   forecast_id           date                                datetime  \\\n",
       "0           37  Dec. 11, 2013  2:36 PM PST Tuesday, December 10, 2013   \n",
       "1           38  Dec. 11, 2013                                    None   \n",
       "2           39  Dec. 11, 2013                                    None   \n",
       "3           40  Dec. 12, 2013                                    None   \n",
       "4           47  Dec. 13, 2013                                    None   \n",
       "\n",
       "  datetime_utc        author  \n",
       "0     22:36:00  Kenny Kramer  \n",
       "1         None          None  \n",
       "2         None          None  \n",
       "3         None          None  \n",
       "4         None          None  "
      ]
     },
     "execution_count": 114,
     "metadata": {},
     "output_type": "execute_result"
    }
   ],
   "source": [
    "pd.read_sql_query('select * from forecasts order by forecast_id limit 5', engine)"
   ]
  },
  {
   "cell_type": "code",
   "execution_count": 115,
   "metadata": {
    "collapsed": false
   },
   "outputs": [
    {
     "data": {
      "text/html": [
       "<div>\n",
       "<table border=\"1\" class=\"dataframe\">\n",
       "  <thead>\n",
       "    <tr style=\"text-align: right;\">\n",
       "      <th></th>\n",
       "      <th>forecast_id</th>\n",
       "      <th>region</th>\n",
       "      <th>report_id</th>\n",
       "    </tr>\n",
       "  </thead>\n",
       "  <tbody>\n",
       "    <tr>\n",
       "      <th>0</th>\n",
       "      <td>37</td>\n",
       "      <td>Olympics</td>\n",
       "      <td>73</td>\n",
       "    </tr>\n",
       "    <tr>\n",
       "      <th>1</th>\n",
       "      <td>37</td>\n",
       "      <td>Stevens Pass</td>\n",
       "      <td>73</td>\n",
       "    </tr>\n",
       "    <tr>\n",
       "      <th>2</th>\n",
       "      <td>37</td>\n",
       "      <td>Snoqualmie Pass</td>\n",
       "      <td>73</td>\n",
       "    </tr>\n",
       "    <tr>\n",
       "      <th>3</th>\n",
       "      <td>37</td>\n",
       "      <td>Mt Hood</td>\n",
       "      <td>73</td>\n",
       "    </tr>\n",
       "    <tr>\n",
       "      <th>4</th>\n",
       "      <td>37</td>\n",
       "      <td>White Pass</td>\n",
       "      <td>73</td>\n",
       "    </tr>\n",
       "    <tr>\n",
       "      <th>5</th>\n",
       "      <td>37</td>\n",
       "      <td>WA Cascades near and west of crest - between S...</td>\n",
       "      <td>73</td>\n",
       "    </tr>\n",
       "    <tr>\n",
       "      <th>6</th>\n",
       "      <td>37</td>\n",
       "      <td>East slopes WA Cascades - between Stevens and ...</td>\n",
       "      <td>73</td>\n",
       "    </tr>\n",
       "    <tr>\n",
       "      <th>7</th>\n",
       "      <td>37</td>\n",
       "      <td>WA Cascades near and west of crest - north of ...</td>\n",
       "      <td>73</td>\n",
       "    </tr>\n",
       "    <tr>\n",
       "      <th>8</th>\n",
       "      <td>37</td>\n",
       "      <td>WA Cascades near and west of crest - south of ...</td>\n",
       "      <td>73</td>\n",
       "    </tr>\n",
       "    <tr>\n",
       "      <th>9</th>\n",
       "      <td>37</td>\n",
       "      <td>East slopes WA Cascades - between Snoqualmie a...</td>\n",
       "      <td>73</td>\n",
       "    </tr>\n",
       "    <tr>\n",
       "      <th>10</th>\n",
       "      <td>37</td>\n",
       "      <td>WA Cascades near and west of crest - between S...</td>\n",
       "      <td>73</td>\n",
       "    </tr>\n",
       "    <tr>\n",
       "      <th>11</th>\n",
       "      <td>37</td>\n",
       "      <td>East slopes WA Cascades - north of Stevens Pass</td>\n",
       "      <td>73</td>\n",
       "    </tr>\n",
       "    <tr>\n",
       "      <th>12</th>\n",
       "      <td>37</td>\n",
       "      <td>East slopes WA Cascades - south of White Pass</td>\n",
       "      <td>73</td>\n",
       "    </tr>\n",
       "  </tbody>\n",
       "</table>\n",
       "</div>"
      ],
      "text/plain": [
       "    forecast_id                                             region  report_id\n",
       "0            37                                           Olympics         73\n",
       "1            37                                       Stevens Pass         73\n",
       "2            37                                    Snoqualmie Pass         73\n",
       "3            37                                            Mt Hood         73\n",
       "4            37                                         White Pass         73\n",
       "5            37  WA Cascades near and west of crest - between S...         73\n",
       "6            37  East slopes WA Cascades - between Stevens and ...         73\n",
       "7            37  WA Cascades near and west of crest - north of ...         73\n",
       "8            37  WA Cascades near and west of crest - south of ...         73\n",
       "9            37  East slopes WA Cascades - between Snoqualmie a...         73\n",
       "10           37  WA Cascades near and west of crest - between S...         73\n",
       "11           37    East slopes WA Cascades - north of Stevens Pass         73\n",
       "12           37      East slopes WA Cascades - south of White Pass         73"
      ]
     },
     "execution_count": 115,
     "metadata": {},
     "output_type": "execute_result"
    }
   ],
   "source": [
    "pd.read_sql_query('select * from region_index', engine)"
   ]
  },
  {
   "cell_type": "markdown",
   "metadata": {},
   "source": [
    "# read in all detailed forecast data"
   ]
  },
  {
   "cell_type": "code",
   "execution_count": 116,
   "metadata": {
    "collapsed": false
   },
   "outputs": [
    {
     "data": {
      "text/html": [
       "<div>\n",
       "<table border=\"1\" class=\"dataframe\">\n",
       "  <thead>\n",
       "    <tr style=\"text-align: right;\">\n",
       "      <th></th>\n",
       "      <th>forecast_id</th>\n",
       "      <th>date</th>\n",
       "      <th>datetime</th>\n",
       "      <th>datetime_utc</th>\n",
       "      <th>author</th>\n",
       "    </tr>\n",
       "  </thead>\n",
       "  <tbody>\n",
       "    <tr>\n",
       "      <th>0</th>\n",
       "      <td>38</td>\n",
       "      <td>Dec. 11, 2013</td>\n",
       "      <td>None</td>\n",
       "      <td>None</td>\n",
       "      <td>None</td>\n",
       "    </tr>\n",
       "    <tr>\n",
       "      <th>1</th>\n",
       "      <td>39</td>\n",
       "      <td>Dec. 11, 2013</td>\n",
       "      <td>None</td>\n",
       "      <td>None</td>\n",
       "      <td>None</td>\n",
       "    </tr>\n",
       "    <tr>\n",
       "      <th>2</th>\n",
       "      <td>40</td>\n",
       "      <td>Dec. 12, 2013</td>\n",
       "      <td>None</td>\n",
       "      <td>None</td>\n",
       "      <td>None</td>\n",
       "    </tr>\n",
       "    <tr>\n",
       "      <th>3</th>\n",
       "      <td>47</td>\n",
       "      <td>Dec. 13, 2013</td>\n",
       "      <td>None</td>\n",
       "      <td>None</td>\n",
       "      <td>None</td>\n",
       "    </tr>\n",
       "    <tr>\n",
       "      <th>4</th>\n",
       "      <td>50</td>\n",
       "      <td>Dec. 14, 2013</td>\n",
       "      <td>None</td>\n",
       "      <td>None</td>\n",
       "      <td>None</td>\n",
       "    </tr>\n",
       "  </tbody>\n",
       "</table>\n",
       "</div>"
      ],
      "text/plain": [
       "   forecast_id           date datetime datetime_utc author\n",
       "0           38  Dec. 11, 2013     None         None   None\n",
       "1           39  Dec. 11, 2013     None         None   None\n",
       "2           40  Dec. 12, 2013     None         None   None\n",
       "3           47  Dec. 13, 2013     None         None   None\n",
       "4           50  Dec. 14, 2013     None         None   None"
      ]
     },
     "execution_count": 116,
     "metadata": {},
     "output_type": "execute_result"
    }
   ],
   "source": [
    "pd.read_sql_query('select * from forecasts where datetime_utc is null order by forecast_id limit 5', engine)"
   ]
  },
  {
   "cell_type": "code",
   "execution_count": 121,
   "metadata": {
    "collapsed": false
   },
   "outputs": [],
   "source": [
    "def fill_forecasts(how_many=5):\n",
    "    stmt = sa.select(\n",
    "                    [forecast_table.c.forecast_id]\n",
    "                ).where(\n",
    "                    forecast_table.c.author == None\n",
    "                ).order_by(\n",
    "                    forecast_table.c.forecast_id.desc()\n",
    "                ).limit(how_many)\n",
    "    str(stmt)\n",
    "\n",
    "    with engine.begin() as conn:\n",
    "        result = conn.execute(stmt)\n",
    "\n",
    "    for fid, in result:\n",
    "        print(fid, end=' ')\n",
    "        load_forecast(fid)"
   ]
  },
  {
   "cell_type": "code",
   "execution_count": 122,
   "metadata": {
    "collapsed": false
   },
   "outputs": [
    {
     "name": "stdout",
     "output_type": "stream",
     "text": [
      "492 491 490 489 488 "
     ]
    }
   ],
   "source": [
    "fill_forecasts()"
   ]
  },
  {
   "cell_type": "code",
   "execution_count": 123,
   "metadata": {
    "collapsed": false
   },
   "outputs": [
    {
     "name": "stdout",
     "output_type": "stream",
     "text": [
      "487 486 485 484 483 "
     ]
    }
   ],
   "source": [
    "fill_forecasts()"
   ]
  },
  {
   "cell_type": "code",
   "execution_count": 125,
   "metadata": {
    "collapsed": false
   },
   "outputs": [
    {
     "name": "stdout",
     "output_type": "stream",
     "text": [
      "482 481 480 479 478 477 476 475 474 473 472 471 470 469 468 467 466 465 464 463 "
     ]
    }
   ],
   "source": [
    "fill_forecasts(20)"
   ]
  },
  {
   "cell_type": "code",
   "execution_count": 180,
   "metadata": {
    "collapsed": false
   },
   "outputs": [
    {
     "name": "stdout",
     "output_type": "stream",
     "text": [
      "462 461 460 459 458 457 456 455 454 453 452 451 450 449 448 447 446 445 444 443 "
     ]
    }
   ],
   "source": [
    "fill_forecasts(20)"
   ]
  },
  {
   "cell_type": "code",
   "execution_count": 194,
   "metadata": {
    "collapsed": false
   },
   "outputs": [
    {
     "name": "stdout",
     "output_type": "stream",
     "text": [
      "442 441 440 439 438 437 436 435 434 433 431 430 429 427 426 424 423 410 408 407 "
     ]
    }
   ],
   "source": [
    "fill_forecasts(20)"
   ]
  },
  {
   "cell_type": "code",
   "execution_count": 192,
   "metadata": {
    "collapsed": true
   },
   "outputs": [],
   "source": [
    "def missing_forecasts():\n",
    "    \"\"\"How many forecasts are missing?\"\"\"\n",
    "    stmt = sa.select(\n",
    "                    [sa.func.count(forecast_table.c.forecast_id)]\n",
    "                ).where(\n",
    "                    forecast_table.c.author == None\n",
    "                )\n",
    "    str(stmt)\n",
    "\n",
    "    with engine.begin() as conn:\n",
    "        result = conn.execute(stmt)\n",
    "\n",
    "    missing, = result.fetchone()\n",
    "    return missing"
   ]
  },
  {
   "cell_type": "code",
   "execution_count": 195,
   "metadata": {
    "collapsed": false
   },
   "outputs": [
    {
     "data": {
      "text/plain": [
       "322"
      ]
     },
     "execution_count": 195,
     "metadata": {},
     "output_type": "execute_result"
    }
   ],
   "source": [
    "missing_forecasts()"
   ]
  },
  {
   "cell_type": "markdown",
   "metadata": {},
   "source": [
    "# Read in Reports"
   ]
  },
  {
   "cell_type": "code",
   "execution_count": 126,
   "metadata": {
    "collapsed": false
   },
   "outputs": [
    {
     "data": {
      "text/html": [
       "<div>\n",
       "<table border=\"1\" class=\"dataframe\">\n",
       "  <thead>\n",
       "    <tr style=\"text-align: right;\">\n",
       "      <th></th>\n",
       "      <th>forecast_id</th>\n",
       "      <th>region</th>\n",
       "      <th>report_id</th>\n",
       "    </tr>\n",
       "  </thead>\n",
       "  <tbody>\n",
       "    <tr>\n",
       "      <th>0</th>\n",
       "      <td>37</td>\n",
       "      <td>Olympics</td>\n",
       "      <td>73</td>\n",
       "    </tr>\n",
       "    <tr>\n",
       "      <th>1</th>\n",
       "      <td>37</td>\n",
       "      <td>Stevens Pass</td>\n",
       "      <td>73</td>\n",
       "    </tr>\n",
       "    <tr>\n",
       "      <th>2</th>\n",
       "      <td>37</td>\n",
       "      <td>Snoqualmie Pass</td>\n",
       "      <td>73</td>\n",
       "    </tr>\n",
       "    <tr>\n",
       "      <th>3</th>\n",
       "      <td>37</td>\n",
       "      <td>Mt Hood</td>\n",
       "      <td>73</td>\n",
       "    </tr>\n",
       "    <tr>\n",
       "      <th>4</th>\n",
       "      <td>37</td>\n",
       "      <td>White Pass</td>\n",
       "      <td>73</td>\n",
       "    </tr>\n",
       "  </tbody>\n",
       "</table>\n",
       "</div>"
      ],
      "text/plain": [
       "   forecast_id           region  report_id\n",
       "0           37         Olympics         73\n",
       "1           37     Stevens Pass         73\n",
       "2           37  Snoqualmie Pass         73\n",
       "3           37          Mt Hood         73\n",
       "4           37       White Pass         73"
      ]
     },
     "execution_count": 126,
     "metadata": {},
     "output_type": "execute_result"
    }
   ],
   "source": [
    "pd.read_sql_query('select * from region_index limit 5', engine)"
   ]
  },
  {
   "cell_type": "code",
   "execution_count": 137,
   "metadata": {
    "collapsed": false
   },
   "outputs": [
    {
     "data": {
      "text/html": [
       "<div>\n",
       "<table border=\"1\" class=\"dataframe\">\n",
       "  <thead>\n",
       "    <tr style=\"text-align: right;\">\n",
       "      <th></th>\n",
       "      <th>report_id</th>\n",
       "    </tr>\n",
       "  </thead>\n",
       "  <tbody>\n",
       "    <tr>\n",
       "      <th>0</th>\n",
       "      <td>2002</td>\n",
       "    </tr>\n",
       "    <tr>\n",
       "      <th>1</th>\n",
       "      <td>2000</td>\n",
       "    </tr>\n",
       "    <tr>\n",
       "      <th>2</th>\n",
       "      <td>1999</td>\n",
       "    </tr>\n",
       "    <tr>\n",
       "      <th>3</th>\n",
       "      <td>1998</td>\n",
       "    </tr>\n",
       "    <tr>\n",
       "      <th>4</th>\n",
       "      <td>1997</td>\n",
       "    </tr>\n",
       "  </tbody>\n",
       "</table>\n",
       "</div>"
      ],
      "text/plain": [
       "   report_id\n",
       "0       2002\n",
       "1       2000\n",
       "2       1999\n",
       "3       1998\n",
       "4       1997"
      ]
     },
     "execution_count": 137,
     "metadata": {},
     "output_type": "execute_result"
    }
   ],
   "source": [
    "pd.read_sql_query('select distinct report_id from region_index order by report_id desc limit 5', engine)"
   ]
  },
  {
   "cell_type": "code",
   "execution_count": 165,
   "metadata": {
    "collapsed": false
   },
   "outputs": [
    {
     "data": {
      "text/plain": [
       "('6:00 PM PST Tuesday, January 26, 2016',\n",
       " 'Garth Ferber',\n",
       " 'Mt Hood',\n",
       " 'At Mt Hood the main problem should continue to be loose wet avalanches on Wednesday. Watch for wet surface snow deeper than a few inches and pinwheels or roller balls that usually precede loose wet avalanches.',\n",
       " [('treeline-above', 'Moderate'),\n",
       "  ('treeline-near', 'Moderate'),\n",
       "  ('treeline-below', 'Moderate')])"
      ]
     },
     "execution_count": 165,
     "metadata": {},
     "output_type": "execute_result"
    }
   ],
   "source": [
    "get_report(2002)"
   ]
  },
  {
   "cell_type": "code",
   "execution_count": 160,
   "metadata": {
    "collapsed": false
   },
   "outputs": [],
   "source": [
    "def load_report(report_id):\n",
    "    datetime,author,region,summary,conditions_list = get_report(report_id)\n",
    "    datetime_utc = pd.to_datetime(datetime)\n",
    "    conditions_dict = dict((k.replace('-','_'),v) for k,v in conditions_list)\n",
    "    values = dict(report_id=report_id,\n",
    "                  datetime=datetime, author=author, datetime_utc=datetime_utc,\n",
    "                 region=region, summary=summary, **conditions_dict)\n",
    "    \n",
    "    with engine.begin() as conn:\n",
    "        stmt = report_table.insert(\n",
    "                   ).values(**values)\n",
    "        conn.execute(stmt)"
   ]
  },
  {
   "cell_type": "code",
   "execution_count": 161,
   "metadata": {
    "collapsed": false
   },
   "outputs": [],
   "source": [
    "load_report(2002)"
   ]
  },
  {
   "cell_type": "code",
   "execution_count": 175,
   "metadata": {
    "collapsed": false
   },
   "outputs": [],
   "source": [
    "def fill_reports(how_many=5):\n",
    "    # select report ids from the region index\n",
    "    # which have no counterpart in the report table,\n",
    "    # ignoring duplicates (distinct). big nasty query:\n",
    "    stmt = sa.select(\n",
    "                    [region_index.c.report_id]\n",
    "                ).select_from(region_index.outerjoin(report_table,\n",
    "                        region_index.c.report_id == report_table.c.report_id)\n",
    "                ).where(\n",
    "                    report_table.c.report_id == None\n",
    "                ).order_by(\n",
    "                    region_index.c.report_id.desc()\n",
    "                ).distinct().limit(how_many)\n",
    "\n",
    "    with engine.begin() as conn:\n",
    "        result = conn.execute(stmt)\n",
    "\n",
    "    for rid, in result:\n",
    "        print(rid, end=' ')\n",
    "        load_report(rid)"
   ]
  },
  {
   "cell_type": "code",
   "execution_count": 218,
   "metadata": {
    "collapsed": true
   },
   "outputs": [],
   "source": [
    "def missing_reports():\n",
    "    stmt = sa.select(\n",
    "                    [sa.func.count(region_index.c.report_id.distinct())]\n",
    "                ).select_from(region_index.outerjoin(report_table,\n",
    "                        region_index.c.report_id == report_table.c.report_id)\n",
    "                ).where(\n",
    "                    report_table.c.report_id == None\n",
    "                )\n",
    "    str(stmt)\n",
    "\n",
    "    with engine.begin() as conn:\n",
    "        result = conn.execute(stmt)\n",
    "\n",
    "    missing, = result.fetchone()\n",
    "    return missing"
   ]
  },
  {
   "cell_type": "code",
   "execution_count": 247,
   "metadata": {
    "collapsed": false
   },
   "outputs": [
    {
     "data": {
      "text/plain": [
       "588"
      ]
     },
     "execution_count": 247,
     "metadata": {},
     "output_type": "execute_result"
    }
   ],
   "source": [
    "missing_reports()"
   ]
  },
  {
   "cell_type": "code",
   "execution_count": 181,
   "metadata": {
    "collapsed": false
   },
   "outputs": [
    {
     "name": "stdout",
     "output_type": "stream",
     "text": [
      "1966 1965 1964 1963 1962 1961 1960 1959 1958 1957 1956 1955 1954 1953 1952 1951 1950 1949 1948 1947 "
     ]
    }
   ],
   "source": [
    "fill_reports(20)"
   ]
  },
  {
   "cell_type": "code",
   "execution_count": 307,
   "metadata": {
    "collapsed": false
   },
   "outputs": [
    {
     "name": "stdout",
     "output_type": "stream",
     "text": [
      "1847 1846 1845 1844 1843 1842 1841 1840 1839 1838 1837 1836 1835 1834 1833 1832 1831 1830 1829 1828 1827 1826 1825 1824 1823 1822 1821 1820 1819 1818 1817 1816 1815 1814 1813 1812 1811 1810 1809 1808 "
     ]
    }
   ],
   "source": [
    "fill_reports(40)"
   ]
  },
  {
   "cell_type": "markdown",
   "metadata": {},
   "source": [
    "# Get backlog of data\n",
    "\n",
    "to do!"
   ]
  },
  {
   "cell_type": "code",
   "execution_count": 314,
   "metadata": {
    "collapsed": false
   },
   "outputs": [
    {
     "data": {
      "text/plain": [
       "(230, 606)"
      ]
     },
     "execution_count": 314,
     "metadata": {},
     "output_type": "execute_result"
    }
   ],
   "source": [
    "missing_forecasts(), missing_reports()"
   ]
  },
  {
   "cell_type": "code",
   "execution_count": 222,
   "metadata": {
    "collapsed": false
   },
   "outputs": [
    {
     "data": {
      "text/plain": [
       "6"
      ]
     },
     "execution_count": 222,
     "metadata": {},
     "output_type": "execute_result"
    }
   ],
   "source": [
    "import random\n",
    "random.randint(1,20)"
   ]
  },
  {
   "cell_type": "code",
   "execution_count": 315,
   "metadata": {
    "collapsed": true
   },
   "outputs": [],
   "source": [
    "from time import sleep\n",
    "\n",
    "def get_staggered(seconds):\n",
    "    accumulated = 0\n",
    "    while accumulated <= seconds:\n",
    "        fill_forecasts(random.randint(1,3))\n",
    "        print('')\n",
    "        fill_reports(random.randint(4,12))\n",
    "        print('')\n",
    "        wait = random.randint(2,7)\n",
    "        accumulated += wait\n",
    "        sleep(wait)\n",
    "    return missing_forecasts(), missing_reports()"
   ]
  },
  {
   "cell_type": "code",
   "execution_count": 316,
   "metadata": {
    "collapsed": false
   },
   "outputs": [
    {
     "name": "stdout",
     "output_type": "stream",
     "text": [
      "310 \n",
      "1807 1806 1805 1804 1802 1800 1799 1798 1797 1796 1795 \n",
      "309 308 \n",
      "1794 1793 1791 1790 1789 1788 1787 \n",
      "307 306 \n",
      "1786 1785 1784 1781 1780 1778 1777 1776 \n",
      "305 302 \n",
      "1775 1773 1772 1771 \n",
      "301 300 299 \n",
      "1770 1769 1768 1767 1764 1763 1762 1761 1760 1759 1758 \n",
      "298 295 \n",
      "1757 1756 1755 1754 1752 1751 1747 \n",
      "294 293 \n",
      "1746 1745 1744 1743 1742 1741 \n",
      "292 \n",
      "1740 1739 1738 1737 1736 1735 1734 1733 1732 1731 \n",
      "291 290 289 \n",
      "1730 1729 1728 1727 1726 1725 1724 1723 1722 1721 1720 1719 \n",
      "288 287 286 \n",
      "1718 1717 1716 1715 1714 \n",
      "285 \n",
      "1713 1712 1711 1710 1709 1708 \n",
      "284 283 282 \n",
      "1707 1704 1703 1702 1701 1700 1699 1698 1697 1696 1691 1690 \n",
      "281 280 \n",
      "1689 1688 1687 1685 1682 1681 \n",
      "279 278 277 \n",
      "1680 1679 1677 1676 1675 1674 \n",
      "276 \n",
      "1673 1665 1664 1663 \n"
     ]
    },
    {
     "data": {
      "text/plain": [
       "(199, 635)"
      ]
     },
     "execution_count": 316,
     "metadata": {},
     "output_type": "execute_result"
    }
   ],
   "source": [
    "get_staggered(60)"
   ]
  },
  {
   "cell_type": "code",
   "execution_count": 226,
   "metadata": {
    "collapsed": false
   },
   "outputs": [
    {
     "name": "stdout",
     "output_type": "stream",
     "text": [
      "362 361 \n",
      "1772 1771 1770 1769 1768 1767 1764 1763 \n",
      "360 359 358 357 \n",
      "1762 1761 1760 1759 1758 1757 1756 1755 1754 \n",
      "356 355 \n",
      "1752 1751 1747 1746 1745 1744 1743 1742 1741 1740 \n",
      "354 353 352 \n",
      "1739 1738 1737 1736 1735 \n"
     ]
    },
    {
     "data": {
      "text/plain": [
       "(269, 344)"
      ]
     },
     "execution_count": 226,
     "metadata": {},
     "output_type": "execute_result"
    }
   ],
   "source": [
    "get_staggered(10)"
   ]
  },
  {
   "cell_type": "markdown",
   "metadata": {},
   "source": [
    "# what regions do we have?"
   ]
  },
  {
   "cell_type": "code",
   "execution_count": 249,
   "metadata": {
    "collapsed": false
   },
   "outputs": [
    {
     "data": {
      "text/html": [
       "<div>\n",
       "<table border=\"1\" class=\"dataframe\">\n",
       "  <thead>\n",
       "    <tr style=\"text-align: right;\">\n",
       "      <th></th>\n",
       "      <th>region</th>\n",
       "    </tr>\n",
       "  </thead>\n",
       "  <tbody>\n",
       "    <tr>\n",
       "      <th>0</th>\n",
       "      <td>East Slopes North - Canadian Border to Lake Ch...</td>\n",
       "    </tr>\n",
       "    <tr>\n",
       "      <th>1</th>\n",
       "      <td>WA Cascades near and west of crest - between S...</td>\n",
       "    </tr>\n",
       "    <tr>\n",
       "      <th>2</th>\n",
       "      <td>Mt Hood</td>\n",
       "    </tr>\n",
       "    <tr>\n",
       "      <th>3</th>\n",
       "      <td>East slopes WA Cascades - north of Stevens Pass</td>\n",
       "    </tr>\n",
       "    <tr>\n",
       "      <th>4</th>\n",
       "      <td>West Slopes South - South of I-90 to Columbia ...</td>\n",
       "    </tr>\n",
       "    <tr>\n",
       "      <th>5</th>\n",
       "      <td>Stevens Pass</td>\n",
       "    </tr>\n",
       "    <tr>\n",
       "      <th>6</th>\n",
       "      <td>WA Cascades near and west of crest - north of ...</td>\n",
       "    </tr>\n",
       "    <tr>\n",
       "      <th>7</th>\n",
       "      <td>West Slopes North - Canadian Border to Skagit ...</td>\n",
       "    </tr>\n",
       "    <tr>\n",
       "      <th>8</th>\n",
       "      <td>Snoqualmie Pass</td>\n",
       "    </tr>\n",
       "    <tr>\n",
       "      <th>9</th>\n",
       "      <td>WA Cascades near and west of crest - between S...</td>\n",
       "    </tr>\n",
       "    <tr>\n",
       "      <th>10</th>\n",
       "      <td>White Pass</td>\n",
       "    </tr>\n",
       "    <tr>\n",
       "      <th>11</th>\n",
       "      <td>WA Cascades near and west of crest - south of ...</td>\n",
       "    </tr>\n",
       "    <tr>\n",
       "      <th>12</th>\n",
       "      <td>Olympics</td>\n",
       "    </tr>\n",
       "    <tr>\n",
       "      <th>13</th>\n",
       "      <td>East slopes WA Cascades - between Snoqualmie a...</td>\n",
       "    </tr>\n",
       "    <tr>\n",
       "      <th>14</th>\n",
       "      <td>East slopes WA Cascades - between Stevens and ...</td>\n",
       "    </tr>\n",
       "    <tr>\n",
       "      <th>15</th>\n",
       "      <td>East Slopes South - South of I-90 to Columbia ...</td>\n",
       "    </tr>\n",
       "    <tr>\n",
       "      <th>16</th>\n",
       "      <td>East Slopes Central - Lake Chelan to South of ...</td>\n",
       "    </tr>\n",
       "    <tr>\n",
       "      <th>17</th>\n",
       "      <td>East slopes WA Cascades - south of White Pass</td>\n",
       "    </tr>\n",
       "    <tr>\n",
       "      <th>18</th>\n",
       "      <td>West Slopes Central - Skagit River to South of...</td>\n",
       "    </tr>\n",
       "  </tbody>\n",
       "</table>\n",
       "</div>"
      ],
      "text/plain": [
       "                                               region\n",
       "0   East Slopes North - Canadian Border to Lake Ch...\n",
       "1   WA Cascades near and west of crest - between S...\n",
       "2                                             Mt Hood\n",
       "3     East slopes WA Cascades - north of Stevens Pass\n",
       "4   West Slopes South - South of I-90 to Columbia ...\n",
       "5                                        Stevens Pass\n",
       "6   WA Cascades near and west of crest - north of ...\n",
       "7   West Slopes North - Canadian Border to Skagit ...\n",
       "8                                     Snoqualmie Pass\n",
       "9   WA Cascades near and west of crest - between S...\n",
       "10                                         White Pass\n",
       "11  WA Cascades near and west of crest - south of ...\n",
       "12                                           Olympics\n",
       "13  East slopes WA Cascades - between Snoqualmie a...\n",
       "14  East slopes WA Cascades - between Stevens and ...\n",
       "15  East Slopes South - South of I-90 to Columbia ...\n",
       "16  East Slopes Central - Lake Chelan to South of ...\n",
       "17      East slopes WA Cascades - south of White Pass\n",
       "18  West Slopes Central - Skagit River to South of..."
      ]
     },
     "execution_count": 249,
     "metadata": {},
     "output_type": "execute_result"
    }
   ],
   "source": [
    "pd.read_sql_query('select distinct region from region_index;', engine)"
   ]
  },
  {
   "cell_type": "code",
   "execution_count": 250,
   "metadata": {
    "collapsed": false
   },
   "outputs": [
    {
     "data": {
      "text/html": [
       "<div>\n",
       "<table border=\"1\" class=\"dataframe\">\n",
       "  <thead>\n",
       "    <tr style=\"text-align: right;\">\n",
       "      <th></th>\n",
       "      <th>region</th>\n",
       "    </tr>\n",
       "  </thead>\n",
       "  <tbody>\n",
       "    <tr>\n",
       "      <th>0</th>\n",
       "      <td>East Slopes North - Canadian Border to Lake Ch...</td>\n",
       "    </tr>\n",
       "    <tr>\n",
       "      <th>1</th>\n",
       "      <td>Olympics</td>\n",
       "    </tr>\n",
       "    <tr>\n",
       "      <th>2</th>\n",
       "      <td>Mt Hood</td>\n",
       "    </tr>\n",
       "    <tr>\n",
       "      <th>3</th>\n",
       "      <td>East Slopes South - South of I-90 to Columbia ...</td>\n",
       "    </tr>\n",
       "    <tr>\n",
       "      <th>4</th>\n",
       "      <td>East Slopes Central - Lake Chelan to South of ...</td>\n",
       "    </tr>\n",
       "    <tr>\n",
       "      <th>5</th>\n",
       "      <td>West Slopes South - South of I-90 to Columbia ...</td>\n",
       "    </tr>\n",
       "    <tr>\n",
       "      <th>6</th>\n",
       "      <td>West Slopes North - Canadian Border to Skagit ...</td>\n",
       "    </tr>\n",
       "    <tr>\n",
       "      <th>7</th>\n",
       "      <td>West Slopes Central - Skagit River to South of...</td>\n",
       "    </tr>\n",
       "  </tbody>\n",
       "</table>\n",
       "</div>"
      ],
      "text/plain": [
       "                                              region\n",
       "0  East Slopes North - Canadian Border to Lake Ch...\n",
       "1                                           Olympics\n",
       "2                                            Mt Hood\n",
       "3  East Slopes South - South of I-90 to Columbia ...\n",
       "4  East Slopes Central - Lake Chelan to South of ...\n",
       "5  West Slopes South - South of I-90 to Columbia ...\n",
       "6  West Slopes North - Canadian Border to Skagit ...\n",
       "7  West Slopes Central - Skagit River to South of..."
      ]
     },
     "execution_count": 250,
     "metadata": {},
     "output_type": "execute_result"
    }
   ],
   "source": [
    "pd.read_sql_query('select distinct region from reports;', engine)"
   ]
  },
  {
   "cell_type": "markdown",
   "metadata": {},
   "source": [
    "# Get new days of data\n",
    "\n",
    "to do!"
   ]
  },
  {
   "cell_type": "markdown",
   "metadata": {},
   "source": [
    "# plotting"
   ]
  },
  {
   "cell_type": "code",
   "execution_count": 255,
   "metadata": {
    "collapsed": true
   },
   "outputs": [],
   "source": [
    "%matplotlib inline"
   ]
  },
  {
   "cell_type": "code",
   "execution_count": 320,
   "metadata": {
    "collapsed": true
   },
   "outputs": [],
   "source": [
    "import matplotlib.pyplot as plt\n",
    "\n",
    "plt.rc('savefig', dpi=100)\n",
    "plt.rc('figure', figsize=(8,8))"
   ]
  },
  {
   "cell_type": "code",
   "execution_count": 256,
   "metadata": {
    "collapsed": false
   },
   "outputs": [
    {
     "data": {
      "text/plain": [
       "{'Considerable': 'orange',\n",
       " 'Extreme': 'black',\n",
       " 'High': 'red',\n",
       " 'Low': 'green',\n",
       " 'Moderate': 'yellow',\n",
       " 'No Rating': 'gray'}"
      ]
     },
     "execution_count": 256,
     "metadata": {},
     "output_type": "execute_result"
    }
   ],
   "source": [
    "ratings = ['No Rating', 'Low', 'Moderate', 'Considerable', 'High', 'Extreme']\n",
    "colors = ['gray', 'green', 'yellow', 'orange', 'red', 'black']\n",
    "coldict = {rating:color for rating, color in zip(ratings, colors)}\n",
    "coldict"
   ]
  },
  {
   "cell_type": "code",
   "execution_count": 269,
   "metadata": {
    "collapsed": false
   },
   "outputs": [],
   "source": [
    "ratdict = {rat:i for i,rat in enumerate(ratings)}"
   ]
  },
  {
   "cell_type": "code",
   "execution_count": 312,
   "metadata": {
    "collapsed": true
   },
   "outputs": [],
   "source": [
    "from matplotlib.patches import Rectangle\n",
    "from matplotlib.dates import date2num, num2date\n",
    "\n",
    "def color_timeline(data, ymin=0, dy=1, ax=None):\n",
    "    if ax is None:\n",
    "        ax = plt.gca()\n",
    "    for stamp,danger in data.iteritems():\n",
    "        #start = date2num(stamp)\n",
    "        start = date2num(stamp)\n",
    "        color = coldict[danger]\n",
    "        r = Rectangle((start, ymin), 1, dy, fc=color, ec='w')\n",
    "        ax.add_patch(r)"
   ]
  },
  {
   "cell_type": "code",
   "execution_count": 318,
   "metadata": {
    "collapsed": false
   },
   "outputs": [
    {
     "data": {
      "text/html": [
       "<div>\n",
       "<table border=\"1\" class=\"dataframe\">\n",
       "  <thead>\n",
       "    <tr style=\"text-align: right;\">\n",
       "      <th></th>\n",
       "      <th>report_id</th>\n",
       "      <th>datetime</th>\n",
       "      <th>datetime_utc</th>\n",
       "      <th>author</th>\n",
       "      <th>region</th>\n",
       "      <th>summary</th>\n",
       "      <th>treeline_above</th>\n",
       "      <th>treeline_near</th>\n",
       "      <th>treeline_below</th>\n",
       "    </tr>\n",
       "  </thead>\n",
       "  <tbody>\n",
       "    <tr>\n",
       "      <th>0</th>\n",
       "      <td>1665</td>\n",
       "      <td>11:07 AM PST Sunday, December 6, 2015</td>\n",
       "      <td>2015-12-06 19:07:00</td>\n",
       "      <td>Garth Ferber</td>\n",
       "      <td>Mt Hood</td>\n",
       "      <td>New small storm and wind slab above treeline s...</td>\n",
       "      <td>Moderate</td>\n",
       "      <td>Moderate</td>\n",
       "      <td>Low</td>\n",
       "    </tr>\n",
       "    <tr>\n",
       "      <th>1</th>\n",
       "      <td>1676</td>\n",
       "      <td>8:03 PM PST Sunday, December 6, 2015</td>\n",
       "      <td>2015-12-07 04:03:00</td>\n",
       "      <td>Garth Ferber</td>\n",
       "      <td>Mt Hood</td>\n",
       "      <td>New more reactive wind and storm slab in the a...</td>\n",
       "      <td>Considerable</td>\n",
       "      <td>Moderate</td>\n",
       "      <td>Low</td>\n",
       "    </tr>\n",
       "    <tr>\n",
       "      <th>2</th>\n",
       "      <td>1687</td>\n",
       "      <td>6:22 PM PST Monday, December 7, 2015</td>\n",
       "      <td>2015-12-08 02:22:00</td>\n",
       "      <td>Kenny Kramer</td>\n",
       "      <td>Mt Hood</td>\n",
       "      <td>Dangerous wet snow or reactive wet slab avalan...</td>\n",
       "      <td>Considerable</td>\n",
       "      <td>Considerable</td>\n",
       "      <td>Low</td>\n",
       "    </tr>\n",
       "    <tr>\n",
       "      <th>3</th>\n",
       "      <td>1691</td>\n",
       "      <td>7:06 PM PST Tuesday, December 8, 2015</td>\n",
       "      <td>2015-12-09 03:06:00</td>\n",
       "      <td>Kenny Kramer</td>\n",
       "      <td>Mt Hood</td>\n",
       "      <td>New shallow wind slab will be the focus on Wed...</td>\n",
       "      <td>Moderate</td>\n",
       "      <td>Moderate</td>\n",
       "      <td>Low</td>\n",
       "    </tr>\n",
       "    <tr>\n",
       "      <th>4</th>\n",
       "      <td>1699</td>\n",
       "      <td>8:38 AM PST Wednesday, December 9, 2015</td>\n",
       "      <td>2015-12-09 16:38:00</td>\n",
       "      <td>Garth Ferber</td>\n",
       "      <td>Mt Hood</td>\n",
       "      <td>New shallow wind slab will be the focus on Wed...</td>\n",
       "      <td>Moderate</td>\n",
       "      <td>Moderate</td>\n",
       "      <td>Low</td>\n",
       "    </tr>\n",
       "  </tbody>\n",
       "</table>\n",
       "</div>"
      ],
      "text/plain": [
       "   report_id                                 datetime        datetime_utc  \\\n",
       "0       1665    11:07 AM PST Sunday, December 6, 2015 2015-12-06 19:07:00   \n",
       "1       1676     8:03 PM PST Sunday, December 6, 2015 2015-12-07 04:03:00   \n",
       "2       1687     6:22 PM PST Monday, December 7, 2015 2015-12-08 02:22:00   \n",
       "3       1691    7:06 PM PST Tuesday, December 8, 2015 2015-12-09 03:06:00   \n",
       "4       1699  8:38 AM PST Wednesday, December 9, 2015 2015-12-09 16:38:00   \n",
       "\n",
       "         author   region                                            summary  \\\n",
       "0  Garth Ferber  Mt Hood  New small storm and wind slab above treeline s...   \n",
       "1  Garth Ferber  Mt Hood  New more reactive wind and storm slab in the a...   \n",
       "2  Kenny Kramer  Mt Hood  Dangerous wet snow or reactive wet slab avalan...   \n",
       "3  Kenny Kramer  Mt Hood  New shallow wind slab will be the focus on Wed...   \n",
       "4  Garth Ferber  Mt Hood  New shallow wind slab will be the focus on Wed...   \n",
       "\n",
       "  treeline_above treeline_near treeline_below  \n",
       "0       Moderate      Moderate            Low  \n",
       "1   Considerable      Moderate            Low  \n",
       "2   Considerable  Considerable            Low  \n",
       "3       Moderate      Moderate            Low  \n",
       "4       Moderate      Moderate            Low  "
      ]
     },
     "execution_count": 318,
     "metadata": {},
     "output_type": "execute_result"
    }
   ],
   "source": [
    "df = pd.read_sql_query(\"select * from reports where reports.region like 'Mt Hood' order by datetime_utc\", engine)\n",
    "df.head()"
   ]
  },
  {
   "cell_type": "code",
   "execution_count": 323,
   "metadata": {
    "collapsed": false
   },
   "outputs": [
    {
     "data": {
      "image/png": "[encoded data removed]",
      "text/plain": [
       "<matplotlib.figure.Figure at 0x10be8ec50>"
      ]
     },
     "metadata": {},
     "output_type": "display_data"
    }
   ],
   "source": [
    "plt.figure(figsize=(12,2))\n",
    "ax = plt.gca()\n",
    "color_timeline(df.set_index('datetime_utc')['treeline_above'], ymin=2)\n",
    "color_timeline(df.set_index('datetime_utc')['treeline_near'], ymin=1)\n",
    "color_timeline(df.set_index('datetime_utc')['treeline_below'])\n",
    "\n",
    "ax.xaxis.set_major_locator(matplotlib.dates.DayLocator(interval=7))\n",
    "ax.xaxis.set_major_formatter(matplotlib.dates.DateFormatter('%e %b %y'))\n",
    "\n",
    "\n",
    "plt.autoscale()"
   ]
  },
  {
   "cell_type": "code",
   "execution_count": 324,
   "metadata": {
    "collapsed": false
   },
   "outputs": [],
   "source": [
    "df2 = df.replace({'treeline_above':ratdict,\n",
    "            'treeline_below':ratdict,\n",
    "            'treeline_near':ratdict,}\n",
    "                 ).set_index('datetime_utc')"
   ]
  },
  {
   "cell_type": "code",
   "execution_count": 325,
   "metadata": {
    "collapsed": false
   },
   "outputs": [
    {
     "data": {
      "text/plain": [
       "<matplotlib.axes._subplots.AxesSubplot at 0x10611bf60>"
      ]
     },
     "execution_count": 325,
     "metadata": {},
     "output_type": "execute_result"
    },
    {
     "data": {
      "image/png": "[encoded data removed]",
      "text/plain": [
       "<matplotlib.figure.Figure at 0x10caeb320>"
      ]
     },
     "metadata": {},
     "output_type": "display_data"
    }
   ],
   "source": [
    "df2[['treeline_above', 'treeline_near', 'treeline_below']].plot()"
   ]
  },
  {
   "cell_type": "code",
   "execution_count": null,
   "metadata": {
    "collapsed": true
   },
   "outputs": [],
   "source": []
  }
 ],
 "metadata": {
  "kernelspec": {
   "display_name": "Python 3",
   "language": "python",
   "name": "python3"
  },
  "language_info": {
   "codemirror_mode": {
    "name": "ipython",
    "version": 3
   },
   "file_extension": ".py",
   "mimetype": "text/x-python",
   "name": "python",
   "nbconvert_exporter": "python",
   "pygments_lexer": "ipython3",
   "version": "3.5.0"
  },
  "toc": {
   "toc_cell": false,
   "toc_number_sections": true,
   "toc_threshold": 4,
   "toc_window_display": true
  }
 },
 "nbformat": 4,
 "nbformat_minor": 0
}
